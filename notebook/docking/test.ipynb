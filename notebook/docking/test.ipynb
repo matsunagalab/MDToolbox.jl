{
 "cells": [
  {
   "cell_type": "code",
   "execution_count": 1,
   "metadata": {},
   "outputs": [
    {
     "data": {
      "text/plain": [
       "8-element Array{Int64,1}:\n",
       " 2\n",
       " 3\n",
       " 4\n",
       " 5\n",
       " 6\n",
       " 7\n",
       " 8\n",
       " 9"
      ]
     },
     "execution_count": 1,
     "metadata": {},
     "output_type": "execute_result"
    }
   ],
   "source": [
    "using Distributed\n",
    "addprocs(8)"
   ]
  },
  {
   "cell_type": "code",
   "execution_count": 2,
   "metadata": {},
   "outputs": [
    {
     "name": "stderr",
     "output_type": "stream",
     "text": [
      "┌ Info: Precompiling Revise [295af30f-e4ad-537b-8983-00126c2a3abe]\n",
      "└ @ Base loading.jl:1278\n",
      "┌ Warning: no Manifest.toml file found, static paths used\n",
      "└ @ Revise /Users/yasu/.julia/packages/Revise/moD4B/src/packagedef.jl:1361\n",
      "┌ Info: Precompiling MDToolbox [7965e2f0-a35b-11e8-0207-19c030dd2def]\n",
      "└ @ Base loading.jl:1278\n"
     ]
    }
   ],
   "source": [
    "#@everywhere using DelimitedFiles\n",
    "#@everywhere using Revise, MDToolbox\n",
    "using DelimitedFiles\n",
    "using Revise, MDToolbox\n",
    "ENV[\"COLUMNS\"]=110; #display width for MDToolbox"
   ]
  },
  {
   "cell_type": "code",
   "execution_count": 3,
   "metadata": {},
   "outputs": [
    {
     "data": {
      "text/plain": [
       "1x440 TrjArray{Float64,Int64}\n",
       "| I                          | I                          |  …   I                          |\n",
       "| 1ASP                       | 1ASP                       |  …   56CYS                      |\n",
       "| 1801N                      | 1802CA                     |  …   2240OXT                    |\n",
       "|    64.86    34.03    29.79 |    65.13    34.96    28.68 |  …      51.32    20.79    29.47 |"
      ]
     },
     "execution_count": 3,
     "metadata": {},
     "output_type": "execute_result"
    }
   ],
   "source": [
    "receptor=readpdb(\"1cgi_receptor.pdb\")\n",
    "ligand=readpdb(\"1cgi_ligand.pdb\")"
   ]
  },
  {
   "cell_type": "code",
   "execution_count": 4,
   "metadata": {},
   "outputs": [
    {
     "data": {
      "text/plain": [
       "1x440 TrjArray{Float64,Int64}\n",
       "| I                          | I                          |  …   I                          |\n",
       "| 1ASP                       | 1ASP                       |  …   56CYS                      |\n",
       "| 1801N                      | 1802CA                     |  …   2240OXT                    |\n",
       "|    64.86    34.03    29.79 |    65.13    34.96    28.68 |  …      51.32    20.79    29.47 |"
      ]
     },
     "execution_count": 4,
     "metadata": {},
     "output_type": "execute_result"
    }
   ],
   "source": [
    "receptor =  MDToolbox.set_radius(receptor)\n",
    "ligand = MDToolbox.set_radius(ligand)"
   ]
  },
  {
   "cell_type": "code",
   "execution_count": 5,
   "metadata": {},
   "outputs": [
    {
     "data": {
      "text/plain": [
       "1x440 TrjArray{Float64,Int64}\n",
       "| I                          | I                          |  …   I                          |\n",
       "| 1ASP                       | 1ASP                       |  …   56CYS                      |\n",
       "| 1801N                      | 1802CA                     |  …   2240OXT                    |\n",
       "|    64.86    34.03    29.79 |    65.13    34.96    28.68 |  …      51.32    20.79    29.47 |"
      ]
     },
     "execution_count": 5,
     "metadata": {},
     "output_type": "execute_result"
    }
   ],
   "source": [
    "receptor = MDToolbox.compute_sasa(receptor, 1.4)\n",
    "ligand = MDToolbox.compute_sasa(ligand, 1.4)"
   ]
  },
  {
   "cell_type": "code",
   "execution_count": 6,
   "metadata": {},
   "outputs": [],
   "source": [
    "receptor2 = TrjArray(receptor, charge=receptor.sasa)\n",
    "writepdb(\"test.pdb\", receptor2)"
   ]
  },
  {
   "cell_type": "code",
   "execution_count": 7,
   "metadata": {},
   "outputs": [
    {
     "data": {
      "text/plain": [
       "(576, 4)"
      ]
     },
     "execution_count": 7,
     "metadata": {},
     "output_type": "execute_result"
    }
   ],
   "source": [
    "quaternions = readdlm(\"../data/quaternion/QUATERNION_LIST_576_Orient\");\n",
    "#quaternions = readdlm(\"../data/quaternion/QUATERNION_LIST_4608_Orient\");\n",
    "# quaternions = quaternions[1:10, :]\n",
    "# quaternions = quaternions[1:50, :]\n",
    "size(quaternions)"
   ]
  },
  {
   "cell_type": "code",
   "execution_count": 8,
   "metadata": {},
   "outputs": [
    {
     "data": {
      "text/plain": [
       "1.2"
      ]
     },
     "execution_count": 8,
     "metadata": {},
     "output_type": "execute_result"
    }
   ],
   "source": [
    "grid_space = 1.2"
   ]
  },
  {
   "cell_type": "code",
   "execution_count": 9,
   "metadata": {},
   "outputs": [
    {
     "name": "stderr",
     "output_type": "stream",
     "text": [
      "\u001b[32mProgress: 100%|█████████████████████████████████████████| Time: 0:28:58\u001b[39m\n"
     ]
    },
    {
     "name": "stdout",
     "output_type": "stream",
     "text": [
      "1770.430329 seconds (1.17 G allocations: 21.378 GiB, 0.26% gc time)\n"
     ]
    },
    {
     "data": {
      "text/plain": [
       "(receptor = 1x1799 TrjArray{Float64,Int64}\n",
       "| E                          | E                          |  …   E                          |\n",
       "| 1CYS                       | 1CYS                       |  …   245ASN                     |\n",
       "| 1N                         | 2CA                        |  …   1799OXT                    |\n",
       "|   -12.18    -5.01   -10.91 |   -11.54    -4.57    -9.66 |  …      -0.11     7.22   -20.89 |, ligand = 100x440 TrjArray{Float64,Int64}\n",
       "| I                          | I                          |  …   I                          |\n",
       "| 1ASP                       | 1ASP                       |  …   56CYS                      |\n",
       "| 1801N                      | 1802CA                     |  …   2240OXT                    |\n",
       "|   -40.63    22.93     4.07 |   -41.06    24.33     4.25 |  …     -23.79    16.20     9.54 |\n",
       "|    17.50    30.62    27.44 |    18.81    30.49    28.10 |          6.84    15.90    22.11 |\n",
       "|   -41.83    22.93     4.07 |   -42.26    24.33     4.25 |        -24.99    16.20     9.54 |\n",
       "|   -41.83    22.93     5.27 |   -42.26    24.33     5.45 |        -24.99    16.20    10.74 |\n",
       "|   -37.09    14.51    24.54 |   -38.43    14.04    24.97 |        -31.08    14.31     6.58 |\n",
       "|   -37.11    23.93   -23.34 |   -37.38    25.31   -23.77 |  …     -33.93    18.82    -5.38 |\n",
       "|   -38.31    22.73   -24.54 |   -38.58    24.11   -24.97 |        -35.13    17.62    -6.58 |\n",
       "|   -24.99   -23.95   -27.33 |   -26.46   -24.04   -27.30 |        -14.68   -15.10   -14.13 |\n",
       "|    21.27   -44.17   -17.61 |    21.05   -45.60   -17.31 |         23.40   -30.86    -4.30 |\n",
       "|    -1.69    41.49    31.42 |    -1.39    42.93    31.32 |          9.16    27.86    23.99 |\n",
       "|   -24.99   -22.75   -26.13 |   -26.46   -22.84   -26.10 |  …     -14.68   -13.90   -12.93 |\n",
       "|             ⋮              |             ⋮              |  ⋱               ⋮              |\n",
       "|    12.11    42.59    -2.21 |    12.91    43.57    -2.96 |         19.13    26.47     4.85 |\n",
       "|    40.92   -10.81    -5.17 |    41.77    -9.93    -6.00 |  …      21.98   -10.50    -5.38 |\n",
       "|    26.82    22.65    19.42 |    28.22    23.11    19.32 |         20.45     6.43    11.99 |\n",
       "|     0.01    43.32   -19.57 |    -0.87    44.17   -20.40 |         -0.30    24.38   -19.78 |\n",
       "|    13.02    48.00    -6.47 |    12.33    49.29    -6.65 |          5.87    31.33   -11.94 |\n",
       "|   -43.11    21.53   -14.94 |   -43.38    22.91   -15.37 |        -39.93    16.42     3.02 |\n",
       "|    54.46    -4.88   -12.91 |    55.28    -5.90   -12.23 |  …      39.43     3.56    -5.06 |\n",
       "|   -37.34   -19.27    17.05 |   -37.77   -19.80    18.36 |        -19.21   -17.11    12.00 |\n",
       "|   -37.09    13.31    24.54 |   -38.43    12.84    24.97 |        -31.08    13.11     6.58 |\n",
       "|    40.18    -6.34   -30.57 |    40.77    -7.29   -31.53 |         34.48   -11.12   -13.15 |\n",
       "|    25.35    30.23   -20.01 |    26.70    30.75   -19.71 |         12.76    25.42    -6.70 |, score = [189.00000000000077, 178.999999999998, 175.00000000000074, 171.00000000000114, 165.99999999999935, 165.00000000000222, 164.99999999999852, 164.9999999999958, 164.00000000000497, 163.99999999999972  …  150.9999999999974, 150.99999999999605, 150.0000000000088, 150.00000000000344, 150.0000000000028, 150.00000000000148, 150.00000000000108, 149.99999999999946, 149.9999999999987, 149.99999999999704], grid_RSC = Complex{Float64}[0.0 + 0.0im 0.0 + 0.0im … 0.0 + 0.0im 0.0 + 0.0im; 0.0 + 0.0im 0.0 + 0.0im … 0.0 + 0.0im 0.0 + 0.0im; … ; 0.0 + 0.0im 0.0 + 0.0im … 0.0 + 0.0im 0.0 + 0.0im; 0.0 + 0.0im 0.0 + 0.0im … 0.0 + 0.0im 0.0 + 0.0im]\n",
       "\n",
       "Complex{Float64}[0.0 + 0.0im 0.0 + 0.0im … 0.0 + 0.0im 0.0 + 0.0im; 0.0 + 0.0im 0.0 + 0.0im … 0.0 + 0.0im 0.0 + 0.0im; … ; 0.0 + 0.0im 0.0 + 0.0im … 0.0 + 0.0im 0.0 + 0.0im; 0.0 + 0.0im 0.0 + 0.0im … 0.0 + 0.0im 0.0 + 0.0im]\n",
       "\n",
       "Complex{Float64}[0.0 + 0.0im 0.0 + 0.0im … 0.0 + 0.0im 0.0 + 0.0im; 0.0 + 0.0im 0.0 + 0.0im … 0.0 + 0.0im 0.0 + 0.0im; … ; 0.0 + 0.0im 0.0 + 0.0im … 0.0 + 0.0im 0.0 + 0.0im; 0.0 + 0.0im 0.0 + 0.0im … 0.0 + 0.0im 0.0 + 0.0im]\n",
       "\n",
       "...\n",
       "\n",
       "Complex{Float64}[0.0 + 0.0im 0.0 + 0.0im … 0.0 + 0.0im 0.0 + 0.0im; 0.0 + 0.0im 0.0 + 0.0im … 0.0 + 0.0im 0.0 + 0.0im; … ; 0.0 + 0.0im 0.0 + 0.0im … 0.0 + 0.0im 0.0 + 0.0im; 0.0 + 0.0im 0.0 + 0.0im … 0.0 + 0.0im 0.0 + 0.0im]\n",
       "\n",
       "Complex{Float64}[0.0 + 0.0im 0.0 + 0.0im … 0.0 + 0.0im 0.0 + 0.0im; 0.0 + 0.0im 0.0 + 0.0im … 0.0 + 0.0im 0.0 + 0.0im; … ; 0.0 + 0.0im 0.0 + 0.0im … 0.0 + 0.0im 0.0 + 0.0im; 0.0 + 0.0im 0.0 + 0.0im … 0.0 + 0.0im 0.0 + 0.0im]\n",
       "\n",
       "Complex{Float64}[0.0 + 0.0im 0.0 + 0.0im … 0.0 + 0.0im 0.0 + 0.0im; 0.0 + 0.0im 0.0 + 0.0im … 0.0 + 0.0im 0.0 + 0.0im; … ; 0.0 + 0.0im 0.0 + 0.0im … 0.0 + 0.0im 0.0 + 0.0im; 0.0 + 0.0im 0.0 + 0.0im … 0.0 + 0.0im 0.0 + 0.0im], grid_LSC = Complex{Float64}[0.0 + 0.0im 0.0 + 0.0im … 0.0 + 0.0im 0.0 + 0.0im; 0.0 + 0.0im 0.0 + 0.0im … 0.0 + 0.0im 0.0 + 0.0im; … ; 0.0 + 0.0im 0.0 + 0.0im … 0.0 + 0.0im 0.0 + 0.0im; 0.0 + 0.0im 0.0 + 0.0im … 0.0 + 0.0im 0.0 + 0.0im]\n",
       "\n",
       "Complex{Float64}[0.0 + 0.0im 0.0 + 0.0im … 0.0 + 0.0im 0.0 + 0.0im; 0.0 + 0.0im 0.0 + 0.0im … 0.0 + 0.0im 0.0 + 0.0im; … ; 0.0 + 0.0im 0.0 + 0.0im … 0.0 + 0.0im 0.0 + 0.0im; 0.0 + 0.0im 0.0 + 0.0im … 0.0 + 0.0im 0.0 + 0.0im]\n",
       "\n",
       "Complex{Float64}[0.0 + 0.0im 0.0 + 0.0im … 0.0 + 0.0im 0.0 + 0.0im; 0.0 + 0.0im 0.0 + 0.0im … 0.0 + 0.0im 0.0 + 0.0im; … ; 0.0 + 0.0im 0.0 + 0.0im … 0.0 + 0.0im 0.0 + 0.0im; 0.0 + 0.0im 0.0 + 0.0im … 0.0 + 0.0im 0.0 + 0.0im]\n",
       "\n",
       "...\n",
       "\n",
       "Complex{Float64}[0.0 + 0.0im 0.0 + 0.0im … 0.0 + 0.0im 0.0 + 0.0im; 0.0 + 0.0im 0.0 + 0.0im … 0.0 + 0.0im 0.0 + 0.0im; … ; 0.0 + 0.0im 0.0 + 0.0im … 0.0 + 0.0im 0.0 + 0.0im; 0.0 + 0.0im 0.0 + 0.0im … 0.0 + 0.0im 0.0 + 0.0im]\n",
       "\n",
       "Complex{Float64}[0.0 + 0.0im 0.0 + 0.0im … 0.0 + 0.0im 0.0 + 0.0im; 0.0 + 0.0im 0.0 + 0.0im … 0.0 + 0.0im 0.0 + 0.0im; … ; 0.0 + 0.0im 0.0 + 0.0im … 0.0 + 0.0im 0.0 + 0.0im; 0.0 + 0.0im 0.0 + 0.0im … 0.0 + 0.0im 0.0 + 0.0im]\n",
       "\n",
       "Complex{Float64}[0.0 + 0.0im 0.0 + 0.0im … 0.0 + 0.0im 0.0 + 0.0im; 0.0 + 0.0im 0.0 + 0.0im … 0.0 + 0.0im 0.0 + 0.0im; … ; 0.0 + 0.0im 0.0 + 0.0im … 0.0 + 0.0im 0.0 + 0.0im; 0.0 + 0.0im 0.0 + 0.0im … 0.0 + 0.0im 0.0 + 0.0im])"
      ]
     },
     "execution_count": 9,
     "metadata": {},
     "output_type": "execute_result"
    }
   ],
   "source": [
    "@time result = MDToolbox.dock_fft(receptor, ligand, quaternions, grid_space=grid_space, tops=100)"
   ]
  },
  {
   "cell_type": "code",
   "execution_count": 17,
   "metadata": {},
   "outputs": [
    {
     "data": {
      "text/plain": [
       "100-element Array{Float64,1}:\n",
       " 189.00000000000077\n",
       " 178.999999999998\n",
       " 175.00000000000074\n",
       " 171.00000000000114\n",
       " 165.99999999999935\n",
       " 165.00000000000222\n",
       " 164.99999999999852\n",
       " 164.9999999999958\n",
       " 164.00000000000497\n",
       " 163.99999999999972\n",
       " 163.99999999999812\n",
       " 163.99999999999773\n",
       " 163.99999999999739\n",
       "   ⋮\n",
       " 150.99999999999937\n",
       " 150.99999999999775\n",
       " 150.9999999999974\n",
       " 150.99999999999605\n",
       " 150.0000000000088\n",
       " 150.00000000000344\n",
       " 150.0000000000028\n",
       " 150.00000000000148\n",
       " 150.00000000000108\n",
       " 149.99999999999946\n",
       " 149.9999999999987\n",
       " 149.99999999999704"
      ]
     },
     "execution_count": 17,
     "metadata": {},
     "output_type": "execute_result"
    }
   ],
   "source": [
    "result.score"
   ]
  },
  {
   "cell_type": "code",
   "execution_count": 18,
   "metadata": {},
   "outputs": [
    {
     "data": {
      "text/plain": [
       "100x440 TrjArray{Float64,Int64}\n",
       "| I                          | I                          |  …   I                          |\n",
       "| 1ASP                       | 1ASP                       |  …   56CYS                      |\n",
       "| 1801N                      | 1802CA                     |  …   2240OXT                    |\n",
       "|   -40.63    22.93     4.07 |   -41.06    24.33     4.25 |  …     -23.79    16.20     9.54 |\n",
       "|    17.50    30.62    27.44 |    18.81    30.49    28.10 |          6.84    15.90    22.11 |\n",
       "|   -41.83    22.93     4.07 |   -42.26    24.33     4.25 |        -24.99    16.20     9.54 |\n",
       "|   -41.83    22.93     5.27 |   -42.26    24.33     5.45 |        -24.99    16.20    10.74 |\n",
       "|   -37.09    14.51    24.54 |   -38.43    14.04    24.97 |        -31.08    14.31     6.58 |\n",
       "|   -37.11    23.93   -23.34 |   -37.38    25.31   -23.77 |  …     -33.93    18.82    -5.38 |\n",
       "|   -38.31    22.73   -24.54 |   -38.58    24.11   -24.97 |        -35.13    17.62    -6.58 |\n",
       "|   -24.99   -23.95   -27.33 |   -26.46   -24.04   -27.30 |        -14.68   -15.10   -14.13 |\n",
       "|    21.27   -44.17   -17.61 |    21.05   -45.60   -17.31 |         23.40   -30.86    -4.30 |\n",
       "|    -1.69    41.49    31.42 |    -1.39    42.93    31.32 |          9.16    27.86    23.99 |\n",
       "|   -24.99   -22.75   -26.13 |   -26.46   -22.84   -26.10 |  …     -14.68   -13.90   -12.93 |\n",
       "|             ⋮              |             ⋮              |  ⋱               ⋮              |\n",
       "|    12.11    42.59    -2.21 |    12.91    43.57    -2.96 |         19.13    26.47     4.85 |\n",
       "|    40.92   -10.81    -5.17 |    41.77    -9.93    -6.00 |  …      21.98   -10.50    -5.38 |\n",
       "|    26.82    22.65    19.42 |    28.22    23.11    19.32 |         20.45     6.43    11.99 |\n",
       "|     0.01    43.32   -19.57 |    -0.87    44.17   -20.40 |         -0.30    24.38   -19.78 |\n",
       "|    13.02    48.00    -6.47 |    12.33    49.29    -6.65 |          5.87    31.33   -11.94 |\n",
       "|   -43.11    21.53   -14.94 |   -43.38    22.91   -15.37 |        -39.93    16.42     3.02 |\n",
       "|    54.46    -4.88   -12.91 |    55.28    -5.90   -12.23 |  …      39.43     3.56    -5.06 |\n",
       "|   -37.34   -19.27    17.05 |   -37.77   -19.80    18.36 |        -19.21   -17.11    12.00 |\n",
       "|   -37.09    13.31    24.54 |   -38.43    12.84    24.97 |        -31.08    13.11     6.58 |\n",
       "|    40.18    -6.34   -30.57 |    40.77    -7.29   -31.53 |         34.48   -11.12   -13.15 |\n",
       "|    25.35    30.23   -20.01 |    26.70    30.75   -19.71 |         12.76    25.42    -6.70 |"
      ]
     },
     "execution_count": 18,
     "metadata": {},
     "output_type": "execute_result"
    }
   ],
   "source": [
    "result.ligand"
   ]
  },
  {
   "cell_type": "code",
   "execution_count": 19,
   "metadata": {},
   "outputs": [],
   "source": [
    "writepdb(\"result_receptor.pdb\", result.receptor)\n",
    "writepdb(\"result_ligand.pdb\", result.ligand)"
   ]
  },
  {
   "cell_type": "code",
   "execution_count": 20,
   "metadata": {},
   "outputs": [
    {
     "data": {
      "text/plain": [
       "(229, 229)"
      ]
     },
     "execution_count": 20,
     "metadata": {},
     "output_type": "execute_result"
    }
   ],
   "source": [
    "size(result.grid_RSC[60, :, :])"
   ]
  },
  {
   "cell_type": "code",
   "execution_count": 21,
   "metadata": {},
   "outputs": [],
   "source": [
    "using Plots"
   ]
  },
  {
   "cell_type": "code",
   "execution_count": 28,
   "metadata": {},
   "outputs": [
    {
     "data": {
      "image/svg+xml": [
       "<?xml version=\"1.0\" encoding=\"utf-8\"?>\n",
       "<svg xmlns=\"http://www.w3.org/2000/svg\" xmlns:xlink=\"http://www.w3.org/1999/xlink\" width=\"600\" height=\"400\" viewBox=\"0 0 2400 1600\">\n",
       "<defs>\n",
       "  <clipPath id=\"clip640\">\n",
       "    <rect x=\"0\" y=\"0\" width=\"2400\" height=\"1600\"/>\n",
       "  </clipPath>\n",
       "</defs>\n",
       "<path clip-path=\"url(#clip640)\" d=\"\n",
       "M0 1600 L2400 1600 L2400 0 L0 0  Z\n",
       "  \" fill=\"#ffffff\" fill-rule=\"evenodd\" fill-opacity=\"1\"/>\n",
       "<defs>\n",
       "  <clipPath id=\"clip641\">\n",
       "    <rect x=\"480\" y=\"0\" width=\"1681\" height=\"1600\"/>\n",
       "  </clipPath>\n",
       "</defs>\n",
       "<path clip-path=\"url(#clip640)\" d=\"\n",
       "M162.964 1486.45 L2112.76 1486.45 L2112.76 47.2441 L162.964 47.2441  Z\n",
       "  \" fill=\"#ffffff\" fill-rule=\"evenodd\" fill-opacity=\"1\"/>\n",
       "<defs>\n",
       "  <clipPath id=\"clip642\">\n",
       "    <rect x=\"162\" y=\"47\" width=\"1951\" height=\"1440\"/>\n",
       "  </clipPath>\n",
       "</defs>\n",
       "<polyline clip-path=\"url(#clip642)\" style=\"stroke:#000000; stroke-width:2; stroke-opacity:0.1; fill:none\" points=\"\n",
       "  584.426,1486.45 584.426,47.2441 \n",
       "  \"/>\n",
       "<polyline clip-path=\"url(#clip642)\" style=\"stroke:#000000; stroke-width:2; stroke-opacity:0.1; fill:none\" points=\"\n",
       "  1010.14,1486.45 1010.14,47.2441 \n",
       "  \"/>\n",
       "<polyline clip-path=\"url(#clip642)\" style=\"stroke:#000000; stroke-width:2; stroke-opacity:0.1; fill:none\" points=\"\n",
       "  1435.86,1486.45 1435.86,47.2441 \n",
       "  \"/>\n",
       "<polyline clip-path=\"url(#clip642)\" style=\"stroke:#000000; stroke-width:2; stroke-opacity:0.1; fill:none\" points=\"\n",
       "  1861.58,1486.45 1861.58,47.2441 \n",
       "  \"/>\n",
       "<polyline clip-path=\"url(#clip640)\" style=\"stroke:#000000; stroke-width:4; stroke-opacity:1; fill:none\" points=\"\n",
       "  162.964,1486.45 2112.76,1486.45 \n",
       "  \"/>\n",
       "<polyline clip-path=\"url(#clip640)\" style=\"stroke:#000000; stroke-width:4; stroke-opacity:1; fill:none\" points=\"\n",
       "  584.426,1486.45 584.426,1469.18 \n",
       "  \"/>\n",
       "<polyline clip-path=\"url(#clip640)\" style=\"stroke:#000000; stroke-width:4; stroke-opacity:1; fill:none\" points=\"\n",
       "  1010.14,1486.45 1010.14,1469.18 \n",
       "  \"/>\n",
       "<polyline clip-path=\"url(#clip640)\" style=\"stroke:#000000; stroke-width:4; stroke-opacity:1; fill:none\" points=\"\n",
       "  1435.86,1486.45 1435.86,1469.18 \n",
       "  \"/>\n",
       "<polyline clip-path=\"url(#clip640)\" style=\"stroke:#000000; stroke-width:4; stroke-opacity:1; fill:none\" points=\"\n",
       "  1861.58,1486.45 1861.58,1469.18 \n",
       "  \"/>\n",
       "<path clip-path=\"url(#clip640)\" d=\"M 0 0 M561.196 1512.56 L579.553 1512.56 L579.553 1516.5 L565.479 1516.5 L565.479 1524.97 Q566.497 1524.62 567.516 1524.46 Q568.534 1524.27 569.553 1524.27 Q575.34 1524.27 578.72 1527.44 Q582.099 1530.62 582.099 1536.03 Q582.099 1541.61 578.627 1544.71 Q575.155 1547.79 568.835 1547.79 Q566.659 1547.79 564.391 1547.42 Q562.146 1547.05 559.738 1546.31 L559.738 1541.61 Q561.821 1542.74 564.044 1543.3 Q566.266 1543.86 568.743 1543.86 Q572.747 1543.86 575.085 1541.75 Q577.423 1539.64 577.423 1536.03 Q577.423 1532.42 575.085 1530.31 Q572.747 1528.21 568.743 1528.21 Q566.868 1528.21 564.993 1528.62 Q563.141 1529.04 561.196 1529.92 L561.196 1512.56 Z\" fill=\"#000000\" fill-rule=\"evenodd\" fill-opacity=\"1\" /><path clip-path=\"url(#clip640)\" d=\"M 0 0 M597.169 1515.64 Q593.557 1515.64 591.729 1519.2 Q589.923 1522.75 589.923 1529.87 Q589.923 1536.98 591.729 1540.55 Q593.557 1544.09 597.169 1544.09 Q600.803 1544.09 602.608 1540.55 Q604.437 1536.98 604.437 1529.87 Q604.437 1522.75 602.608 1519.2 Q600.803 1515.64 597.169 1515.64 M597.169 1511.93 Q602.979 1511.93 606.034 1516.54 Q609.113 1521.12 609.113 1529.87 Q609.113 1538.6 606.034 1543.21 Q602.979 1547.79 597.169 1547.79 Q591.358 1547.79 588.28 1543.21 Q585.224 1538.6 585.224 1529.87 Q585.224 1521.12 588.28 1516.54 Q591.358 1511.93 597.169 1511.93 Z\" fill=\"#000000\" fill-rule=\"evenodd\" fill-opacity=\"1\" /><path clip-path=\"url(#clip640)\" d=\"M 0 0 M973.513 1543.18 L981.151 1543.18 L981.151 1516.82 L972.841 1518.49 L972.841 1514.23 L981.105 1512.56 L985.781 1512.56 L985.781 1543.18 L993.42 1543.18 L993.42 1547.12 L973.513 1547.12 L973.513 1543.18 Z\" fill=\"#000000\" fill-rule=\"evenodd\" fill-opacity=\"1\" /><path clip-path=\"url(#clip640)\" d=\"M 0 0 M1008.49 1515.64 Q1004.88 1515.64 1003.05 1519.2 Q1001.24 1522.75 1001.24 1529.87 Q1001.24 1536.98 1003.05 1540.55 Q1004.88 1544.09 1008.49 1544.09 Q1012.12 1544.09 1013.93 1540.55 Q1015.76 1536.98 1015.76 1529.87 Q1015.76 1522.75 1013.93 1519.2 Q1012.12 1515.64 1008.49 1515.64 M1008.49 1511.93 Q1014.3 1511.93 1017.35 1516.54 Q1020.43 1521.12 1020.43 1529.87 Q1020.43 1538.6 1017.35 1543.21 Q1014.3 1547.79 1008.49 1547.79 Q1002.68 1547.79 999.6 1543.21 Q996.545 1538.6 996.545 1529.87 Q996.545 1521.12 999.6 1516.54 Q1002.68 1511.93 1008.49 1511.93 Z\" fill=\"#000000\" fill-rule=\"evenodd\" fill-opacity=\"1\" /><path clip-path=\"url(#clip640)\" d=\"M 0 0 M1035.5 1515.64 Q1031.89 1515.64 1030.06 1519.2 Q1028.26 1522.75 1028.26 1529.87 Q1028.26 1536.98 1030.06 1540.55 Q1031.89 1544.09 1035.5 1544.09 Q1039.14 1544.09 1040.94 1540.55 Q1042.77 1536.98 1042.77 1529.87 Q1042.77 1522.75 1040.94 1519.2 Q1039.14 1515.64 1035.5 1515.64 M1035.5 1511.93 Q1041.31 1511.93 1044.37 1516.54 Q1047.45 1521.12 1047.45 1529.87 Q1047.45 1538.6 1044.37 1543.21 Q1041.31 1547.79 1035.5 1547.79 Q1029.69 1547.79 1026.61 1543.21 Q1023.56 1538.6 1023.56 1529.87 Q1023.56 1521.12 1026.61 1516.54 Q1029.69 1511.93 1035.5 1511.93 Z\" fill=\"#000000\" fill-rule=\"evenodd\" fill-opacity=\"1\" /><path clip-path=\"url(#clip640)\" d=\"M 0 0 M1399.73 1543.18 L1407.37 1543.18 L1407.37 1516.82 L1399.06 1518.49 L1399.06 1514.23 L1407.32 1512.56 L1412 1512.56 L1412 1543.18 L1419.64 1543.18 L1419.64 1547.12 L1399.73 1547.12 L1399.73 1543.18 Z\" fill=\"#000000\" fill-rule=\"evenodd\" fill-opacity=\"1\" /><path clip-path=\"url(#clip640)\" d=\"M 0 0 M1424.75 1512.56 L1443.11 1512.56 L1443.11 1516.5 L1429.03 1516.5 L1429.03 1524.97 Q1430.05 1524.62 1431.07 1524.46 Q1432.09 1524.27 1433.11 1524.27 Q1438.9 1524.27 1442.28 1527.44 Q1445.65 1530.62 1445.65 1536.03 Q1445.65 1541.61 1442.18 1544.71 Q1438.71 1547.79 1432.39 1547.79 Q1430.21 1547.79 1427.95 1547.42 Q1425.7 1547.05 1423.29 1546.31 L1423.29 1541.61 Q1425.38 1542.74 1427.6 1543.3 Q1429.82 1543.86 1432.3 1543.86 Q1436.3 1543.86 1438.64 1541.75 Q1440.98 1539.64 1440.98 1536.03 Q1440.98 1532.42 1438.64 1530.31 Q1436.3 1528.21 1432.3 1528.21 Q1430.42 1528.21 1428.55 1528.62 Q1426.7 1529.04 1424.75 1529.92 L1424.75 1512.56 Z\" fill=\"#000000\" fill-rule=\"evenodd\" fill-opacity=\"1\" /><path clip-path=\"url(#clip640)\" d=\"M 0 0 M1460.72 1515.64 Q1457.11 1515.64 1455.28 1519.2 Q1453.48 1522.75 1453.48 1529.87 Q1453.48 1536.98 1455.28 1540.55 Q1457.11 1544.09 1460.72 1544.09 Q1464.36 1544.09 1466.16 1540.55 Q1467.99 1536.98 1467.99 1529.87 Q1467.99 1522.75 1466.16 1519.2 Q1464.36 1515.64 1460.72 1515.64 M1460.72 1511.93 Q1466.53 1511.93 1469.59 1516.54 Q1472.67 1521.12 1472.67 1529.87 Q1472.67 1538.6 1469.59 1543.21 Q1466.53 1547.79 1460.72 1547.79 Q1454.91 1547.79 1451.84 1543.21 Q1448.78 1538.6 1448.78 1529.87 Q1448.78 1521.12 1451.84 1516.54 Q1454.91 1511.93 1460.72 1511.93 Z\" fill=\"#000000\" fill-rule=\"evenodd\" fill-opacity=\"1\" /><path clip-path=\"url(#clip640)\" d=\"M 0 0 M1829.22 1543.18 L1845.54 1543.18 L1845.54 1547.12 L1823.6 1547.12 L1823.6 1543.18 Q1826.26 1540.43 1830.84 1535.8 Q1835.45 1531.15 1836.63 1529.81 Q1838.87 1527.28 1839.75 1525.55 Q1840.66 1523.79 1840.66 1522.1 Q1840.66 1519.34 1838.71 1517.61 Q1836.79 1515.87 1833.69 1515.87 Q1831.49 1515.87 1829.04 1516.63 Q1826.61 1517.4 1823.83 1518.95 L1823.83 1514.23 Q1826.65 1513.09 1829.11 1512.51 Q1831.56 1511.93 1833.6 1511.93 Q1838.97 1511.93 1842.16 1514.62 Q1845.36 1517.31 1845.36 1521.8 Q1845.36 1523.93 1844.54 1525.85 Q1843.76 1527.74 1841.65 1530.34 Q1841.07 1531.01 1837.97 1534.23 Q1834.87 1537.42 1829.22 1543.18 Z\" fill=\"#000000\" fill-rule=\"evenodd\" fill-opacity=\"1\" /><path clip-path=\"url(#clip640)\" d=\"M 0 0 M1860.61 1515.64 Q1857 1515.64 1855.17 1519.2 Q1853.36 1522.75 1853.36 1529.87 Q1853.36 1536.98 1855.17 1540.55 Q1857 1544.09 1860.61 1544.09 Q1864.24 1544.09 1866.05 1540.55 Q1867.88 1536.98 1867.88 1529.87 Q1867.88 1522.75 1866.05 1519.2 Q1864.24 1515.64 1860.61 1515.64 M1860.61 1511.93 Q1866.42 1511.93 1869.48 1516.54 Q1872.55 1521.12 1872.55 1529.87 Q1872.55 1538.6 1869.48 1543.21 Q1866.42 1547.79 1860.61 1547.79 Q1854.8 1547.79 1851.72 1543.21 Q1848.67 1538.6 1848.67 1529.87 Q1848.67 1521.12 1851.72 1516.54 Q1854.8 1511.93 1860.61 1511.93 Z\" fill=\"#000000\" fill-rule=\"evenodd\" fill-opacity=\"1\" /><path clip-path=\"url(#clip640)\" d=\"M 0 0 M1887.62 1515.64 Q1884.01 1515.64 1882.18 1519.2 Q1880.38 1522.75 1880.38 1529.87 Q1880.38 1536.98 1882.18 1540.55 Q1884.01 1544.09 1887.62 1544.09 Q1891.26 1544.09 1893.06 1540.55 Q1894.89 1536.98 1894.89 1529.87 Q1894.89 1522.75 1893.06 1519.2 Q1891.26 1515.64 1887.62 1515.64 M1887.62 1511.93 Q1893.43 1511.93 1896.49 1516.54 Q1899.57 1521.12 1899.57 1529.87 Q1899.57 1538.6 1896.49 1543.21 Q1893.43 1547.79 1887.62 1547.79 Q1881.81 1547.79 1878.73 1543.21 Q1875.68 1538.6 1875.68 1529.87 Q1875.68 1521.12 1878.73 1516.54 Q1881.81 1511.93 1887.62 1511.93 Z\" fill=\"#000000\" fill-rule=\"evenodd\" fill-opacity=\"1\" /><polyline clip-path=\"url(#clip642)\" style=\"stroke:#000000; stroke-width:2; stroke-opacity:0.1; fill:none\" points=\"\n",
       "  162.964,1175.35 2112.76,1175.35 \n",
       "  \"/>\n",
       "<polyline clip-path=\"url(#clip642)\" style=\"stroke:#000000; stroke-width:2; stroke-opacity:0.1; fill:none\" points=\"\n",
       "  162.964,861.117 2112.76,861.117 \n",
       "  \"/>\n",
       "<polyline clip-path=\"url(#clip642)\" style=\"stroke:#000000; stroke-width:2; stroke-opacity:0.1; fill:none\" points=\"\n",
       "  162.964,546.88 2112.76,546.88 \n",
       "  \"/>\n",
       "<polyline clip-path=\"url(#clip642)\" style=\"stroke:#000000; stroke-width:2; stroke-opacity:0.1; fill:none\" points=\"\n",
       "  162.964,232.644 2112.76,232.644 \n",
       "  \"/>\n",
       "<polyline clip-path=\"url(#clip640)\" style=\"stroke:#000000; stroke-width:4; stroke-opacity:1; fill:none\" points=\"\n",
       "  162.964,1486.45 162.964,47.2441 \n",
       "  \"/>\n",
       "<polyline clip-path=\"url(#clip640)\" style=\"stroke:#000000; stroke-width:4; stroke-opacity:1; fill:none\" points=\"\n",
       "  162.964,1175.35 186.361,1175.35 \n",
       "  \"/>\n",
       "<polyline clip-path=\"url(#clip640)\" style=\"stroke:#000000; stroke-width:4; stroke-opacity:1; fill:none\" points=\"\n",
       "  162.964,861.117 186.361,861.117 \n",
       "  \"/>\n",
       "<polyline clip-path=\"url(#clip640)\" style=\"stroke:#000000; stroke-width:4; stroke-opacity:1; fill:none\" points=\"\n",
       "  162.964,546.88 186.361,546.88 \n",
       "  \"/>\n",
       "<polyline clip-path=\"url(#clip640)\" style=\"stroke:#000000; stroke-width:4; stroke-opacity:1; fill:none\" points=\"\n",
       "  162.964,232.644 186.361,232.644 \n",
       "  \"/>\n",
       "<path clip-path=\"url(#clip640)\" d=\"M 0 0 M79.0475 1158.07 L97.4039 1158.07 L97.4039 1162.01 L83.3299 1162.01 L83.3299 1170.48 Q84.3484 1170.13 85.3669 1169.97 Q86.3855 1169.79 87.404 1169.79 Q93.191 1169.79 96.5706 1172.96 Q99.9502 1176.13 99.9502 1181.55 Q99.9502 1187.12 96.478 1190.23 Q93.0058 1193.3 86.6864 1193.3 Q84.5105 1193.3 82.242 1192.93 Q79.9966 1192.56 77.5892 1191.82 L77.5892 1187.12 Q79.6725 1188.26 81.8947 1188.81 Q84.1169 1189.37 86.5938 1189.37 Q90.5984 1189.37 92.9363 1187.26 Q95.2743 1185.16 95.2743 1181.55 Q95.2743 1177.93 92.9363 1175.83 Q90.5984 1173.72 86.5938 1173.72 Q84.7188 1173.72 82.8438 1174.14 Q80.992 1174.56 79.0475 1175.43 L79.0475 1158.07 Z\" fill=\"#000000\" fill-rule=\"evenodd\" fill-opacity=\"1\" /><path clip-path=\"url(#clip640)\" d=\"M 0 0 M115.02 1161.15 Q111.408 1161.15 109.58 1164.72 Q107.774 1168.26 107.774 1175.39 Q107.774 1182.49 109.58 1186.06 Q111.408 1189.6 115.02 1189.6 Q118.654 1189.6 120.459 1186.06 Q122.288 1182.49 122.288 1175.39 Q122.288 1168.26 120.459 1164.72 Q118.654 1161.15 115.02 1161.15 M115.02 1157.45 Q120.83 1157.45 123.885 1162.06 Q126.964 1166.64 126.964 1175.39 Q126.964 1184.12 123.885 1188.72 Q120.83 1193.3 115.02 1193.3 Q109.209 1193.3 106.131 1188.72 Q103.075 1184.12 103.075 1175.39 Q103.075 1166.64 106.131 1162.06 Q109.209 1157.45 115.02 1157.45 Z\" fill=\"#000000\" fill-rule=\"evenodd\" fill-opacity=\"1\" /><path clip-path=\"url(#clip640)\" d=\"M 0 0 M53.0292 874.462 L60.668 874.462 L60.668 848.096 L52.3579 849.763 L52.3579 845.504 L60.6217 843.837 L65.2976 843.837 L65.2976 874.462 L72.9365 874.462 L72.9365 878.397 L53.0292 878.397 L53.0292 874.462 Z\" fill=\"#000000\" fill-rule=\"evenodd\" fill-opacity=\"1\" /><path clip-path=\"url(#clip640)\" d=\"M 0 0 M88.0058 846.916 Q84.3947 846.916 82.566 850.48 Q80.7605 854.022 80.7605 861.152 Q80.7605 868.258 82.566 871.823 Q84.3947 875.365 88.0058 875.365 Q91.6401 875.365 93.4456 871.823 Q95.2743 868.258 95.2743 861.152 Q95.2743 854.022 93.4456 850.48 Q91.6401 846.916 88.0058 846.916 M88.0058 843.212 Q93.816 843.212 96.8715 847.818 Q99.9502 852.402 99.9502 861.152 Q99.9502 869.879 96.8715 874.485 Q93.816 879.068 88.0058 879.068 Q82.1957 879.068 79.117 874.485 Q76.0614 869.879 76.0614 861.152 Q76.0614 852.402 79.117 847.818 Q82.1957 843.212 88.0058 843.212 Z\" fill=\"#000000\" fill-rule=\"evenodd\" fill-opacity=\"1\" /><path clip-path=\"url(#clip640)\" d=\"M 0 0 M115.02 846.916 Q111.408 846.916 109.58 850.48 Q107.774 854.022 107.774 861.152 Q107.774 868.258 109.58 871.823 Q111.408 875.365 115.02 875.365 Q118.654 875.365 120.459 871.823 Q122.288 868.258 122.288 861.152 Q122.288 854.022 120.459 850.48 Q118.654 846.916 115.02 846.916 M115.02 843.212 Q120.83 843.212 123.885 847.818 Q126.964 852.402 126.964 861.152 Q126.964 869.879 123.885 874.485 Q120.83 879.068 115.02 879.068 Q109.209 879.068 106.131 874.485 Q103.075 869.879 103.075 861.152 Q103.075 852.402 106.131 847.818 Q109.209 843.212 115.02 843.212 Z\" fill=\"#000000\" fill-rule=\"evenodd\" fill-opacity=\"1\" /><path clip-path=\"url(#clip640)\" d=\"M 0 0 M54.0245 560.225 L61.6634 560.225 L61.6634 533.86 L53.3532 535.526 L53.3532 531.267 L61.6171 529.6 L66.293 529.6 L66.293 560.225 L73.9318 560.225 L73.9318 564.16 L54.0245 564.16 L54.0245 560.225 Z\" fill=\"#000000\" fill-rule=\"evenodd\" fill-opacity=\"1\" /><path clip-path=\"url(#clip640)\" d=\"M 0 0 M79.0475 529.6 L97.4039 529.6 L97.4039 533.536 L83.3299 533.536 L83.3299 542.008 Q84.3484 541.66 85.3669 541.498 Q86.3855 541.313 87.404 541.313 Q93.191 541.313 96.5706 544.485 Q99.9502 547.656 99.9502 553.072 Q99.9502 558.651 96.478 561.753 Q93.0058 564.832 86.6864 564.832 Q84.5105 564.832 82.242 564.461 Q79.9966 564.091 77.5892 563.35 L77.5892 558.651 Q79.6725 559.785 81.8947 560.341 Q84.1169 560.896 86.5938 560.896 Q90.5984 560.896 92.9363 558.79 Q95.2743 556.684 95.2743 553.072 Q95.2743 549.461 92.9363 547.355 Q90.5984 545.248 86.5938 545.248 Q84.7188 545.248 82.8438 545.665 Q80.992 546.082 79.0475 546.961 L79.0475 529.6 Z\" fill=\"#000000\" fill-rule=\"evenodd\" fill-opacity=\"1\" /><path clip-path=\"url(#clip640)\" d=\"M 0 0 M115.02 532.679 Q111.408 532.679 109.58 536.244 Q107.774 539.785 107.774 546.915 Q107.774 554.022 109.58 557.586 Q111.408 561.128 115.02 561.128 Q118.654 561.128 120.459 557.586 Q122.288 554.022 122.288 546.915 Q122.288 539.785 120.459 536.244 Q118.654 532.679 115.02 532.679 M115.02 528.975 Q120.83 528.975 123.885 533.582 Q126.964 538.165 126.964 546.915 Q126.964 555.642 123.885 560.248 Q120.83 564.832 115.02 564.832 Q109.209 564.832 106.131 560.248 Q103.075 555.642 103.075 546.915 Q103.075 538.165 106.131 533.582 Q109.209 528.975 115.02 528.975 Z\" fill=\"#000000\" fill-rule=\"evenodd\" fill-opacity=\"1\" /><path clip-path=\"url(#clip640)\" d=\"M 0 0 M56.6171 245.989 L72.9365 245.989 L72.9365 249.924 L50.9921 249.924 L50.9921 245.989 Q53.6541 243.234 58.2375 238.604 Q62.8439 233.952 64.0245 232.609 Q66.2698 230.086 67.1494 228.35 Q68.0522 226.59 68.0522 224.901 Q68.0522 222.146 66.1078 220.41 Q64.1865 218.674 61.0847 218.674 Q58.8856 218.674 56.4319 219.438 Q54.0014 220.202 51.2236 221.753 L51.2236 217.03 Q54.0477 215.896 56.5014 215.317 Q58.955 214.739 60.9921 214.739 Q66.3624 214.739 69.5568 217.424 Q72.7513 220.109 72.7513 224.6 Q72.7513 226.729 71.9411 228.651 Q71.1541 230.549 69.0476 233.141 Q68.4689 233.813 65.367 237.03 Q62.2652 240.225 56.6171 245.989 Z\" fill=\"#000000\" fill-rule=\"evenodd\" fill-opacity=\"1\" /><path clip-path=\"url(#clip640)\" d=\"M 0 0 M88.0058 218.442 Q84.3947 218.442 82.566 222.007 Q80.7605 225.549 80.7605 232.678 Q80.7605 239.785 82.566 243.35 Q84.3947 246.891 88.0058 246.891 Q91.6401 246.891 93.4456 243.35 Q95.2743 239.785 95.2743 232.678 Q95.2743 225.549 93.4456 222.007 Q91.6401 218.442 88.0058 218.442 M88.0058 214.739 Q93.816 214.739 96.8715 219.345 Q99.9502 223.928 99.9502 232.678 Q99.9502 241.405 96.8715 246.012 Q93.816 250.595 88.0058 250.595 Q82.1957 250.595 79.117 246.012 Q76.0614 241.405 76.0614 232.678 Q76.0614 223.928 79.117 219.345 Q82.1957 214.739 88.0058 214.739 Z\" fill=\"#000000\" fill-rule=\"evenodd\" fill-opacity=\"1\" /><path clip-path=\"url(#clip640)\" d=\"M 0 0 M115.02 218.442 Q111.408 218.442 109.58 222.007 Q107.774 225.549 107.774 232.678 Q107.774 239.785 109.58 243.35 Q111.408 246.891 115.02 246.891 Q118.654 246.891 120.459 243.35 Q122.288 239.785 122.288 232.678 Q122.288 225.549 120.459 222.007 Q118.654 218.442 115.02 218.442 M115.02 214.739 Q120.83 214.739 123.885 219.345 Q126.964 223.928 126.964 232.678 Q126.964 241.405 123.885 246.012 Q120.83 250.595 115.02 250.595 Q109.209 250.595 106.131 246.012 Q103.075 241.405 103.075 232.678 Q103.075 223.928 106.131 219.345 Q109.209 214.739 115.02 214.739 Z\" fill=\"#000000\" fill-rule=\"evenodd\" fill-opacity=\"1\" /><g clip-path=\"url(#clip642)\">\n",
       "<image width=\"1950\" height=\"1439\" xlink:href=\"data:image/png;base64,\n",
       "iVBORw0KGgoAAAANSUhEUgAAB54AAAWfCAYAAABz2lr6AAAgAElEQVR4nOzZwQnAMBDAsGvI/iun\n",
       "O8SPUpAm8N/PzD4DAAAAAAAAAJfW1wEAAAAAAAAA/JvxDAAAAAAAAEBiPAMAAAAAAACQGM8AAAAA\n",
       "AAAAJMYzAAAAAAAAAInxDAAAAAAAAEBiPAMAAAAAAACQGM8AAAAAAAAAJMYzAAAAAAAAAInxDAAA\n",
       "AAAAAEBiPAMAAAAAAACQGM8AAAAAAAAAJMYzAAAAAAAAAInxDAAAAAAAAEBiPAMAAAAAAACQGM8A\n",
       "AAAAAAAAJMYzAAAAAAAAAInxDAAAAAAAAEBiPAMAAAAAAACQGM8AAAAAAAAAJMYzAAAAAAAAAInx\n",
       "DAAAAAAAAEBiPAMAAAAAAACQGM8AAAAAAAAAJMYzAAAAAAAAAInxDAAAAAAAAEBiPAMAAAAAAACQ\n",
       "GM8AAAAAAAAAJMYzAAAAAAAAAInxDAAAAAAAAEBiPAMAAAAAAACQGM8AAAAAAAAAJMYzAAAAAAAA\n",
       "AInxDAAAAAAAAEBiPAMAAAAAAACQGM8AAAAAAAAAJMYzAAAAAAAAAInxDAAAAAAAAEBiPAMAAAAA\n",
       "AACQGM8AAAAAAAAAJMYzAAAAAAAAAInxDAAAAAAAAEBiPAMAAAAAAACQGM8AAAAAAAAAJMYzAAAA\n",
       "AAAAAInxDAAAAAAAAEBiPAMAAAAAAACQGM8AAAAAAAAAJMYzAAAAAAAAAInxDAAAAAAAAEBiPAMA\n",
       "AAAAAACQGM8AAAAAAAAAJMYzAAAAAAAAAInxDAAAAAAAAEBiPAMAAAAAAACQGM8AAAAAAAAAJMYz\n",
       "AAAAAAAAAInxDAAAAAAAAEBiPAMAAAAAAACQGM8AAAAAAAAAJMYzAAAAAAAAAInxDAAAAAAAAEBi\n",
       "PAMAAAAAAACQGM8AAAAAAAAAJMYzAAAAAAAAAInxDAAAAAAAAEBiPAMAAAAAAACQGM8AAAAAAAAA\n",
       "JMYzAAAAAAAAAInxDAAAAAAAAEBiPAMAAAAAAACQGM8AAAAAAAAAJMYzAAAAAAAAAInxDAAAAAAA\n",
       "AEBiPAMAAAAAAACQGM8AAAAAAAAAJMYzAAAAAAAAAInxDAAAAAAAAEBiPAMAAAAAAACQGM8AAAAA\n",
       "AAAAJMYzAAAAAAAAAInxDAAAAAAAAEBiPAMAAAAAAACQGM8AAAAAAAAAJMYzAAAAAAAAAInxDAAA\n",
       "AAAAAEBiPAMAAAAAAACQGM8AAAAAAAAAJMYzAAAAAAAAAInxDAAAAAAAAEBiPAMAAAAAAACQGM8A\n",
       "AAAAAAAAJMYzAAAAAAAAAInxDAAAAAAAAEBiPAMAAAAAAACQGM8AAAAAAAAAJMYzAAAAAAAAAInx\n",
       "DAAAAAAAAEBiPAMAAAAAAACQGM8AAAAAAAAAJMYzAAAAAAAAAInxDAAAAAAAAEBiPAMAAAAAAACQ\n",
       "GM8AAAAAAAAAJMYzAAAAAAAAAInxDAAAAAAAAEBiPAMAAAAAAACQGM8AAAAAAAAAJMYzAAAAAAAA\n",
       "AInxDAAAAAAAAEBiPAMAAAAAAACQGM8AAAAAAAAAJMYzAAAAAAAAAInxDAAAAAAAAEBiPAMAAAAA\n",
       "AACQGM8AAAAAAAAAJMYzAAAAAAAAAInxDAAAAAAAAEBiPAMAAAAAAACQGM8AAAAAAAAAJMYzAAAA\n",
       "AAAAAInxDAAAAAAAAEBiPAMAAAAAAACQGM8AAAAAAAAAJMYzAAAAAAAAAInxDAAAAAAAAEBiPAMA\n",
       "AAAAAACQGM8AAAAAAAAAJMYzAAAAAAAAAInxDAAAAAAAAEBiPAMAAAAAAACQGM8AAAAAAAAAJMYz\n",
       "AAAAAAAAAInxDAAAAAAAAEBiPAMAAAAAAACQGM8AAAAAAAAAJMYzAAAAAAAAAInxDAAAAAAAAEBi\n",
       "PAMAAAAAAACQGM8AAAAAAAAAJMYzAAAAAAAAAInxDAAAAAAAAEBiPAMAAAAAAACQGM8AAAAAAAAA\n",
       "JMYzAAAAAAAAAInxDAAAAAAAAEBiPAMAAAAAAACQGM8AAAAAAAAAJMYzAAAAAAAAAInxDAAAAAAA\n",
       "AEBiPAMAAAAAAACQGM8AAAAAAAAAJMYzAAAAAAAAAInxDAAAAAAAAEBiPAMAAAAAAACQGM8AAAAA\n",
       "AAAAJMYzAAAAAAAAAInxDAAAAAAAAEBiPAMAAAAAAACQGM8AAAAAAAAAJMYzAAAAAAAAAInxDAAA\n",
       "AAAAAEBiPAMAAAAAAACQGM8AAAAAAAAAJMYzAAAAAAAAAInxDAAAAAAAAEBiPAMAAAAAAACQGM8A\n",
       "AAAAAAAAJMYzAAAAAAAAAInxDAAAAAAAAEBiPAMAAAAAAACQGM8AAAAAAAAAJMYzAAAAAAAAAInx\n",
       "DAAAAAAAAEBiPAMAAAAAAACQGM8AAAAAAAAAJMYzAAAAAAAAAInxDAAAAAAAAEBiPAMAAAAAAACQ\n",
       "GM8AAAAAAAAAJMYzAAAAAAAAAInxDAAAAAAAAEBiPAMAAAAAAACQGM8AAAAAAAAAJMYzAAAAAAAA\n",
       "AInxDAAAAAAAAEBiPAMAAAAAAACQGM8AAAAAAAAAJMYzAAAAAAAAAInxDAAAAAAAAEBiPAMAAAAA\n",
       "AACQGM8AAAAAAAAAJMYzAAAAAAAAAInxDAAAAAAAAEBiPAMAAAAAAACQGM8AAAAAAAAAJMYzAAAA\n",
       "AAAAAInxDAAAAAAAAEBiPAMAAAAAAACQGM8AAAAAAAAAJMYzAAAAAAAAAInxDAAAAAAAAEBiPAMA\n",
       "AAAAAACQGM8AAAAAAAAAJMYzAAAAAAAAAInxDAAAAAAAAEBiPAMAAAAAAACQGM8AAAAAAAAAJMYz\n",
       "AAAAAAAAAInxDAAAAAAAAEBiPAMAAAAAAACQGM8AAAAAAAAAJMYzAAAAAAAAAInxDAAAAAAAAEBi\n",
       "PAMAAAAAAACQGM8AAAAAAAAAJMYzAAAAAAAAAInxDAAAAAAAAEBiPAMAAAAAAACQGM8AAAAAAAAA\n",
       "JMYzAAAAAAAAAInxDAAAAAAAAEBiPAMAAAAAAACQGM8AAAAAAAAAJMYzAAAAAAAAAInxDAAAAAAA\n",
       "AEBiPAMAAAAAAACQGM8AAAAAAAAAJMYzAAAAAAAAAInxDAAAAAAAAEBiPAMAAAAAAACQGM8AAAAA\n",
       "AAAAJMYzAAAAAAAAAInxDAAAAAAAAEBiPAMAAAAAAACQGM8AAAAAAAAAJMYzAAAAAAAAAInxDAAA\n",
       "AAAAAEBiPAMAAAAAAACQGM8AAAAAAAAAJMYzAAAAAAAAAInxDAAAAAAAAEBiPAMAAAAAAACQGM8A\n",
       "AAAAAAAAJMYzAAAAAAAAAInxDAAAAAAAAEBiPAMAAAAAAACQGM8AAAAAAAAAJMYzAAAAAAAAAInx\n",
       "DAAAAAAAAEBiPAMAAAAAAACQGM8AAAAAAAAAJMYzAAAAAAAAAInxDAAAAAAAAEBiPAMAAAAAAACQ\n",
       "GM8AAAAAAAAAJMYzAAAAAAAAAInxDAAAAAAAAEBiPAMAAAAAAACQGM8AAAAAAAAAJMYzAAAAAAAA\n",
       "AInxDAAAAAAAAEBiPAMAAAAAAACQGM8AAAAAAAAAJMYzAAAAAAAAAInxDAAAAAAAAEBiPAMAAAAA\n",
       "AACQGM8AAAAAAAAAJMYzAAAAAAAAAInxDAAAAAAAAEBiPAMAAAAAAACQGM8AAAAAAAAAJMYzAAAA\n",
       "AAAAAInxDAAAAAAAAEBiPAMAAAAAAACQGM8AAAAAAAAAJMYzAAAAAAAAAInxDAAAAAAAAEBiPAMA\n",
       "AAAAAACQGM8AAAAAAAAAJMYzAAAAAAAAAInxDAAAAAAAAEBiPAMAAAAAAACQGM8AAAAAAAAAJMYz\n",
       "AAAAAAAAAInxDAAAAAAAAEBiPAMAAAAAAACQGM8AAAAAAAAAJMYzAAAAAAAAAInxDAAAAAAAAEBi\n",
       "PAMAAAAAAACQGM8AAAAAAAAAJMYzAAAAAAAAAInxDAAAAAAAAEBiPAMAAAAAAACQGM8AAAAAAAAA\n",
       "JMYzAAAAAAAAAInxDAAAAAAAAEBiPAMAAAAAAACQGM8AAAAAAAAAJMYzAAAAAAAAAInxDAAAAAAA\n",
       "AEBiPAMAAAAAAACQGM8AAAAAAAAAJMYzAAAAAAAAAInxDAAAAAAAAEBiPAMAAAAAAACQGM8AAAAA\n",
       "AAAAJMYzAAAAAAAAAInxDAAAAAAAAEBiPAMAAAAAAACQGM8AAAAAAAAAJMYzAAAAAAAAAInxDAAA\n",
       "AAAAAEBiPAMAAAAAAACQGM8AAAAAAAAAJMYzAAAAAAAAAInxDAAAAAAAAEBiPAMAAAAAAACQGM8A\n",
       "AAAAAAAAJMYzAAAAAAAAAInxDAAAAAAAAEBiPAMAAAAAAACQGM8AAAAAAAAAJMYzAAAAAAAAAInx\n",
       "DAAAAAAAAEBiPAMAAAAAAACQGM8AAAAAAAAAJMYzAAAAAAAAAInxDAAAAAAAAEBiPAMAAAAAAACQ\n",
       "GM8AAAAAAAAAJMYzAAAAAAAAAInxDAAAAAAAAEBiPAMAAAAAAACQGM8AAAAAAAAAJMYzAAAAAAAA\n",
       "AInxDAAAAAAAAEBiPAMAAAAAAACQGM8AAAAAAAAAJMYzAAAAAAAAAInxDAAAAAAAAEBiPAMAAAAA\n",
       "AACQGM8AAAAAAAAAJMYzAAAAAAAAAInxDAAAAAAAAEBiPAMAAAAAAACQGM8AAAAAAAAAJMYzAAAA\n",
       "AAAAAInxDAAAAAAAAEBiPAMAAAAAAACQGM8AAAAAAAAAJMYzAAAAAAAAAInxDAAAAAAAAEBiPAMA\n",
       "AAAAAACQGM8AAAAAAAAAJMYzAAAAAAAAAInxDAAAAAAAAEBiPAMAAAAAAACQGM8AAAAAAAAAJMYz\n",
       "AAAAAAAAAInxDAAAAAAAAEBiPAMAAAAAAACQGM8AAAAAAAAAJMYzAAAAAAAAAInxDAAAAAAAAEBi\n",
       "PAMAAAAAAACQGM8AAAAAAAAAJMYzAAAAAAAAAInxDAAAAAAAAEBiPAMAAAAAAACQGM8AAAAAAAAA\n",
       "JMYzAAAAAAAAAInxDAAAAAAAAEBiPAMAAAAAAACQGM8AAAAAAAAAJMYzAAAAAAAAAInxDAAAAAAA\n",
       "AEBiPAMAAAAAAACQGM8AAAAAAAAAJMYzAAAAAAAAAInxDAAAAAAAAEBiPAMAAAAAAACQGM8AAAAA\n",
       "AAAAJMYzAAAAAAAAAInxDAAAAAAAAEBiPAMAAAAAAACQGM8AAAAAAAAAJMYzAAAAAAAAAInxDAAA\n",
       "AAAAAEBiPAMAAAAAAACQGM8AAAAAAAAAJMYzAAAAAAAAAInxDAAAAAAAAEBiPAMAAAAAAACQGM8A\n",
       "AAAAAAAAJMYzAAAAAAAAAInxDAAAAAAAAEBiPAMAAAAAAACQGM8AAAAAAAAAJMYzAAAAAAAAAInx\n",
       "DAAAAAAAAEBiPAMAAAAAAACQGM8AAAAAAAAAJMYzAAAAAAAAAInxDAAAAAAAAEBiPAMAAAAAAACQ\n",
       "GM8AAAAAAAAAJMYzAAAAAAAAAInxDAAAAAAAAEBiPAMAAAAAAACQGM8AAAAAAAAAJMYzAAAAAAAA\n",
       "AInxDAAAAAAAAEBiPAMAAAAAAACQGM8AAAAAAAAAJMYzAAAAAAAAAInxDAAAAAAAAEBiPAMAAAAA\n",
       "AACQGM8AAAAAAAAAJMYzAAAAAAAAAInxDAAAAAAAAEBiPAMAAAAAAACQGM8AAAAAAAAAJMYzAAAA\n",
       "AAAAAInxDAAAAAAAAEBiPAMAAAAAAACQGM8AAAAAAAAAJMYzAAAAAAAAAInxDAAAAAAAAEBiPAMA\n",
       "AAAAAACQGM8AAAAAAAAAJMYzAAAAAAAAAInxDAAAAAAAAEBiPAMAAAAAAACQGM8AAAAAAAAAJMYz\n",
       "AAAAAAAAAInxDAAAAAAAAEBiPAMAAAAAAACQGM8AAAAAAAAAJMYzAAAAAAAAAInxDAAAAAAAAEBi\n",
       "PAMAAAAAAACQGM8AAAAAAAAAJMYzAAAAAAAAAInxDAAAAAAAAEBiPAMAAAAAAACQGM8AAAAAAAAA\n",
       "JMYzAAAAAAAAAInxDAAAAAAAAEBiPAMAAAAAAACQGM8AAAAAAAAAJMYzAAAAAAAAAInxDAAAAAAA\n",
       "AEBiPAMAAAAAAACQGM8AAAAAAAAAJMYzAAAAAAAAAInxDAAAAAAAAEBiPAMAAAAAAACQGM8AAAAA\n",
       "AAAAJMYzAAAAAAAAAInxDAAAAAAAAEBiPAMAAAAAAACQGM8AAAAAAAAAJMYzAAAAAAAAAInxDAAA\n",
       "AAAAAEBiPAMAAAAAAACQGM8AAAAAAAAAJMYzAAAAAAAAAInxDAAAAAAAAEBiPAMAAAAAAACQGM8A\n",
       "AAAAAAAAJMYzAAAAAAAAAInxDAAAAAAAAEBiPAMAAAAAAACQGM8AAAAAAAAAJMYzAAAAAAAAAInx\n",
       "DAAAAAAAAEBiPAMAAAAAAACQGM8AAAAAAAAAJMYzAAAAAAAAAInxDAAAAAAAAEBiPAMAAAAAAACQ\n",
       "GM8AAAAAAAAAJMYzAAAAAAAAAInxDAAAAAAAAEBiPAMAAAAAAACQGM8AAAAAAAAAJMYzAAAAAAAA\n",
       "AInxDAAAAAAAAEBiPAMAAAAAAACQGM8AAAAAAAAAJMYzAAAAAAAAAInxDAAAAAAAAEBiPAMAAAAA\n",
       "AACQGM8AAAAAAAAAJMYzAAAAAAAAAInxDAAAAAAAAEBiPAMAAAAAAACQGM8AAAAAAAAAJMYzAAAA\n",
       "AAAAAInxDAAAAAAAAEBiPAMAAAAAAACQGM8AAAAAAAAAJMYzAAAAAAAAAInxDAAAAAAAAEBiPAMA\n",
       "AAAAAACQGM8AAAAAAAAAJMYzAAAAAAAAAInxDAAAAAAAAEBiPAMAAAAAAACQGM8AAAAAAAAAJMYz\n",
       "AAAAAAAAAInxDAAAAAAAAEBiPAMAAAAAAACQGM8AAAAAAAAAJMYzAAAAAAAAAInxDAAAAAAAAEBi\n",
       "PAMAAAAAAACQGM8AAAAAAAAAJMYzAAAAAAAAAInxDAAAAAAAAEBiPAMAAAAAAACQGM8AAAAAAAAA\n",
       "JMYzAAAAAAAAAInxDAAAAAAAAEBiPAMAAAAAAACQGM8AwMu+HeS6imQBFAQpF8rSWCgSPWyVSvXw\n",
       "/4cH2I6YYiWXBI+OEgAAAAAAEuEZAAAAAAAAgER4BgAAAAAAACARngEAAAAAAABIhGcAAAAAAAAA\n",
       "EuEZAAAAAAAAgER4BgAAAAAAACARngEAAAAAAABIhGcAAAAAAAAAEuEZAAAAAAAAgER4BgAAAAAA\n",
       "ACARngEAAAAAAABIhGcAAAAAAAAAEuEZAAAAAAAAgER4BgAAAAAAACARngEAAAAAAABIhGcAAAAA\n",
       "AAAAEuEZAAAAAAAAgER4BgAAAAAAACARngEAAAAAAABIhGcAAAAAAAAAEuEZAAAAAAAAgER4BgAA\n",
       "AAAAACARngEAAAAAAABIhGcAAAAAAAAAEuEZAAAAAAAAgER4BgAAAAAAACARngEAAAAAAABIhGcA\n",
       "AAAAAAAAEuEZAAAAAAAAgER4BgAAAAAAACARngEAAAAAAABIhGcAAAAAAAAAEuEZAAAAAAAAgER4\n",
       "BgAAAAAAACARngEAAAAAAABIhGcAAAAAAAAAEuEZAAAAAAAAgER4BgAAAAAAACARngEAAAAAAABI\n",
       "hGcAAAAAAAAAEuEZAAAAAAAAgER4BgAAAAAAACARngEAAAAAAABIhGcAAAAAAAAAEuEZAAAAAAAA\n",
       "gER4BgAAAAAAACARngEAAAAAAABIhGcAAAAAAAAAEuEZAAAAAAAAgER4BgAAAAAAACARngEAAAAA\n",
       "AABIhGcAAAAAAAAAEuEZAAAAAAAAgER4BgAAAAAAACARngEAAAAAAABIhGcAAAAAAAAAEuEZAAAA\n",
       "AAAAgER4BgAAAAAAACARngEAAAAAAABIhGcAAAAAAAAAEuEZAAAAAAAAgER4BgAAAAAAACARngEA\n",
       "AAAAAABIhGcAAAAAAAAAEuEZAAAAAAAAgER4BgAAAAAAACARngEAAAAAAABIhGcAAAAAAAAAEuEZ\n",
       "AAAAAAAAgER4BgAAAAAAACARngEAAAAAAABIhGcAAAAAAAAAEuEZAAAAAAAAgER4BgAAAAAAACAR\n",
       "ngEAAAAAAABIhGcAAAAAAAAAEuEZAAAAAAAAgER4BgAAAAAAACARngEAAAAAAABIhGcAAAAAAAAA\n",
       "EuEZAAAAAAAAgGTcPQAAAADw+bZ9PfzNmJdfnwMAAIDf4cQzAAAAAAAAAInwDAAAAAAAAEAiPAMA\n",
       "AAAAAACQCM8AAAAAAAAAJMIzAAAAAAAAAMm4ewAAAAD4Vtu+5jXGvOQ1znDGswAAAPC+nHgGAAAA\n",
       "AAAAIBGeAQAAAAAAAEiEZwAAAAAAAAAS4RkAAAAAAACARHgGAAAAAAAAIBGeAQAAAAAAAEjmaRr7\n",
       "3UMAAADAp9n29e4RpmmapjEvl9zn254XAACAf3LiGQAAAAAAAIBEeAYAAAAAAAAgEZ4BAAAAAAAA\n",
       "SIRnAAAAAAAAABLhGQAAAAAAAIBknqax3z0EAADAt9r29ZL7jHm55D7831Xv9gxXfB9P2Q//BQAA\n",
       "gN/hxDMAAAAAAAAAifAMAAAAAAAAQCI8AwAAAAAAAJAIzwAAAAAAAAAkwjMAAAAAAAAAybh7AAAA\n",
       "gE+27WteY8xLXuOT2NPzHe2p/QIAAOCIE88AAAAAAAAAJMIzAAAAAAAAAInwDAAAAAAAAEAiPAMA\n",
       "AAAAAACQCM8AAAAAAAAAJOPuAQAAAPjZtq8/Xh/zktd4xSv3qc6Y84z7XLWnR86Y4ynP8m3e5T8H\n",
       "AABwFieeAQAAAAAAAEiEZwAAAAAAAAAS4RkAAAAAAACARHgGAAAAAAAAIBGeAQAAAAAAAEiEZwAA\n",
       "AAAAAACSeZrGfvcQAAAA72jb10vuM+blEXN8kqM9fcUZ+/5J7/Ype3qGp7yXM/YUAADgKk48AwAA\n",
       "AAAAAJAIzwAAAAAAAAAkwjMAAAAAAAAAifAMAAAAAAAAQCI8AwAAAAAAAJDM0zT2u4cAAAC42rav\n",
       "d48AH2XMS17j2/6XZ+wZAADAUzjxDAAAAAAAAEAiPAMAAAAAAACQCM8AAAAAAAAAJMIzAAAAAAAA\n",
       "AInwDAAAAAAAAEAy7h4AAADgT237evcI8FHGvPz6PT7pf3vFfgEAALwbJ54BAAAAAAAASIRnAAAA\n",
       "AAAAABLhGQAAAAAAAIBEeAYAAAAAAAAgEZ4BAAAAAAAASIRnAAAAAAAAAJJ5msZ+9xAAAABn2vb1\n",
       "7hH4D2Ne8hqf9H6P9uObnvUqZ+zpU54FAADgSZx4BgAAAAAAACARngEAAAAAAABIhGcAAAAAAAAA\n",
       "EuEZAAAAAAAAgER4BgAAAAAAACCZp2nsdw8BAADwRNu+/nh9zMsj5ngK+/FPr+zHuzzLJ7nqOwUA\n",
       "APg2TjwDAAAAAAAAkAjPAAAAAAAAACTCMwAAAAAAAACJ8AwAAAAAAABAIjwDAAAAAAAAkIy7BwAA\n",
       "AHiqMS+/fo9tX/Mcr6xxhiv2g/O98t6u+oYAAAD4XE48AwAAAAAAAJAIzwAAAAAAAAAkwjMAAAAA\n",
       "AAAAifAMAAAAAAAAQCI8AwAAAAAAAJCMuwcAAADgZ9u+/nh9zEte4wyv3OOVWT/FGfvxSXt6xpxX\n",
       "fMcAAAD8HSeeAQAAAAAAAEiEZwAAAAAAAAAS4RkAAAAAAACARHgGAAAAAAAAIBGeAQAAAAAAAEiE\n",
       "ZwAAAAAAAACSeZrGfvcQAAAAPN+2r79+jzEveY1X5jy6zxXPetUcr+zpVc975Iz3DwAAwD2ceAYA\n",
       "AAAAAAAgEZ4BAAAAAAAASIRnAAAAAAAAABLhGQAAAAAAAIBEeAYAAAAAAAAgmadp7HcPAQAAwL22\n",
       "fb3kPmNeHjEH7+no+5mm42/olTUAAAD4c048AwAAAAAAAJAIzwAAAAAAAAAkwjMAAAAAAAAAifAM\n",
       "AAAAAAAAQCI8AwAAAAAAAJCMuwcAAAD4ZNu+/nh9zMsj5jjDVc8CAAAAPI8TzwAAAAAAAAAkwjMA\n",
       "AAAAAAAAifAMAAAAAAAAQCI8AwAAAAAAAJAIzwAAAAAAAAAkwjMAAAAAAAAAyTxNY797CAAAgHe0\n",
       "7evdI/CXxrz8eP3b3u3RfgAAAMARJ54BAAAAAAAASIRnAAAAAAAAABLhGQAAAAAAAIBEeAYAAAAA\n",
       "AAAgEZ4BAAAAAAAASOZpGvvdQwAAAPDftn29ewQ+3JiXH69f9Q0ezfGKM2Y9Yw4AAIBv48QzAAAA\n",
       "AAAAAInwDAAAAAAAAEAiPAMAAAAAAACQCM8AAAAAAAAAJMIzAAAAAAAAAMm4ewAAAADuN+bl8Dfb\n",
       "vv76HPy5V97dkae826M5znhWAAAAfocTzwAAAAAAAAAkwjMAAAAAAAAAifAMAAAAAAAAQCI8AwAA\n",
       "AAAAAJAIzwAAAAAAAAAk8zSN/e4hAAAAnmjb1x+vj3m5ZI4jR3N+m1feyzft2Sftx1P+cwAAAPyb\n",
       "E88AAAAAAAAAJMIzAAAAAAAAAInwDAAAAAAAAEAiPAMAAAAAAACQCM8AAAAAAAAAJMIzAAAAAAAA\n",
       "AMk8TWO/ewgAAIAn2vY1rzHmJa9x5Iw5v83Re7Gn97ji/wIAAMDvcOIZAAAAAAAAgER4BgAAAAAA\n",
       "ACARngEAAAAAAABIhGcAAAAAAAAAEuEZAAAAAAAAgGTcPQAAAMA32/b17hG+0hX7PublEXO8k6P9\n",
       "eGVPAQAAuIcTzwAAAAAAAAAkwjMAAAAAAAAAifAMAAAAAAAAQCI8AwAAAAAAAJAIzwAAAAAAAAAk\n",
       "4+4BAAAAnmrMS15j29e8xpFX5jxjjqP7XPGs/Lmrvo8rvDLnGf9bAAAA/pwTzwAAAAAAAAAkwjMA\n",
       "AAAAAAAAifAMAAAAAAAAQCI8AwAAAAAAAJAIzwAAAAAAAAAkwjMAAAAAAAAAyTxNY797CAAAgE+1\n",
       "7evdI5xmzEte45P241085b29MscV38cZ+wEAAMC/OfEMAAAAAAAAQCI8AwAAAAAAAJAIzwAAAAAA\n",
       "AAAkwjMAAAAAAAAAifAMAAAAAAAAQDLuHgAAAICfjXn58fq2r5fMcdV9jjxlP65w9KzT9D7P+y5z\n",
       "AgAA8HeceAYAAAAAAAAgEZ4BAAAAAAAASHVyjkAAABqOSURBVIRnAAAAAAAAABLhGQAAAAAAAIBE\n",
       "eAYAAAAAAAAgGXcPAAAAQDPm5fA3277++hyc74z39soar3xD7+KTngUAAOCdOPEMAAAAAAAAQCI8\n",
       "AwAAAAAAAJAIzwAAAAAAAAAkwjMAAAAAAAAAifAMAAAAAAAAQDJP09jvHgIAAIB7bft6+JsxL3mN\n",
       "d3H0rNN0zvM+ZU+fMsdTvPL+AQAA+CcnngEAAAAAAABIhGcAAAAAAAAAEuEZAAAAAAAAgER4BgAA\n",
       "AAAAACARngEAAAAAAABIhGcAAAAAAAAAknmaxn73EAAAAPy3bV/zGmNe8hpPccZ+PMUZ7+WT9uMp\n",
       "Pun/AgAAcBUnngEAAAAAAABIhGcAAAAAAAAAEuEZAAAAAAAAgER4BgAAAAAAACARngEAAAAAAABI\n",
       "xt0DAAAAcL9tX/MaY17yGpzvlfdyxvt/F75TAACA3+HEMwAAAAAAAACJ8AwAAAAAAABAIjwDAAAA\n",
       "AAAAkAjPAAAAAAAAACTCMwAAAAAAAADJPE1jv3sIAAAA/t62r3eP8LIxLz9ef+VZzljjCkdzTtP7\n",
       "zHrVnFd8HwAAAPwOJ54BAAAAAAAASIRnAAAAAAAAABLhGQAAAAAAAIBEeAYAAAAAAAAgEZ4BAAAA\n",
       "AAAASIRnAAAAAAAAAJJ5msZ+9xAAAAD8vW1f7x5hmqZpGvNy+Jt3mvVdHO3pVc96xrv9pPcCAADw\n",
       "bZx4BgAAAAAAACARngEAAAAAAABIhGcAAAAAAAAAEuEZAAAAAAAAgER4BgAAAAAAACAZdw8AAADA\n",
       "exjzcvcIb2Xb18PfnLGnT3kvT5kDAACAezjxDAAAAAAAAEAiPAMAAAAAAACQCM8AAAAAAAAAJMIz\n",
       "AAAAAAAAAInwDAAAAAAAAEAy7h4AAACA97Dt64/Xx7xcMse7sB8AAAB8EyeeAQAAAAAAAEiEZwAA\n",
       "AAAAAAAS4RkAAAAAAACARHgGAAAAAAAAIBGeAQAAAAAAAEjG3QMAAADwPca83D0CAAAA8AuceAYA\n",
       "AAAAAAAgEZ4BAAAAAAAASIRnAAAAAAAAABLhGQAAAAAAAIBEeAYAAAAAAAAgEZ4BAAAAAAAASMbd\n",
       "AwAAAHC/MS93jwAAAAC8MSeeAQAAAAAAAEiEZwAAAAAAAAAS4RkAAAAAAACARHgGAAAAAAAAIBGe\n",
       "AQAAAAAAAEjmaRr73UMAAAAAAAAA8L6ceAYAAAAAAAAgEZ4BAAAAAAAASIRnAAAAAAAAABLhGQAA\n",
       "AAAAAIBEeAYAAAAAAAAgEZ4BAAAAAAAASIRnAAAAAAAAABLhGQAAAAAAAIBEeAYAAAAAAAAgEZ4B\n",
       "AAAAAAAASIRnAAAAAAAAABLhGQAAAAAAAIBEeAYAAAAAAAAgEZ4BAAAAAAAASIRnAAAAAAAAABLh\n",
       "GQAAAAAAAIBEeAYAAAAAAAAgEZ4BAAAAAAAASIRnAAAAAAAAABLhGQAAAAAAAIBEeAYAAAAAAAAg\n",
       "EZ4BAAAAAAAASIRnAAAAAAAAABLhGQAAAAAAAIBEeAYAAAAAAAAgEZ4BAAAAAAAASIRnAAAAAAAA\n",
       "ABLhGQAAAAAAAIBEeAYAAAAAAAAgEZ4BAAAAAAAASIRnAAAAAAAAABLhGQAAAAAAAIBEeAYAAAAA\n",
       "AAAgEZ4BAAAAAAAASIRnAAAAAAAAABLhGQAAAAAAAIBEeAYAAAAAAAAgEZ4BAAAAAAAASIRnAAAA\n",
       "AAAAABLhGQAAAAAAAIBEeAYAAAAAAAAgEZ4BAAAAAAAASIRnAAAAAAAAABLhGQAAAAAAAIBEeAYA\n",
       "AAAAAAAgEZ4BAAAAAAAASIRnAAAAAAAAABLhGQAAAAAAAIBEeAYAAAAAAAAgEZ4BAAAAAAAASIRn\n",
       "AAAAAAAAABLhGQAAAAAAAIBEeAYAAAAAAAAgEZ4BAAAAAAAASIRnAAAAAAAAABLhGQAAAAAAAIBE\n",
       "eAYAAAAAAAAgEZ4BAAAAAAAASIRnAAAAAAAAABLhGQAAAAAAAIBEeAYAAAAAAAAgEZ4BAAAAAAAA\n",
       "SIRnAAAAAAAAABLhGQAAAAAAAIBEeAYAAAAAAAAgEZ4BAAAAAAAASIRnAAAAAAAAABLhGQAAAAAA\n",
       "AIBEeAYAAAAAAAAgEZ4BAAAAAAAASIRnAAAAAAAAABLhGQAAAAAAAIBEeAYAAAAAAAAgEZ4BAAAA\n",
       "AAAASIRnAAAAAAAAABLhGQAAAAAAAIBEeAYAAAAAAAAgEZ4BAAAAAAAASIRnAAAAAAAAABLhGQAA\n",
       "AAAAAIBEeAYAAAAAAAAgEZ4BAAAAAAAASIRnAAAAAAAAABLhGQAAAAAAAIBEeAYAAAAAAAAgEZ4B\n",
       "AAAAAAAASIRnAAAAAAAAABLhGQAAAAAAAIBEeAYAAAAAAAAgEZ4BAAAAAAAASIRnAAAAAAAAABLh\n",
       "GQAAAAAAAIBEeAYAAAAAAAAgEZ4BAAAAAAAASIRnAAAAAAAAABLhGQAAAAAAAIBEeAYAAAAAAAAg\n",
       "EZ4BAAAAAAAASIRnAAAAAAAAABLhGQAAAAAAAIBEeAYAAAAAAAAgEZ4BAAAAAAAASIRnAAAAAAAA\n",
       "ABLhGQAAAAAAAIBEeAYAAAAAAAAgEZ4BAAAAAAAASIRnAAAAAAAAABLhGQAAAAAAAIBEeAYAAAAA\n",
       "AAAgEZ4BAAAAAAAASIRnAAAAAAAAABLhGQAAAAAAAIBEeAYAAAAAAAAgEZ4BAAAAAAAASIRnAAAA\n",
       "AAAAABLhGQAAAAAAAIBEeAYAAAAAAAAgEZ4BAAAAAAAASIRnAAAAAAAAABLhGQAAAAAAAIBEeAYA\n",
       "AAAAAAAgEZ4BAAAAAAAASIRnAAAAAAAAABLhGQAAAAAAAIBEeAYAAAAAAAAgEZ4BAAAAAAAASIRn\n",
       "AAAAAAAAABLhGQAAAAAAAIBEeAYAAAAAAAAgEZ4BAAAAAAAASIRnAAAAAAAAABLhGQAAAAAAAIBE\n",
       "eAYAAAAAAAAgEZ4BAAAAAAAASIRnAAAAAAAAABLhGQAAAAAAAIBEeAYAAAAAAAAgEZ4BAAAAAAAA\n",
       "SIRnAAAAAAAAABLhGQAAAAAAAIBEeAYAAAAAAAAgEZ4BAAAAAAAASIRnAAAAAAAAABLhGQAAAAAA\n",
       "AIBEeAYAAAAAAAAgEZ4BAAAAAAAASIRnAAAAAAAAABLhGQAAAAAAAIBEeAYAAAAAAAAgEZ4BAAAA\n",
       "AAAASIRnAAAAAAAAABLhGQAAAAAAAIBEeAYAAAAAAAAgEZ4BAAAAAAAASIRnAAAAAAAAABLhGQAA\n",
       "AAAAAIBEeAYAAAAAAAAgEZ4BAAAAAAAASIRnAAAAAAAAABLhGQAAAAAAAIBEeAYAAAAAAAAgEZ4B\n",
       "AAAAAAAASIRnAAAAAAAAABLhGQAAAAAAAIBEeAYAAAAAAAAgEZ4BAAAAAAAASIRnAAAAAAAAABLh\n",
       "GQAAAAAAAIBEeAYAAAAAAAAgEZ4BAAAAAAAASIRnAAAAAAAAABLhGQAAAAAAAIBEeAYAAAAAAAAg\n",
       "EZ4BAAAAAAAASIRnAAAAAAAAABLhGQAAAAAAAIBEeAYAAAAAAAAgEZ4BAAAAAAAASIRnAAAAAAAA\n",
       "ABLhGQAAAAAAAIBEeAYAAAAAAAAgEZ4BAAAAAAAASIRnAAAAAAAAABLhGQAAAAAAAIBEeAYAAAAA\n",
       "AAAgEZ4BAAAAAAAASIRnAAAAAAAAABLhGQAAAAAAAIBEeAYAAAAAAAAgEZ4BAAAAAAAASIRnAAAA\n",
       "AAAAABLhGQAAAAAAAIBEeAYAAAAAAAAgEZ4BAAAAAAAASIRnAAAAAAAAABLhGQAAAAAAAIBEeAYA\n",
       "AAAAAAAgEZ4BAAAAAAAASIRnAAAAAAAAABLhGQAAAAAAAIBEeAYAAAAAAAAgEZ4BAAAAAAAASIRn\n",
       "AAAAAAAAABLhGQAAAAAAAIBEeAYAAAAAAAAgEZ4BAAAAAAAASIRnAAAAAAAAABLhGQAAAAAAAIBE\n",
       "eAYAAAAAAAAgEZ4BgP+1Z8cCAAAAAIP8rQextzQCAAAAAIBFPAMAAAAAAACwiGcAAAAAAAAAFvEM\n",
       "AAAAAAAAwCKeAQAAAAAAAFjEMwAAAAAAAACLeAYAAAAAAABgEc8AAAAAAAAALOIZAAAAAAAAgEU8\n",
       "AwAAAAAAALCIZwAAAAAAAAAW8QwAAAAAAADAIp4BAAAAAAAAWMQzAAAAAAAAAIt4BgAAAAAAAGAR\n",
       "zwAAAAAAAAAs4hkAAAAAAACARTwDAAAAAAAAsIhnAAAAAAAAABbxDAAAAAAAAMAingEAAAAAAABY\n",
       "xDMAAAAAAAAAi3gGAAAAAAAAYBHPAAAAAAAAACziGQAAAAAAAIBFPAMAAAAAAACwiGcAAAAAAAAA\n",
       "FvEMAAAAAAAAwCKeAQAAAAAAAFjEMwAAAAAAAACLeAYAAAAAAABgEc8AAAAAAAAALOIZAAAAAAAA\n",
       "gEU8AwAAAAAAALCIZwAAAAAAAAAW8QwAAAAAAADAIp4BAAAAAAAAWMQzAAAAAAAAAIt4BgAAAAAA\n",
       "AGARzwAAAAAAAAAs4hkAAAAAAACARTwDAAAAAAAAsIhnAAAAAAAAABbxDAAAAAAAAMAingEAAAAA\n",
       "AABYxDMAAAAAAAAAi3gGAAAAAAAAYBHPAAAAAAAAACziGQAAAAAAAIBFPAMAAAAAAACwiGcAAAAA\n",
       "AAAAFvEMAAAAAAAAwCKeAQAAAAAAAFjEMwAAAAAAAACLeAYAAAAAAABgEc8AAAAAAAAALOIZAAAA\n",
       "AAAAgEU8AwAAAAAAALCIZwAAAAAAAAAW8QwAAAAAAADAIp4BAAAAAAAAWMQzAAAAAAAAAIt4BgAA\n",
       "AAAAAGARzwAAAAAAAAAs4hkAAAAAAACARTwDAAAAAAAAsIhnAAAAAAAAABbxDAAAAAAAAMAingEA\n",
       "AAAAAABYxDMAAAAAAAAAi3gGAAAAAAAAYBHPAAAAAAAAACziGQAAAAAAAIBFPAMAAAAAAACwiGcA\n",
       "AAAAAAAAFvEMAAAAAAAAwCKeAQAAAAAAAFjEMwAAAAAAAACLeAYAAAAAAABgEc8AAAAAAAAALOIZ\n",
       "AAAAAAAAgEU8AwAAAAAAALCIZwAAAAAAAAAW8QwAAAAAAADAIp4BAAAAAAAAWMQzAAAAAAAAAIt4\n",
       "BgAAAAAAAGARzwAAAAAAAAAs4hkAAAAAAACARTwDAAAAAAAAsIhnAAAAAAAAABbxDAAAAAAAAMAi\n",
       "ngEAAAAAAABYxDMAAAAAAAAAi3gGAAAAAAAAYBHPAAAAAAAAACziGQAAAAAAAIBFPAMAAAAAAACw\n",
       "iGcAAAAAAAAAFvEMAAAAAAAAwCKeAQAAAAAAAFjEMwAAAAAAAACLeAYAAAAAAABgEc8AAAAAAAAA\n",
       "LOIZAAAAAAAAgEU8AwAAAAAAALCIZwAAAAAAAAAW8QwAAAAAAADAIp4BAAAAAAAAWMQzAAAAAAAA\n",
       "AIt4BgAAAAAAAGARzwAAAAAAAAAs4hkAAAAAAACARTwDAAAAAAAAsIhnAAAAAAAAABbxDAAAAAAA\n",
       "AMAingEAAAAAAABYxDMAAAAAAAAAi3gGAAAAAAAAYBHPAAAAAAAAACziGQAAAAAAAIBFPAMAAAAA\n",
       "AACwiGcAAAAAAAAAFvEMAAAAAAAAwCKeAQAAAAAAAFjEMwAAAAAAAACLeAYAAAAAAABgEc8AAAAA\n",
       "AAAALOIZAAAAAAAAgEU8AwAAAAAAALCIZwAAAAAAAAAW8QwAAAAAAADAIp4BAAAAAAAAWMQzAAAA\n",
       "AAAAAIt4BgAAAAAAAGARzwAAAAAAAAAs4hkAAAAAAACARTwDAAAAAAAAsIhnAAAAAAAAABbxDAAA\n",
       "AAAAAMAingEAAAAAAABYxDMAAAAAAAAAi3gGAAAAAAAAYBHPAAAAAAAAACziGQAAAAAAAIBFPAMA\n",
       "AAAAAACwiGcAAAAAAAAAFvEMAAAAAAAAwCKeAQAAAAAAAFjEMwAAAAAAAACLeAYAAAAAAABgEc8A\n",
       "AAAAAAAALOIZAAAAAAAAgEU8AwAAAAAAALCIZwAAAAAAAAAW8QwAAAAAAADAIp4BAAAAAAAAWMQz\n",
       "AAAAAAAAAIt4BgAAAAAAAGARzwAAAAAAAAAs4hkAAAAAAACARTwDAAAAAAAAsIhnAAAAAAAAABbx\n",
       "DAAAAAAAAMAingEAAAAAAABYxDMAAAAAAAAAi3gGAAAAAAAAYBHPAAAAAAAAACziGQAAAAAAAIBF\n",
       "PAMAAAAAAACwiGcAAAAAAAAAFvEMAAAAAAAAwCKeAQAAAAAAAFjEMwAAAAAAAACLeAYAAAAAAABg\n",
       "Ec8AAAAAAAAALOIZAAAAAAAAgEU8AwAAAAAAALCIZwAAAAAAAAAW8QwAAAAAAADAIp4BAAAAAAAA\n",
       "WMQzAAAAAAAAAIt4BgAAAAAAAGARzwAAAAAAAAAs4hkAAAAAAACARTwDAAAAAAAAsIhnAAAAAAAA\n",
       "ABbxDAAAAAAAAMAingEAAAAAAABYxDMAAAAAAAAAi3gGAAAAAAAAYBHPAAAAAAAAACziGQAAAAAA\n",
       "AIBFPAMAAAAAAACwiGcAAAAAAAAAFvEMAAAAAAAAwCKeAQAAAAAAAFjEMwAAAAAAAACLeAYAAAAA\n",
       "AABgEc8AAAAAAAAALOIZAAAAAAAAgEU8AwAAAAAAALCIZwAAAAAAAAAW8QwAAAAAAADAIp4BAAAA\n",
       "AAAAWMQzAAAAAAAAAIt4BgAAAAAAAGARzwAAAAAAAAAs4hkAAAAAAACARTwDAAAAAAAAsIhnAAAA\n",
       "AAAAABbxDAAAAAAAAMAingEAAAAAAABYxDMAAAAAAAAAi3gGAAAAAAAAYBHPAAAAAAAAACziGQAA\n",
       "AAAAAIBFPAMAAAAAAACwiGcAAAAAAAAAFvEMAAAAAAAAwCKeAQAAAAAAAFjEMwAAAAAAAACLeAYA\n",
       "AAAAAABgEc8AAAAAAAAALOIZAAAAAAAAgEU8AwAAAAAAALCIZwAAAAAAAAAW8QwAAAAAAADAIp4B\n",
       "AAAAAAAAWMQzAAAAAAAAAIt4BgAAAAAAAGARzwAAAAAAAAAs4hkAAAAAAACARTwDAAAAAAAAsIhn\n",
       "AAAAAAAAABbxDAAAAAAAAMAingEAAAAAAABYxDMAAAAAAAAAi3gGAAAAAAAAYBHPAAAAAAAAACzi\n",
       "GQAAAAAAAIBFPAMAAAAAAACwiGcAAAAAAAAAFvEMAAAAAAAAwCKeAQAAAAAAAFjEMwAAAAAAAACL\n",
       "eAYAAAAAAABgEc8AAAAAAAAALOIZAAAAAAAAgEU8AwAAAAAAALCIZwAAAAAAAAAW8QwAAAAAAADA\n",
       "Ip4BAAAAAAAAWMQzAAAAAAAAAIt4BgAAAAAAAGARzwAAAAAAAAAs4hkAAAAAAACARTwDAAAAAAAA\n",
       "sIhnAAAAAAAAABbxDAAAAAAAAMAingEAAAAAAABYxDMAAAAAAAAAi3gGAAAAAAAAYBHPAAAAAAAA\n",
       "ACziGQAAAAAAAIBFPAMAAAAAAACwiGcAAAAAAAAAFvEMAAAAAAAAwCKeAQAAAAAAAFjEMwAAAAAA\n",
       "AACLeAYAAAAAAABgEc8AAAAAAAAALOIZAAAAAAAAgEU8AwAAAAAAALCIZwAAAAAAAAAW8QwAAAAA\n",
       "AADAIp4BAAAAAAAAWMQzAAAAAAAAAIt4BgAAAAAAAGARzwAAAAAAAAAs4hkAAAAAAACARTwDAAAA\n",
       "AAAAsIhnAAAAAAAAABbxDAAAAAAAAMAingEAAAAAAABYxDMAAAAAAAAAi3gGAAAAAAAAYBHPAAAA\n",
       "AAAAACziGQAAAAAAAIBFPAMAAAAAAACwiGcAAAAAAAAAFvEMAAAAAAAAwCKeAQAAAAAAAFjEMwAA\n",
       "AAAAAACLeAYAAAAAAABgEc8AAAAAAAAALOIZAAAAAAAAgEU8AwAAAAAAALCIZwAAAAAAAAAW8QwA\n",
       "AAAAAADAIp4BAAAAAAAAWMQzAAAAAAAAAIt4BgAAAAAAAGARzwAAAAAAAAAs4hkAAAAAAACARTwD\n",
       "AAAAAAAAsIhnAAAAAAAAABbxDAAAAAAAAMAingEAAAAAAABYxDMAAAAAAAAAi3gGAAAAAAAAYBHP\n",
       "AAAAAAAAACziGQAAAAAAAIBFPAMAAAAAAACwiGcAAAAAAAAAFvEMAAAAAAAAwCKeAQAAAAAAAFjE\n",
       "MwAAAAAAAACLeAYAAAAAAABgEc8AAAAAAAAALOIZAAAAAAAAgEU8AwAAAAAAALCIZwAAAAAAAAAW\n",
       "8QwAAAAAAADAIp4BAAAAAAAAWMQzAAAAAAAAAIt4BgAAAAAAAGARzwAAAAAAAAAs4hkAAAAAAACA\n",
       "RTwDAAAAAAAAsIhnAAAAAAAAABbxDAAAAAAAAMAingEAAAAAAABYxDMAAAAAAAAAi3gGAAAAAAAA\n",
       "YBHPAAAAAAAAACziGQAAAAAAAIBFPAMAAAAAAACwiGcAAAAAAAAAFvEMAAAAAAAAwCKeAQAAAAAA\n",
       "AFjEMwAAAAAAAACLeAYAAAAAAABgEc8AAAAAAAAALOIZAAAAAAAAgEU8AwAAAAAAALCIZwAAAAAA\n",
       "AAAW8QwAAAAAAADAIp4BAAAAAAAAWMQzAAAAAAAAAIt4BgAAAAAAAGARzwAAAAAAAAAs4hkAAAAA\n",
       "AACARTwDAAAAAAAAsIhnAAAAAAAAABbxDAAAAAAAAMAingEAAAAAAABYxDMAAAAAAAAAi3gGAAAA\n",
       "AAAAYBHPAAAAAAAAACziGQAAAAAAAIBFPAMAAAAAAACwiGcAAAAAAAAAFvEMAAAAAAAAwCKeAQAA\n",
       "AAAAAFjEMwAAAAAAAACLeAYAAAAAAABgEc8AAAAAAAAALOIZAAAAAAAAgEU8AwAAAAAAALCIZwAA\n",
       "AAAAAAAW8QwAAAAAAADAIp4BAAAAAAAAWMQzAAAAAAAAAIt4BgAAAAAAAGARzwAAAAAAAAAs4hkA\n",
       "AAAAAACARTwDAAAAAAAAsIhnAAAAAAAAABbxDAAAAAAAAMAingEAAAAAAABYxDMAAAAAAAAAi3gG\n",
       "AAAAAAAAYBHPAAAAAAAAACziGQAAAAAAAIBFPAMAAAAAAACwiGcAAAAAAAAAFvEMAAAAAAAAwCKe\n",
       "AQAAAAAAAFjEMwAAAAAAAACLeAYAAAAAAABgEc8AAAAAAAAALOIZAAAAAAAAgEU8AwAAAAAAALCI\n",
       "ZwAAAAAAAAAW8QwAAAAAAADAIp4BAAAAAAAAWMQzAAAAAAAAAIt4BgAAAAAAAGAJnF10mD58pPQA\n",
       "AAAASUVORK5CYII=\n",
       "\" transform=\"translate(163, 47)\"/>\n",
       "</g>\n",
       "<defs>\n",
       "  <clipPath id=\"clip643\">\n",
       "    <rect x=\"2160\" y=\"47\" width=\"73\" height=\"1440\"/>\n",
       "  </clipPath>\n",
       "</defs>\n",
       "<g clip-path=\"url(#clip643)\">\n",
       "<image width=\"72\" height=\"1439\" xlink:href=\"data:image/png;base64,\n",
       "iVBORw0KGgoAAAANSUhEUgAAAEgAAAWfCAYAAAAI7rB3AAAMWUlEQVR4nO3dwY0rRxAFwaZQ/lsh\n",
       "L6XfLQtUeSQPERYsEg8c9MyQ+/n3/v0O/+uvb/8Bv06gIFAQKAgU5r5/v/03/DQLCgIFgYJAQaAw\n",
       "7/359t/w0ywoCBQECgIFR41gQUGgIFAQKAgU5rmKrSwoCBQECgIFgcK86yq2saAgUBAoCBQcNYIF\n",
       "BYGCQEGgIFBwFQsWFAQKAgWBgvtBwYKCQEGgIFAQKMxx1FhZUBAoCBQECgIFN8yCBQWBgkBBoDDH\n",
       "DbOVBQWBgkBBoCBQmHP/+fbf8NMsKAgUBAoCBYGCxz7BgoJAQaAgUHDDLFhQECgIFAQKAgVXsWBB\n",
       "QaAgUBAouB8ULCgIFAQKAgWBwnwcNVYWFAQKAgWBgkBhzvWfWTYWFAQKAgWBgqNGsKAgUBAoCBQE\n",
       "Co4awYKCQEGgIFAQKHjDLFhQECgIFAQK83HUWFlQECgIFAQKAgXvSQcLCgIFgYJAwVEjWFAQKAgU\n",
       "BAoCBc/mgwUFgYJAQaAgUHAWCxYUBAoCBYGCo0awoCBQECgIFAQKjhrBgoJAQaAgUBAozLn323/D\n",
       "T7OgIFAQKAgUHDWCBQWBgkBBoCBQ8NgnWFAQKAgUBAo+pIMFBYGCQEGgIFCYj6caKwsKAgWBgkBB\n",
       "oOAsFiwoCBQECgIFL1AFCwoCBYGCQEGg4IZZsKAgUBAoCBTcDwoWFAQKAgWBgkDBDbNgQUGgIFAQ\n",
       "KAgUXMWCBQWBgkBBoOB788GCgkBBoCBQECg4agQLCgIFgYJAQaDgKhYsKAgUBAoCBR/SwYKCQEGg\n",
       "IFAQKLiKBQsKAgWBgkBhzvMhvbGgIFAQKAgUBAqOGsGCgkBBoCBQECi4igULCgIFgYJAwYd0sKAg\n",
       "UBAoCBQECnPu+/bf8NMsKAgUBAoCBYGCs1iwoCBQECgIFBw1ggUFgYJAQaAgUHDUCBYUBAoCBYGC\n",
       "o0awoCBQECgIFAQKc5w0VhYUBAoCBYGCQGHOcxbbWFAQKAgUBAqOGsGCgkBBoCBQECi4igULCgIF\n",
       "gYJAQaAwfohzZ0FBoCBQECg4agQLCgIFgYJAQaDgKhYsKAgUBAoChTn38+2/4adZUBAoCBQECgKF\n",
       "ec9VbGNBQaAgUBAoCBTcMAsWFAQKAgWBghtmwYKCQEGgIFAQKMy7Gm3UCQIFgYJAwVEjWFAQKAgU\n",
       "BAoChTmeza8sKAgUBAoCBYHCPGexlQUFgYJAQaAwx1ONlTpBoCBQECgIFBw1ggUFgYJAQaAgUPDY\n",
       "J1hQECgIFAQKXgMO6gSBgkBBoCBQ8J50sKAgUBAoCBQ81QgWFAQKAgWBgkBh3tNoo04QKAgUBAoC\n",
       "BTfMggUFgYJAQaDghlmwoCBQECgIFAQKc9wwW6kTBAoCBYGCQMFZLFhQECgIFAQKPqSDBQWBgkBB\n",
       "oCBQ8L35YEFBoCBQECj43nxQJwgUBAoCBYHCPEeNlQUFgYJAQaAgUPDYJ1hQECgIFAQK/jNLUCcI\n",
       "FAQKAgWBghtmwYKCQEGgIFAQKLhhFiwoCBQECgIFR41gQUGgIFAQKAgUvCcd1AkCBYGCQMFRI1hQ\n",
       "ECgIFAQKAgVPNYIFBYGCQEGgIFBwFgsWFAQKAgWBgn+fFSwoCBQECgIFgYJ/ZRzUCQIFgYJAQaDg\n",
       "hlmwoCBQECgIFDybDxYUBAoCBYGCQMFRI1hQECgIFAQKc31IrywoCBQECgIFgYLvzQd1gkBBoCBQ\n",
       "ECi4YRYsKAgUBAoCBR/SwYKCQEGgIFAQKHjDLFhQECgIFAQKjhrBgoJAQaAgUBAouIoFCwoCBYGC\n",
       "QEGg4NdfgjpBoCBQECjM9VRjZUFBoCBQECgIFNwwCxYUBAoCBYGCQMFVLFhQECgIFAQKPqSDBQWB\n",
       "gkBBoCBQ8BtmwYKCQEGgIFBw1AgWFAQKAgWBgkDBVSxYUBAoCBQECgIFX2YJ6gSBgkBBoODLLMGC\n",
       "gkBBoCBQECi4YRYsKAgUBAoCBYGCq1iwoCBQECgIFLwGHCwoCBQECgIFgYKjRrCgIFAQKAgU5h0f\n",
       "0hsLCgIFgYJAQaDghlmwoCBQECgIFAQKbpgFCwoCBYGCQMFRI1hQECgIFAQKAgVHjWBBQaAgUBAo\n",
       "CBScxYIFBYGCQEGg4KgRLCgIFAQKAgWBgqtYsKAgUBAoCBTm+jLLyoKCQEGgIFAQKDhqBAsKAgWB\n",
       "gkBBoODZfLCgIFAQKAgU5r1v/wm/zYKCQEGgIFAQKDhqBAsKAgWBgkDBD00GCwoCBYGCQEGg4KgR\n",
       "LCgIFAQKAgWBgjfMggUFgYJAQaDgyyzBgoJAQaAgUBAoeMMsWFAQKAgUBAoCBY99ggUFgYJAQaDg\n",
       "qUawoCBQECgIFAQKHvsECwoCBYGCQMH9oGBBQaAgUBAoCBQ8mw8WFAQKAgWBgkDBDbNgQUGgIFAQ\n",
       "KHg2HywoCBQECgIFgcLcb/8FP86CgkBBoCBQECg4iwULCgIFgYJAwRtmwYKCQEGgIFAQKLhhFiwo\n",
       "CBQECgIF94OCBQWBgkBBoCBQcNQIFhQECgIFgYJAwVksWFAQKAgUBAqezQcLCgIFgYJAQaAwfvxl\n",
       "Z0FBoCBQECgIFJzFggUFgYJAQaDg2XywoCBQECgIFAQKns0HCwoCBYGCQMFRI1hQECgIFAQKAgVH\n",
       "jWBBQaAgUBAoCBTmesVsZUFBoCBQECi4YRYsKAgUBAoCBYGCG2bBgoJAQaAgUHDUCBYUBAoCBYGC\n",
       "QGGepxorCwoCBYGCQEGgMPe4YbaxoCBQECgIFLxAFSwoCBQECgIFgYIfmgwWFAQKAgWBgkDBD00G\n",
       "CwoCBYGCQMGz+WBBQaAgUBAoCBS8Jx0sKAgUBAoCBd84DBYUBAoCBYGCQMFRI1hQECgIFAQKAgXv\n",
       "SQcLCgIFgYJAwWvAwYKCQEGgIFAQKDhqBAsKAgWBgkBBoOA96WBBQaAgUBAo+ImuYEFBoCBQECgI\n",
       "FNwwCxYUBAoCBYGCZ/PBgoJAQaAgUBAoOGoECwoCBYGCQEGg4CwWLCgIFAQKAgVHjWBBQaAgUBAo\n",
       "CBRcxYIFBYGCQEGgIFBwwyxYUBAoCBQECo4awYKCQEGgIFAQKDhqBAsKAgWBgkDBUSNYUBAoCBQE\n",
       "CgIFP9EVLCgIFAQKAgWBgv8vFiwoCBQECgIFN8yCBQWBgkBBoCBQmHdcxjYWFAQKAgWBgkDBWSxY\n",
       "UBAoCBQECp7NBwsKAgWBgkBBoODZfLCgIFAQKAgU3A8KFhQECgIFgYJAwbP5YEFBoCBQECgIFJzF\n",
       "ggUFgYJAQaDgJ7qCBQWBgkBBoCBQmOsVs5UFBYGCQEGg4AWqYEFBoCBQECgIFOY5aqwsKAgUBAoC\n",
       "BYGCs1iwoCBQECgIFDzVCBYUBAoCBYGCQMEbZsGCgkBBoCBQECjM9ZXMlQUFgYJAQaDghlmwoCBQ\n",
       "ECgIFAQKfv0lWFAQKAgUBApeoAoWFAQKAgWBgkDBU41gQUGgIFAQKAgU3DALFhQECgIFgcLc45bZ\n",
       "xoKCQEGgIFAQKLhhFiwoCBQECgIFgYKrWLCgIFAQKAgUPNUIFhQECgIFgYJAwWOfYEFBoCBQECjM\n",
       "/ThqbCwoCBQECgIFgYKjRrCgIFAQKAgUBArzXMVWFhQECgIFgYKjRrCgIFAQKAgUBApzP65iGwsK\n",
       "AgWBgkBBoOAsFiwoCBQECgIFTzWCBQWBgkBBoCBQcNQIFhQECgIFgYIP6WBBQaAgUBAoCBQ8mw8W\n",
       "FAQKAgWBgkBh3vnz7b/hp1lQECgIFAQKbpgFCwoCBYGCQEGg4A2zYEFBoCBQECjMfe4HbSwoCBQE\n",
       "CgIFgYKjRrCgIFAQKAgUBApzPZtfWVAQKAgUBAqOGsGCgkBBoCBQECg4agQLCgIFgYJAQaAw7zmL\n",
       "bSwoCBQECgIFN8yCBQWBgkBBoCBQ8J50sKAgUBAoCBQcNYIFBYGCQEGgIFCY56ixsqAgUBAoCBQE\n",
       "Cs5iwYKCQEGgIFCY6wWqlQUFgYJAQaAgUPCb9sGCgkBBoCBQECj4MkuwoCBQECgIFDzVCBYUBAoC\n",
       "BYGCQMFRI1hQECgIFAQKPqSDBQWBgkBBoCBQ8Gw+WFAQKAgUBAoCBWexYEFBoCBQECjM8Wx+ZUFB\n",
       "oCBQECgIFBw1ggUFgYJAQaAgUPCedLCgIFAQKAgU5jhqrCwoCBQECgIFgYI3zIIFBYGCQEGg4Nl8\n",
       "sKAgUBAoCBQECm6YBQsKAgWBgkBBoDDvvG//DT/NgoJAQaAgUHDDLFhQECgIFAQKAoU5jhorCwoC\n",
       "BYGCQOE/LrLuTX/wFc8AAAAASUVORK5CYII=\n",
       "\" transform=\"translate(2161, 47)\"/>\n",
       "</g>\n",
       "<path clip-path=\"url(#clip640)\" d=\"M 0 0 M2280.7 1468.62 Q2277.09 1468.62 2275.26 1472.18 Q2273.45 1475.72 2273.45 1482.85 Q2273.45 1489.96 2275.26 1493.53 Q2277.09 1497.07 2280.7 1497.07 Q2284.33 1497.07 2286.14 1493.53 Q2287.97 1489.96 2287.97 1482.85 Q2287.97 1475.72 2286.14 1472.18 Q2284.33 1468.62 2280.7 1468.62 M2280.7 1464.91 Q2286.51 1464.91 2289.57 1469.52 Q2292.64 1474.1 2292.64 1482.85 Q2292.64 1491.58 2289.57 1496.19 Q2286.51 1500.77 2280.7 1500.77 Q2274.89 1500.77 2271.81 1496.19 Q2268.76 1491.58 2268.76 1482.85 Q2268.76 1474.1 2271.81 1469.52 Q2274.89 1464.91 2280.7 1464.91 Z\" fill=\"#000000\" fill-rule=\"evenodd\" fill-opacity=\"1\" /><path clip-path=\"url(#clip640)\" d=\"M 0 0 M2269.43 1336.25 L2277.07 1336.25 L2277.07 1309.89 L2268.76 1311.55 L2268.76 1307.29 L2277.02 1305.63 L2281.7 1305.63 L2281.7 1336.25 L2289.33 1336.25 L2289.33 1340.19 L2269.43 1340.19 L2269.43 1336.25 Z\" fill=\"#000000\" fill-rule=\"evenodd\" fill-opacity=\"1\" /><path clip-path=\"url(#clip640)\" d=\"M 0 0 M2274.38 1176.34 L2290.7 1176.34 L2290.7 1180.28 L2268.76 1180.28 L2268.76 1176.34 Q2271.42 1173.59 2276 1168.96 Q2280.61 1164.3 2281.79 1162.96 Q2284.03 1160.44 2284.91 1158.7 Q2285.82 1156.94 2285.82 1155.25 Q2285.82 1152.5 2283.87 1150.76 Q2281.95 1149.03 2278.85 1149.03 Q2276.65 1149.03 2274.2 1149.79 Q2271.77 1150.55 2268.99 1152.1 L2268.99 1147.38 Q2271.81 1146.25 2274.27 1145.67 Q2276.72 1145.09 2278.76 1145.09 Q2284.13 1145.09 2287.32 1147.78 Q2290.52 1150.46 2290.52 1154.95 Q2290.52 1157.08 2289.7 1159 Q2288.92 1160.9 2286.81 1163.49 Q2286.23 1164.16 2283.13 1167.38 Q2280.03 1170.58 2274.38 1176.34 Z\" fill=\"#000000\" fill-rule=\"evenodd\" fill-opacity=\"1\" /><path clip-path=\"url(#clip640)\" d=\"M 0 0 M2284.38 1001.73 Q2287.74 1002.45 2289.61 1004.72 Q2291.51 1006.98 2291.51 1010.32 Q2291.51 1015.43 2287.99 1018.23 Q2284.47 1021.04 2277.99 1021.04 Q2275.82 1021.04 2273.5 1020.6 Q2271.21 1020.18 2268.76 1019.32 L2268.76 1014.81 Q2270.7 1015.94 2273.02 1016.52 Q2275.33 1017.1 2277.85 1017.1 Q2282.25 1017.1 2284.54 1015.36 Q2286.86 1013.63 2286.86 1010.32 Q2286.86 1007.26 2284.7 1005.55 Q2282.58 1003.81 2278.76 1003.81 L2274.73 1003.81 L2274.73 999.971 L2278.94 999.971 Q2282.39 999.971 2284.22 998.605 Q2286.05 997.216 2286.05 994.624 Q2286.05 991.962 2284.15 990.55 Q2282.27 989.115 2278.76 989.115 Q2276.83 989.115 2274.64 989.531 Q2272.44 989.948 2269.8 990.828 L2269.8 986.661 Q2272.46 985.92 2274.77 985.55 Q2277.11 985.179 2279.17 985.179 Q2284.5 985.179 2287.6 987.61 Q2290.7 990.017 2290.7 994.138 Q2290.7 997.008 2289.06 998.999 Q2287.41 1000.97 2284.38 1001.73 Z\" fill=\"#000000\" fill-rule=\"evenodd\" fill-opacity=\"1\" /><path clip-path=\"url(#clip640)\" d=\"M 0 0 M2284.36 829.967 L2272.55 848.416 L2284.36 848.416 L2284.36 829.967 M2283.13 825.893 L2289.01 825.893 L2289.01 848.416 L2293.94 848.416 L2293.94 852.305 L2289.01 852.305 L2289.01 860.453 L2284.36 860.453 L2284.36 852.305 L2268.76 852.305 L2268.76 847.791 L2283.13 825.893 Z\" fill=\"#000000\" fill-rule=\"evenodd\" fill-opacity=\"1\" /><path clip-path=\"url(#clip640)\" d=\"M 0 0 M2270.21 665.981 L2288.57 665.981 L2288.57 669.917 L2274.5 669.917 L2274.5 678.389 Q2275.52 678.042 2276.53 677.88 Q2277.55 677.694 2278.57 677.694 Q2284.36 677.694 2287.74 680.866 Q2291.12 684.037 2291.12 689.454 Q2291.12 695.032 2287.64 698.134 Q2284.17 701.213 2277.85 701.213 Q2275.68 701.213 2273.41 700.842 Q2271.16 700.472 2268.76 699.731 L2268.76 695.032 Q2270.84 696.166 2273.06 696.722 Q2275.28 697.278 2277.76 697.278 Q2281.77 697.278 2284.1 695.171 Q2286.44 693.065 2286.44 689.454 Q2286.44 685.842 2284.1 683.736 Q2281.77 681.629 2277.76 681.629 Q2275.89 681.629 2274.01 682.046 Q2272.16 682.463 2270.21 683.342 L2270.21 665.981 Z\" fill=\"#000000\" fill-rule=\"evenodd\" fill-opacity=\"1\" /><path clip-path=\"url(#clip640)\" d=\"M 0 0 M2281.09 521.486 Q2277.95 521.486 2276.09 523.639 Q2274.27 525.792 2274.27 529.542 Q2274.27 533.269 2276.09 535.445 Q2277.95 537.597 2281.09 537.597 Q2284.24 537.597 2286.07 535.445 Q2287.92 533.269 2287.92 529.542 Q2287.92 525.792 2286.07 523.639 Q2284.24 521.486 2281.09 521.486 M2290.38 506.834 L2290.38 511.093 Q2288.62 510.26 2286.81 509.82 Q2285.03 509.38 2283.27 509.38 Q2278.64 509.38 2276.19 512.505 Q2273.76 515.63 2273.41 521.949 Q2274.77 519.936 2276.83 518.871 Q2278.89 517.783 2281.37 517.783 Q2286.58 517.783 2289.59 520.954 Q2292.62 524.102 2292.62 529.542 Q2292.62 534.866 2289.47 538.084 Q2286.33 541.301 2281.09 541.301 Q2275.1 541.301 2271.93 536.718 Q2268.76 532.111 2268.76 523.385 Q2268.76 515.19 2272.64 510.329 Q2276.53 505.445 2283.08 505.445 Q2284.84 505.445 2286.63 505.792 Q2288.43 506.139 2290.38 506.834 Z\" fill=\"#000000\" fill-rule=\"evenodd\" fill-opacity=\"1\" /><path clip-path=\"url(#clip640)\" d=\"M 0 0 M2268.76 346.158 L2290.98 346.158 L2290.98 348.149 L2278.43 380.718 L2273.55 380.718 L2285.35 350.094 L2268.76 350.094 L2268.76 346.158 Z\" fill=\"#000000\" fill-rule=\"evenodd\" fill-opacity=\"1\" /><path clip-path=\"url(#clip640)\" d=\"M 0 0 M2280.61 204.395 Q2277.27 204.395 2275.35 206.177 Q2273.45 207.96 2273.45 211.085 Q2273.45 214.21 2275.35 215.992 Q2277.27 217.774 2280.61 217.774 Q2283.94 217.774 2285.86 215.992 Q2287.78 214.186 2287.78 211.085 Q2287.78 207.96 2285.86 206.177 Q2283.96 204.395 2280.61 204.395 M2275.93 202.404 Q2272.92 201.663 2271.23 199.603 Q2269.57 197.543 2269.57 194.58 Q2269.57 190.437 2272.51 188.029 Q2275.47 185.622 2280.61 185.622 Q2285.77 185.622 2288.71 188.029 Q2291.65 190.437 2291.65 194.58 Q2291.65 197.543 2289.96 199.603 Q2288.29 201.663 2285.31 202.404 Q2288.69 203.191 2290.56 205.483 Q2292.46 207.774 2292.46 211.085 Q2292.46 216.108 2289.38 218.793 Q2286.33 221.478 2280.61 221.478 Q2274.89 221.478 2271.81 218.793 Q2268.76 216.108 2268.76 211.085 Q2268.76 207.774 2270.65 205.483 Q2272.55 203.191 2275.93 202.404 M2274.22 195.02 Q2274.22 197.705 2275.89 199.21 Q2277.58 200.714 2280.61 200.714 Q2283.62 200.714 2285.31 199.21 Q2287.02 197.705 2287.02 195.02 Q2287.02 192.335 2285.31 190.83 Q2283.62 189.326 2280.61 189.326 Q2277.58 189.326 2275.89 190.83 Q2274.22 192.335 2274.22 195.02 Z\" fill=\"#000000\" fill-rule=\"evenodd\" fill-opacity=\"1\" /><path clip-path=\"url(#clip640)\" d=\"M 0 0 M2270.98 60.1777 L2270.98 55.9185 Q2272.74 56.7518 2274.54 57.1916 Q2276.35 57.6314 2278.08 57.6314 Q2282.71 57.6314 2285.14 54.5296 Q2287.6 51.4046 2287.95 45.062 Q2286.6 47.0528 2284.54 48.1176 Q2282.48 49.1824 2279.98 49.1824 Q2274.8 49.1824 2271.77 46.0574 Q2268.76 42.9093 2268.76 37.4695 Q2268.76 32.1454 2271.9 28.9279 Q2275.05 25.7103 2280.28 25.7103 Q2286.28 25.7103 2289.43 30.3168 Q2292.6 34.9001 2292.6 43.65 Q2292.6 51.8213 2288.71 56.7055 Q2284.84 61.5666 2278.29 61.5666 Q2276.53 61.5666 2274.73 61.2194 Q2272.92 60.8721 2270.98 60.1777 M2280.28 45.525 Q2283.43 45.525 2285.26 43.3722 Q2287.11 41.2195 2287.11 37.4695 Q2287.11 33.7427 2285.26 31.5899 Q2283.43 29.414 2280.28 29.414 Q2277.14 29.414 2275.28 31.5899 Q2273.45 33.7427 2273.45 37.4695 Q2273.45 41.2195 2275.28 43.3722 Q2277.14 45.525 2280.28 45.525 Z\" fill=\"#000000\" fill-rule=\"evenodd\" fill-opacity=\"1\" /><polyline clip-path=\"url(#clip640)\" style=\"stroke:#000000; stroke-width:4; stroke-opacity:1; fill:none\" points=\"\n",
       "  2232.76,1486.45 2232.76,1486.45 2256.76,1486.45 2232.76,1486.45 2232.76,1326.54 2256.76,1326.54 2232.76,1326.54 2232.76,1166.62 2256.76,1166.62 2232.76,1166.62 \n",
       "  2232.76,1006.71 2256.76,1006.71 2232.76,1006.71 2232.76,846.802 2256.76,846.802 2232.76,846.802 2232.76,686.89 2256.76,686.89 2232.76,686.89 2232.76,526.979 \n",
       "  2256.76,526.979 2232.76,526.979 2232.76,367.067 2256.76,367.067 2232.76,367.067 2232.76,207.156 2256.76,207.156 2232.76,207.156 2232.76,47.2441 2256.76,47.2441 \n",
       "  2232.76,47.2441 \n",
       "  \"/>\n",
       "</svg>\n"
      ]
     },
     "execution_count": 28,
     "metadata": {},
     "output_type": "execute_result"
    }
   ],
   "source": [
    "heatmap(imag(result.grid_RSC[110, :, :]))"
   ]
  },
  {
   "cell_type": "code",
   "execution_count": 16,
   "metadata": {},
   "outputs": [
    {
     "data": {
      "text/plain": [
       "2-element Array{Float64,1}:\n",
       " 6.082762530298219\n",
       " 7.0"
      ]
     },
     "execution_count": 16,
     "metadata": {},
     "output_type": "execute_result"
    }
   ],
   "source": [
    "abs.([1.0+6.0im, 7.0im])"
   ]
  },
  {
   "cell_type": "code",
   "execution_count": null,
   "metadata": {},
   "outputs": [],
   "source": []
  },
  {
   "cell_type": "code",
   "execution_count": null,
   "metadata": {},
   "outputs": [],
   "source": []
  }
 ],
 "metadata": {
  "kernelspec": {
   "display_name": "Julia 1.5.3",
   "language": "julia",
   "name": "julia-1.5"
  },
  "language_info": {
   "file_extension": ".jl",
   "mimetype": "application/julia",
   "name": "julia",
   "version": "1.5.3"
  }
 },
 "nbformat": 4,
 "nbformat_minor": 4
}
