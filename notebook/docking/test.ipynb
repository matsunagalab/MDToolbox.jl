{
 "cells": [
  {
   "cell_type": "code",
   "execution_count": 1,
   "metadata": {},
   "outputs": [
    {
     "data": {
      "text/plain": [
       "4-element Array{Int64,1}:\n",
       " 2\n",
       " 3\n",
       " 4\n",
       " 5"
      ]
     },
     "execution_count": 1,
     "metadata": {},
     "output_type": "execute_result"
    }
   ],
   "source": [
    "using Distributed\n",
    "addprocs(4)"
   ]
  },
  {
   "cell_type": "code",
   "execution_count": 2,
   "metadata": {},
   "outputs": [
    {
     "name": "stderr",
     "output_type": "stream",
     "text": [
      "┌ Warning: no Manifest.toml file found, static paths used\n",
      "└ @ Revise /Users/yasu/.julia/packages/Revise/moD4B/src/packagedef.jl:1361\n"
     ]
    }
   ],
   "source": [
    "@everywhere using DelimitedFiles\n",
    "@everywhere using Revise, MDToolbox\n",
    "ENV[\"COLUMNS\"]=110; #display width for MDToolbox"
   ]
  },
  {
   "cell_type": "code",
   "execution_count": 3,
   "metadata": {},
   "outputs": [
    {
     "data": {
      "text/plain": [
       "1x440 TrjArray{Float64,Int64}\n",
       "| I                          | I                          |  …   I                          |\n",
       "| 1ASP                       | 1ASP                       |  …   56CYS                      |\n",
       "| 1801N                      | 1802CA                     |  …   2240OXT                    |\n",
       "|    64.86    34.03    29.79 |    65.13    34.96    28.68 |  …      51.32    20.79    29.47 |"
      ]
     },
     "execution_count": 3,
     "metadata": {},
     "output_type": "execute_result"
    }
   ],
   "source": [
    "receptor=readpdb(\"1cgi_receptor.pdb\")\n",
    "ligand=readpdb(\"1cgi_ligand.pdb\")"
   ]
  },
  {
   "cell_type": "code",
   "execution_count": 4,
   "metadata": {},
   "outputs": [
    {
     "data": {
      "text/plain": [
       "1x440 TrjArray{Float64,Int64}\n",
       "| I                          | I                          |  …   I                          |\n",
       "| 1ASP                       | 1ASP                       |  …   56CYS                      |\n",
       "| 1801N                      | 1802CA                     |  …   2240OXT                    |\n",
       "|    64.86    34.03    29.79 |    65.13    34.96    28.68 |  …      51.32    20.79    29.47 |"
      ]
     },
     "execution_count": 4,
     "metadata": {},
     "output_type": "execute_result"
    }
   ],
   "source": [
    "receptor =  MDToolbox.set_radius(receptor)\n",
    "ligand = MDToolbox.set_radius(ligand)"
   ]
  },
  {
   "cell_type": "code",
   "execution_count": 5,
   "metadata": {},
   "outputs": [
    {
     "data": {
      "text/plain": [
       "440-element Array{Float64,1}:\n",
       " 33.14939845728653\n",
       " 12.831049795424109\n",
       "  4.528605810149686\n",
       " 32.81343261192081\n",
       " 25.158921167498253\n",
       "  9.183006226136861\n",
       " 35.71530080209068\n",
       " 52.34523773806415\n",
       "  4.898364720492511\n",
       "  7.296087138574493\n",
       "  4.528605810149686\n",
       " 30.13478505176401\n",
       " 20.378726145673582\n",
       "  ⋮\n",
       "  0.0\n",
       "  5.357295120313601\n",
       " 16.353298758873866\n",
       " 26.416867225873165\n",
       " 23.0204128682609\n",
       "  0.0\n",
       "  0.25158921167498255\n",
       "  2.6416867225873166\n",
       " 31.027667571816274\n",
       " 15.346941912173934\n",
       "  0.26808257310632905\n",
       " 45.53700852266561"
      ]
     },
     "execution_count": 5,
     "metadata": {},
     "output_type": "execute_result"
    }
   ],
   "source": [
    "receptor_sasa = MDToolbox.compute_sasa(receptor, 1.4)\n",
    "ligand_sasa = MDToolbox.compute_sasa(ligand, 1.4)"
   ]
  },
  {
   "cell_type": "code",
   "execution_count": 6,
   "metadata": {},
   "outputs": [],
   "source": [
    "receptor = TrjArray(receptor, charge=receptor_sasa)\n",
    "writepdb(\"test.pdb\", receptor)"
   ]
  },
  {
   "cell_type": "code",
   "execution_count": 7,
   "metadata": {},
   "outputs": [
    {
     "data": {
      "text/plain": [
       "1x440 TrjArray{Float64,Int64}\n",
       "| I                          | I                          |  …   I                          |\n",
       "| 1ASP                       | 1ASP                       |  …   56CYS                      |\n",
       "| 1801N                      | 1802CA                     |  …   2240OXT                    |\n",
       "|    64.86    34.03    29.79 |    65.13    34.96    28.68 |  …      51.32    20.79    29.47 |"
      ]
     },
     "execution_count": 7,
     "metadata": {},
     "output_type": "execute_result"
    }
   ],
   "source": [
    "receptor = TrjArray(receptor, mass=receptor_sasa)\n",
    "ligand = TrjArray(ligand, mass=ligand_sasa)"
   ]
  },
  {
   "cell_type": "code",
   "execution_count": 8,
   "metadata": {},
   "outputs": [
    {
     "data": {
      "text/plain": [
       "50×4 Array{Float64,2}:\n",
       "  0.809511  0.106574   0.351469    0.458043\n",
       "  0.754344  0.31246    0.220942    0.533402\n",
       "  0.64777   0.497052   0.0753591   0.572411\n",
       "  0.497052  0.64777   -0.0753591   0.572411\n",
       "  0.31246   0.754344  -0.220942    0.533402\n",
       "  0.106574  0.809511  -0.351469    0.458043\n",
       " -0.106574  0.809511  -0.458043    0.351469\n",
       " -0.31246   0.754344  -0.533402    0.220942\n",
       " -0.497052  0.64777   -0.572411    0.0753591\n",
       " -0.64777   0.497052  -0.572411   -0.0753591\n",
       " -0.754344  0.31246   -0.533402   -0.220942\n",
       " -0.809511  0.106574  -0.458043   -0.351469\n",
       "  0.905061  0.119154   0.105662    0.394338\n",
       "  ⋮                               \n",
       "  0.776649  0.595944   0.0266441   0.202378\n",
       "  0.595944  0.776649  -0.0266441   0.202378\n",
       "  0.374626  0.904427  -0.0781151   0.188586\n",
       "  0.127778  0.97057   -0.124263    0.161943\n",
       " -0.127778  0.97057   -0.161943    0.124263\n",
       " -0.374626  0.904427  -0.188586    0.0781151\n",
       " -0.595944  0.776649  -0.202378    0.0266441\n",
       " -0.776649  0.595944  -0.202378   -0.0266441\n",
       " -0.904427  0.374626  -0.188586   -0.0781151\n",
       " -0.97057   0.127778  -0.161943   -0.124263\n",
       "  0.809511  0.106574  -0.458043    0.351469\n",
       "  0.754344  0.31246   -0.533402    0.220942"
      ]
     },
     "execution_count": 8,
     "metadata": {},
     "output_type": "execute_result"
    }
   ],
   "source": [
    "quaternions = readdlm(\"../data/quaternion/QUATERNION_LIST_576_Orient\");\n",
    "# quaternions = quaternions[1:10, :]\n",
    "size(quaternions)\n",
    "quaternions = quaternions[1:50, :]"
   ]
  },
  {
   "cell_type": "code",
   "execution_count": 9,
   "metadata": {},
   "outputs": [
    {
     "data": {
      "text/plain": [
       "1.2"
      ]
     },
     "execution_count": 9,
     "metadata": {},
     "output_type": "execute_result"
    }
   ],
   "source": [
    "grid_space = 1.2"
   ]
  },
  {
   "cell_type": "code",
   "execution_count": 10,
   "metadata": {},
   "outputs": [
    {
     "name": "stderr",
     "output_type": "stream",
     "text": [
      "\u001b[32mProgress: 100%|█████████████████████████████████████████| Time: 0:01:32\u001b[39m\n"
     ]
    },
    {
     "name": "stdout",
     "output_type": "stream",
     "text": [
      "124.570605 seconds (32.70 M allocations: 2.954 GiB, 2.83% gc time)\n"
     ]
    },
    {
     "data": {
      "text/plain": [
       "(receptor = 1x1799 TrjArray{Float64,Int64}\n",
       "| E                          | E                          |  …   E                          |\n",
       "| 1CYS                       | 1CYS                       |  …   245ASN                     |\n",
       "| 1N                         | 2CA                        |  …   1799OXT                    |\n",
       "|   -12.82    -4.83   -11.13 |   -12.18    -4.38    -9.89 |  …      -0.75     7.40   -21.12 |, ligand = 10x440 TrjArray{Float64,Int64}\n",
       "| I                          | I                          |  …   I                          |\n",
       "| 1ASP                       | 1ASP                       |  …   56CYS                      |\n",
       "| 1801N                      | 1802CA                     |  …   2240OXT                    |\n",
       "|   -22.61   -27.05   -10.17 |   -24.03   -26.72    -9.99 |  …      -8.36   -15.83    -4.70 |\n",
       "|   -22.61   -25.85   -10.17 |   -24.03   -25.52    -9.99 |         -8.36   -14.63    -4.70 |\n",
       "|   -22.61   -25.85    -8.97 |   -24.03   -25.52    -8.79 |         -8.36   -14.63    -3.50 |\n",
       "|   -22.61   -31.85   -10.17 |   -24.03   -31.52    -9.99 |         -8.36   -20.63    -4.70 |\n",
       "|   -22.61   -30.65   -10.17 |   -24.03   -30.32    -9.99 |         -8.36   -19.43    -4.70 |\n",
       "|   -22.61   -29.45   -10.17 |   -24.03   -29.12    -9.99 |  …      -8.36   -18.23    -4.70 |\n",
       "|   -22.61   -28.25   -10.17 |   -24.03   -27.92    -9.99 |         -8.36   -17.03    -4.70 |\n",
       "|   -22.61   -28.25    -8.97 |   -24.03   -27.92    -8.79 |         -8.36   -17.03    -3.50 |\n",
       "|   -22.61   -27.05    -8.97 |   -24.03   -26.72    -8.79 |         -8.36   -15.83    -3.50 |\n",
       "|   -22.61   -25.85    -7.77 |   -24.03   -25.52    -7.59 |         -8.36   -14.63    -2.30 |, score = [3.25899523939176e-5, 3.25899523939176e-5, 3.25899523939176e-5, 3.258995239391759e-5, 3.258995239391759e-5, 3.258995239391759e-5, 3.258995239391759e-5, 3.258995239391759e-5, 3.258995239391759e-5, 3.2589952393917585e-5])"
      ]
     },
     "execution_count": 10,
     "metadata": {},
     "output_type": "execute_result"
    }
   ],
   "source": [
    "@time result = MDToolbox.dock_fft(receptor, ligand, quaternions, grid_space=grid_space, tops=10)"
   ]
  },
  {
   "cell_type": "code",
   "execution_count": 11,
   "metadata": {},
   "outputs": [
    {
     "data": {
      "text/plain": [
       "10-element Array{Float64,1}:\n",
       " 3.25899523939176e-5\n",
       " 3.25899523939176e-5\n",
       " 3.25899523939176e-5\n",
       " 3.258995239391759e-5\n",
       " 3.258995239391759e-5\n",
       " 3.258995239391759e-5\n",
       " 3.258995239391759e-5\n",
       " 3.258995239391759e-5\n",
       " 3.258995239391759e-5\n",
       " 3.2589952393917585e-5"
      ]
     },
     "execution_count": 11,
     "metadata": {},
     "output_type": "execute_result"
    }
   ],
   "source": [
    "result.score"
   ]
  },
  {
   "cell_type": "code",
   "execution_count": 12,
   "metadata": {},
   "outputs": [
    {
     "data": {
      "text/plain": [
       "10x440 TrjArray{Float64,Int64}\n",
       "| I                          | I                          |  …   I                          |\n",
       "| 1ASP                       | 1ASP                       |  …   56CYS                      |\n",
       "| 1801N                      | 1802CA                     |  …   2240OXT                    |\n",
       "|   -22.61   -27.05   -10.17 |   -24.03   -26.72    -9.99 |  …      -8.36   -15.83    -4.70 |\n",
       "|   -22.61   -25.85   -10.17 |   -24.03   -25.52    -9.99 |         -8.36   -14.63    -4.70 |\n",
       "|   -22.61   -25.85    -8.97 |   -24.03   -25.52    -8.79 |         -8.36   -14.63    -3.50 |\n",
       "|   -22.61   -31.85   -10.17 |   -24.03   -31.52    -9.99 |         -8.36   -20.63    -4.70 |\n",
       "|   -22.61   -30.65   -10.17 |   -24.03   -30.32    -9.99 |         -8.36   -19.43    -4.70 |\n",
       "|   -22.61   -29.45   -10.17 |   -24.03   -29.12    -9.99 |  …      -8.36   -18.23    -4.70 |\n",
       "|   -22.61   -28.25   -10.17 |   -24.03   -27.92    -9.99 |         -8.36   -17.03    -4.70 |\n",
       "|   -22.61   -28.25    -8.97 |   -24.03   -27.92    -8.79 |         -8.36   -17.03    -3.50 |\n",
       "|   -22.61   -27.05    -8.97 |   -24.03   -26.72    -8.79 |         -8.36   -15.83    -3.50 |\n",
       "|   -22.61   -25.85    -7.77 |   -24.03   -25.52    -7.59 |         -8.36   -14.63    -2.30 |"
      ]
     },
     "execution_count": 12,
     "metadata": {},
     "output_type": "execute_result"
    }
   ],
   "source": [
    "result.ligand"
   ]
  },
  {
   "cell_type": "code",
   "execution_count": 13,
   "metadata": {},
   "outputs": [],
   "source": [
    "writepdb(\"result_receptor.pdb\", result.receptor)\n",
    "writepdb(\"result_ligand.pdb\", result.ligand)"
   ]
  },
  {
   "cell_type": "code",
   "execution_count": null,
   "metadata": {},
   "outputs": [],
   "source": []
  },
  {
   "cell_type": "code",
   "execution_count": null,
   "metadata": {},
   "outputs": [],
   "source": []
  }
 ],
 "metadata": {
  "kernelspec": {
   "display_name": "Julia 1.5.3",
   "language": "julia",
   "name": "julia-1.5"
  },
  "language_info": {
   "file_extension": ".jl",
   "mimetype": "application/julia",
   "name": "julia",
   "version": "1.5.3"
  }
 },
 "nbformat": 4,
 "nbformat_minor": 4
}
