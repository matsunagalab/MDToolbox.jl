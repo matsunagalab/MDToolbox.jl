{
 "cells": [
  {
   "cell_type": "code",
   "execution_count": 1,
   "metadata": {},
   "outputs": [
    {
     "data": {
      "text/plain": [
       "10-element Array{Int64,1}:\n",
       "  2\n",
       "  3\n",
       "  4\n",
       "  5\n",
       "  6\n",
       "  7\n",
       "  8\n",
       "  9\n",
       " 10\n",
       " 11"
      ]
     },
     "execution_count": 1,
     "metadata": {},
     "output_type": "execute_result"
    }
   ],
   "source": [
    "using Distributed\n",
    "addprocs(10)"
   ]
  },
  {
   "cell_type": "code",
   "execution_count": 2,
   "metadata": {},
   "outputs": [
    {
     "name": "stderr",
     "output_type": "stream",
     "text": [
      "┌ Warning: no Manifest.toml file found, static paths used\n",
      "└ @ Revise /opt/julia_depot/packages/Revise/moD4B/src/packagedef.jl:1361\n"
     ]
    }
   ],
   "source": [
    "@everywhere using DelimitedFiles\n",
    "@everywhere using Revise, MDToolbox\n",
    "ENV[\"COLUMNS\"]=110; #display width for MDToolbox"
   ]
  },
  {
   "cell_type": "code",
   "execution_count": 3,
   "metadata": {},
   "outputs": [
    {
     "data": {
      "text/plain": [
       "1x440 TrjArray{Float64,Int64}\n",
       "| I                          | I                          |  …   I                          |\n",
       "| 1ASP                       | 1ASP                       |  …   56CYS                      |\n",
       "| 1801N                      | 1802CA                     |  …   2240OXT                    |\n",
       "|    64.86    34.03    29.79 |    65.13    34.96    28.68 |  …      51.32    20.79    29.47 |"
      ]
     },
     "execution_count": 3,
     "metadata": {},
     "output_type": "execute_result"
    }
   ],
   "source": [
    "receptor=readpdb(\"1cgi_receptor.pdb\")\n",
    "ligand=readpdb(\"1cgi_ligand.pdb\")"
   ]
  },
  {
   "cell_type": "code",
   "execution_count": 4,
   "metadata": {},
   "outputs": [
    {
     "data": {
      "text/plain": [
       "1x440 TrjArray{Float64,Int64}\n",
       "| I                          | I                          |  …   I                          |\n",
       "| 1ASP                       | 1ASP                       |  …   56CYS                      |\n",
       "| 1801N                      | 1802CA                     |  …   2240OXT                    |\n",
       "|    64.86    34.03    29.79 |    65.13    34.96    28.68 |  …      51.32    20.79    29.47 |"
      ]
     },
     "execution_count": 4,
     "metadata": {},
     "output_type": "execute_result"
    }
   ],
   "source": [
    "receptor =  MDToolbox.set_radius(receptor)\n",
    "ligand = MDToolbox.set_radius(ligand)"
   ]
  },
  {
   "cell_type": "code",
   "execution_count": 5,
   "metadata": {},
   "outputs": [
    {
     "data": {
      "text/plain": [
       "440-element Array{Float64,1}:\n",
       " 33.14939845728653\n",
       " 12.831049795424109\n",
       "  4.528605810149686\n",
       " 32.81343261192081\n",
       " 25.158921167498253\n",
       "  9.183006226136861\n",
       " 35.71530080209068\n",
       " 52.34523773806415\n",
       "  4.898364720492511\n",
       "  7.296087138574493\n",
       "  4.528605810149686\n",
       " 30.13478505176401\n",
       " 20.378726145673582\n",
       "  ⋮\n",
       "  0.0\n",
       "  5.357295120313601\n",
       " 16.353298758873866\n",
       " 26.416867225873165\n",
       " 23.0204128682609\n",
       "  0.0\n",
       "  0.25158921167498255\n",
       "  2.6416867225873166\n",
       " 31.027667571816274\n",
       " 15.346941912173934\n",
       "  0.26808257310632905\n",
       " 45.53700852266561"
      ]
     },
     "execution_count": 5,
     "metadata": {},
     "output_type": "execute_result"
    }
   ],
   "source": [
    "receptor_sasa = MDToolbox.compute_sasa(receptor, 1.4)\n",
    "ligand_sasa = MDToolbox.compute_sasa(ligand, 1.4)"
   ]
  },
  {
   "cell_type": "code",
   "execution_count": 6,
   "metadata": {},
   "outputs": [],
   "source": [
    "receptor = TrjArray(receptor, charge=receptor_sasa)\n",
    "writepdb(\"test.pdb\", receptor)"
   ]
  },
  {
   "cell_type": "code",
   "execution_count": 7,
   "metadata": {},
   "outputs": [
    {
     "data": {
      "text/plain": [
       "1x440 TrjArray{Float64,Int64}\n",
       "| I                          | I                          |  …   I                          |\n",
       "| 1ASP                       | 1ASP                       |  …   56CYS                      |\n",
       "| 1801N                      | 1802CA                     |  …   2240OXT                    |\n",
       "|    64.86    34.03    29.79 |    65.13    34.96    28.68 |  …      51.32    20.79    29.47 |"
      ]
     },
     "execution_count": 7,
     "metadata": {},
     "output_type": "execute_result"
    }
   ],
   "source": [
    "receptor = TrjArray(receptor, mass=receptor_sasa)\n",
    "ligand = TrjArray(ligand, mass=ligand_sasa)"
   ]
  },
  {
   "cell_type": "code",
   "execution_count": 8,
   "metadata": {},
   "outputs": [
    {
     "data": {
      "text/plain": [
       "(576, 4)"
      ]
     },
     "execution_count": 8,
     "metadata": {},
     "output_type": "execute_result"
    }
   ],
   "source": [
    "quaternions = readdlm(\"../data/quaternion/QUATERNION_LIST_576_Orient\");\n",
    "#quaternions = readdlm(\"../data/quaternion/QUATERNION_LIST_4608_Orient\");\n",
    "# quaternions = quaternions[1:10, :]\n",
    "size(quaternions)\n",
    "#quaternions = quaternions[1:50, :]"
   ]
  },
  {
   "cell_type": "code",
   "execution_count": 9,
   "metadata": {},
   "outputs": [
    {
     "data": {
      "text/plain": [
       "1.2"
      ]
     },
     "execution_count": 9,
     "metadata": {},
     "output_type": "execute_result"
    }
   ],
   "source": [
    "grid_space = 1.2"
   ]
  },
  {
   "cell_type": "code",
   "execution_count": 10,
   "metadata": {},
   "outputs": [
    {
     "name": "stderr",
     "output_type": "stream",
     "text": [
      "\u001b[32mProgress: 100%|█████████████████████████████████████████| Time: 0:01:07\u001b[39m\n"
     ]
    },
    {
     "name": "stdout",
     "output_type": "stream",
     "text": [
      "162.545923 seconds (38.85 M allocations: 17.191 GiB, 1.62% gc time)\n"
     ]
    },
    {
     "data": {
      "text/plain": [
       "(receptor = 1x1799 TrjArray{Float64,Int64}\n",
       "| E                          | E                          |  …   E                          |\n",
       "| 1CYS                       | 1CYS                       |  …   245ASN                     |\n",
       "| 1N                         | 2CA                        |  …   1799OXT                    |\n",
       "|   -12.82    -4.83   -11.13 |   -12.18    -4.38    -9.89 |  …      -0.75     7.40   -21.12 |, ligand = 10x440 TrjArray{Float64,Int64}\n",
       "| I                          | I                          |  …   I                          |\n",
       "| 1ASP                       | 1ASP                       |  …   56CYS                      |\n",
       "| 1801N                      | 1802CA                     |  …   2240OXT                    |\n",
       "|   -27.79   -31.15   -35.48 |   -29.21   -30.92   -35.19 |  …     -14.48   -33.28   -22.17 |\n",
       "|   -27.79   -29.95   -35.48 |   -29.21   -29.72   -35.19 |        -14.48   -32.08   -22.17 |\n",
       "|   -27.79   -28.75   -35.48 |   -29.21   -28.52   -35.19 |        -14.48   -30.88   -22.17 |\n",
       "|   -28.99   -31.15   -31.88 |   -30.41   -30.92   -31.59 |        -15.68   -33.28   -18.57 |\n",
       "|   -28.99   -28.75   -31.88 |   -30.41   -28.52   -31.59 |        -15.68   -30.88   -18.57 |\n",
       "|   -28.99   -27.55   -31.88 |   -30.41   -27.32   -31.59 |  …     -15.68   -29.68   -18.57 |\n",
       "|   -28.99   -28.75   -30.68 |   -30.41   -28.52   -30.39 |        -15.68   -30.88   -17.37 |\n",
       "|   -28.99   -27.55   -30.68 |   -30.41   -27.32   -30.39 |        -15.68   -29.68   -17.37 |\n",
       "|   -28.99   -31.15   -30.68 |   -30.41   -30.92   -30.39 |        -15.68   -33.28   -17.37 |\n",
       "|   -28.99   -31.15   -34.28 |   -30.41   -30.92   -33.99 |        -15.68   -33.28   -20.97 |, score = [5.9816997236339375e-5, 5.981699359836057e-5, 5.899193638470024e-5, 5.8579429605742916e-5, 5.8579429605742916e-5, 5.8579429605742916e-5, 5.8579429605742916e-5, 5.8579429605742916e-5, 5.857942596776411e-5, 5.85794223297853e-5])"
      ]
     },
     "execution_count": 10,
     "metadata": {},
     "output_type": "execute_result"
    }
   ],
   "source": [
    "@time result = MDToolbox.dock_fft(receptor, ligand, quaternions, grid_space=grid_space, tops=10)"
   ]
  },
  {
   "cell_type": "code",
   "execution_count": 11,
   "metadata": {},
   "outputs": [
    {
     "data": {
      "text/plain": [
       "10-element Array{Float64,1}:\n",
       " 5.9816997236339375e-5\n",
       " 5.981699359836057e-5\n",
       " 5.899193638470024e-5\n",
       " 5.8579429605742916e-5\n",
       " 5.8579429605742916e-5\n",
       " 5.8579429605742916e-5\n",
       " 5.8579429605742916e-5\n",
       " 5.8579429605742916e-5\n",
       " 5.857942596776411e-5\n",
       " 5.85794223297853e-5"
      ]
     },
     "execution_count": 11,
     "metadata": {},
     "output_type": "execute_result"
    }
   ],
   "source": [
    "result.score"
   ]
  },
  {
   "cell_type": "code",
   "execution_count": 12,
   "metadata": {},
   "outputs": [
    {
     "data": {
      "text/plain": [
       "10x440 TrjArray{Float64,Int64}\n",
       "| I                          | I                          |  …   I                          |\n",
       "| 1ASP                       | 1ASP                       |  …   56CYS                      |\n",
       "| 1801N                      | 1802CA                     |  …   2240OXT                    |\n",
       "|   -27.79   -31.15   -35.48 |   -29.21   -30.92   -35.19 |  …     -14.48   -33.28   -22.17 |\n",
       "|   -27.79   -29.95   -35.48 |   -29.21   -29.72   -35.19 |        -14.48   -32.08   -22.17 |\n",
       "|   -27.79   -28.75   -35.48 |   -29.21   -28.52   -35.19 |        -14.48   -30.88   -22.17 |\n",
       "|   -28.99   -31.15   -31.88 |   -30.41   -30.92   -31.59 |        -15.68   -33.28   -18.57 |\n",
       "|   -28.99   -28.75   -31.88 |   -30.41   -28.52   -31.59 |        -15.68   -30.88   -18.57 |\n",
       "|   -28.99   -27.55   -31.88 |   -30.41   -27.32   -31.59 |  …     -15.68   -29.68   -18.57 |\n",
       "|   -28.99   -28.75   -30.68 |   -30.41   -28.52   -30.39 |        -15.68   -30.88   -17.37 |\n",
       "|   -28.99   -27.55   -30.68 |   -30.41   -27.32   -30.39 |        -15.68   -29.68   -17.37 |\n",
       "|   -28.99   -31.15   -30.68 |   -30.41   -30.92   -30.39 |        -15.68   -33.28   -17.37 |\n",
       "|   -28.99   -31.15   -34.28 |   -30.41   -30.92   -33.99 |        -15.68   -33.28   -20.97 |"
      ]
     },
     "execution_count": 12,
     "metadata": {},
     "output_type": "execute_result"
    }
   ],
   "source": [
    "result.ligand"
   ]
  },
  {
   "cell_type": "code",
   "execution_count": 13,
   "metadata": {},
   "outputs": [],
   "source": [
    "writepdb(\"result_receptor.pdb\", result.receptor)\n",
    "writepdb(\"result_ligand.pdb\", result.ligand)"
   ]
  },
  {
   "cell_type": "code",
   "execution_count": null,
   "metadata": {},
   "outputs": [],
   "source": []
  },
  {
   "cell_type": "markdown",
   "metadata": {},
   "source": []
  },
  {
   "cell_type": "code",
   "execution_count": null,
   "metadata": {},
   "outputs": [],
   "source": []
  }
 ],
 "metadata": {
  "kernelspec": {
   "display_name": "Julia 1.5.2",
   "language": "julia",
   "name": "julia-1.5.2"
  },
  "language_info": {
   "file_extension": ".jl",
   "mimetype": "application/julia",
   "name": "julia",
   "version": "1.5.2"
  }
 },
 "nbformat": 4,
 "nbformat_minor": 4
}
