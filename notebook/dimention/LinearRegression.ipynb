{
 "cells": [
  {
   "cell_type": "code",
   "execution_count": 83,
   "metadata": {},
   "outputs": [
    {
     "name": "stderr",
     "output_type": "stream",
     "text": [
      "┌ Warning: `getindex(o::PyObject, s::Symbol)` is deprecated in favor of dot overloading (`getproperty`) so elements should now be accessed as e.g. `o.s` instead of `o[:s]`.\n",
      "│   caller = top-level scope at In[83]:11\n",
      "└ @ Core In[83]:11\n",
      "┌ Warning: `getindex(o::PyObject, s::Symbol)` is deprecated in favor of dot overloading (`getproperty`) so elements should now be accessed as e.g. `o.s` instead of `o[:s]`.\n",
      "│   caller = top-level scope at In[83]:11\n",
      "└ @ Core In[83]:11\n"
     ]
    }
   ],
   "source": [
    "using PyPlot;\n",
    "using Revise;\n",
    "using MDToolbox;\n",
    "using StatsBase; # for calculating histogram\n",
    "using Printf;\n",
    "using DelimitedFiles;\n",
    "using Distributions;\n",
    "using LinearAlgebra;\n",
    "using GLM;\n",
    "using DataFrames;\n",
    "PyPlot.plt[:style][:use](\"seaborn-colorblind\");\n",
    "ENV[\"COLUMNS\"] = 110; #display width for MDToolbox"
   ]
  },
  {
   "cell_type": "code",
   "execution_count": 84,
   "metadata": {},
   "outputs": [
    {
     "data": {
      "text/plain": [
       "2×2 Array{Float64,2}:\n",
       " 900.0    0.0\n",
       "   0.0  900.0"
      ]
     },
     "execution_count": 84,
     "metadata": {},
     "output_type": "execute_result"
    }
   ],
   "source": [
    "# setup constants\n",
    "KBT = KB_kcalpermol*300.0\n",
    "sigma = 30.0\n",
    "sigma_matrix = (sigma^2) * Matrix{Float64}(I, 2, 2)"
   ]
  },
  {
   "cell_type": "code",
   "execution_count": 85,
   "metadata": {},
   "outputs": [
    {
     "data": {
      "text/plain": [
       "144×2 Array{Float64,2}:\n",
       " -180.0  165.0\n",
       " -165.0  165.0\n",
       " -150.0  165.0\n",
       " -135.0  165.0\n",
       " -120.0  165.0\n",
       " -105.0  165.0\n",
       "  -90.0  165.0\n",
       "  -75.0  165.0\n",
       "  -60.0  165.0\n",
       "  -45.0  165.0\n",
       "  -30.0  165.0\n",
       "  -15.0  165.0\n",
       " -180.0  150.0\n",
       "    ⋮         \n",
       " -180.0    0.0\n",
       " -165.0    0.0\n",
       " -150.0    0.0\n",
       " -135.0    0.0\n",
       " -120.0    0.0\n",
       " -105.0    0.0\n",
       "  -90.0    0.0\n",
       "  -75.0    0.0\n",
       "  -60.0    0.0\n",
       "  -45.0    0.0\n",
       "  -30.0    0.0\n",
       "  -15.0    0.0"
      ]
     },
     "execution_count": 85,
     "metadata": {},
     "output_type": "execute_result"
    }
   ],
   "source": [
    "# umbrella window centers\n",
    "phi_centers = -180:15:-15\n",
    "psi_centers = 165:-15:0\n",
    "umbrella_centers_num = length(phi_centers) * length(psi_centers)\n",
    "\n",
    "umbrella_centers = zeros(Float64, umbrella_centers_num, 2)\n",
    "umbrella_center_index = 0\n",
    "for i = 1:length(psi_centers)\n",
    "    for j = 1:length(phi_centers)\n",
    "        umbrella_center_index += 1\n",
    "        umbrella_centers[umbrella_center_index, :] = [phi_centers[j], psi_centers[i]]\n",
    "    end\n",
    "end\n",
    "\n",
    "umbrella_centers"
   ]
  },
  {
   "cell_type": "code",
   "execution_count": 86,
   "metadata": {},
   "outputs": [
    {
     "data": {
      "text/plain": [
       "32761-element Array{Any,1}:\n",
       " [-180.0, 180.0]\n",
       " [-180.0, 179.0]\n",
       " [-180.0, 178.0]\n",
       " [-180.0, 177.0]\n",
       " [-180.0, 176.0]\n",
       " [-180.0, 175.0]\n",
       " [-180.0, 174.0]\n",
       " [-180.0, 173.0]\n",
       " [-180.0, 172.0]\n",
       " [-180.0, 171.0]\n",
       " [-180.0, 170.0]\n",
       " [-180.0, 169.0]\n",
       " [-180.0, 168.0]\n",
       " ⋮              \n",
       " [0.0, 11.0]    \n",
       " [0.0, 10.0]    \n",
       " [0.0, 9.0]     \n",
       " [0.0, 8.0]     \n",
       " [0.0, 7.0]     \n",
       " [0.0, 6.0]     \n",
       " [0.0, 5.0]     \n",
       " [0.0, 4.0]     \n",
       " [0.0, 3.0]     \n",
       " [0.0, 2.0]     \n",
       " [0.0, 1.0]     \n",
       " [0.0, 0.0]     "
      ]
     },
     "execution_count": 86,
     "metadata": {},
     "output_type": "execute_result"
    }
   ],
   "source": [
    "# define edges for bin\n",
    "bin_phi_edge = range(-180, stop=0, length=181)\n",
    "bin_psi_edge = range(180,  stop=0, length=181)\n",
    "\n",
    "bin_centers = []\n",
    "for i = 1:length(bin_phi_edge)\n",
    "    for j = 1:length(bin_psi_edge)\n",
    "        push!(bin_centers, [bin_phi_edge[i], bin_psi_edge[j]])\n",
    "    end\n",
    "end\n",
    "\n",
    "bin_centers"
   ]
  },
  {
   "cell_type": "code",
   "execution_count": 87,
   "metadata": {},
   "outputs": [
    {
     "data": {
      "text/plain": [
       "500×2 Array{Float64,2}:\n",
       " -164.972  164.108\n",
       " -160.911  168.567\n",
       " -171.679  161.774\n",
       " -156.049  161.583\n",
       " -167.606  162.016\n",
       " -159.983  169.105\n",
       " -164.515  160.117\n",
       " -162.961  156.088\n",
       " -159.895  160.316\n",
       " -158.784  165.7  \n",
       " -170.123  165.196\n",
       " -159.501  163.44 \n",
       " -164.404  166.269\n",
       "    ⋮             \n",
       " -167.185  168.067\n",
       " -164.316  167.479\n",
       " -165.717  171.068\n",
       " -165.84   166.974\n",
       " -162.045  163.492\n",
       " -162.985  167.539\n",
       " -165.373  163.048\n",
       " -160.657  166.925\n",
       " -160.15   173.386\n",
       " -166.56   165.407\n",
       " -164.746  163.245\n",
       " -161.038  154.175"
      ]
     },
     "execution_count": 87,
     "metadata": {},
     "output_type": "execute_result"
    }
   ],
   "source": [
    "# read dihedral angle data\n",
    "data_k = []\n",
    "for i = 1:umbrella_centers_num\n",
    "  filename = @sprintf \"4_prod/run_%d_%d.dat\" umbrella_centers[i, 1] umbrella_centers[i, 2]\n",
    "  x = readdlm(filename);\n",
    "  push!(data_k, x[:, 2:3])\n",
    "end\n",
    "\n",
    "data_k[2]"
   ]
  },
  {
   "cell_type": "code",
   "execution_count": 88,
   "metadata": {},
   "outputs": [
    {
     "data": {
      "text/plain": [
       "72000-element Array{Any,1}:\n",
       " -4.935462276902977   \n",
       " -0.13490157386041274 \n",
       " -0.9349085969860804  \n",
       " -1.3748726779391758  \n",
       " -1.1504412963612665  \n",
       " -2.4683863999374074  \n",
       " -0.49775183782894206 \n",
       " -0.3091602460611814  \n",
       " -0.7611271573622848  \n",
       " -0.7110066893513591  \n",
       " -0.5545981427852518  \n",
       " -0.010861358464824932\n",
       " -0.22378719651242993 \n",
       "  ⋮                   \n",
       " -2.9009642295406306  \n",
       " -8.61778791894545    \n",
       " -2.784956999836652   \n",
       " -2.35182498928542    \n",
       " -1.414631090062178   \n",
       " -4.2121371042153175  \n",
       " -0.009414331228022389\n",
       " -0.8915792356582698  \n",
       " -3.2281529969629923  \n",
       " -1.6465018544903123  \n",
       " -0.6778964941498379  \n",
       " -1.0001356198266487  "
      ]
     },
     "execution_count": 88,
     "metadata": {},
     "output_type": "execute_result"
    }
   ],
   "source": [
    "# ΔWの計算\n",
    "include(\"Density.jl\")\n",
    "include(\"PotentialOfMeanForce.jl\")\n",
    "\n",
    "delta_pmfs = []\n",
    "for i = 1:umbrella_centers_num\n",
    "    for j = 1:size(data_k[i], 1)\n",
    "        push!(delta_pmfs, calc_delta_potential_of_mean_force(umbrella_centers[i, :], data_k[i], sigma_matrix, KBT, data_k[i][j, :]))\n",
    "    end\n",
    "end\n",
    "\n",
    "delta_pmfs"
   ]
  },
  {
   "cell_type": "code",
   "execution_count": 89,
   "metadata": {},
   "outputs": [
    {
     "data": {
      "text/plain": [
       "72000×144 Array{Float64,2}:\n",
       " 0.000158766  0.00017406   0.000148616  9.88233e-5   …  3.28669e-14  4.87652e-15  5.63493e-16  5.07099e-17\n",
       " 0.000176341  0.000160649  0.00011398   6.29801e-5      2.56545e-14  3.16299e-15  3.0371e-16   2.27115e-17\n",
       " 0.000173301  0.000167841  0.000126596  7.43647e-5      2.16964e-14  2.84377e-15  2.90287e-16  2.30774e-17\n",
       " 0.000171656  0.000171116  0.000132846  8.0322e-5       4.35507e-14  5.87541e-15  6.17316e-16  5.0513e-17 \n",
       " 0.000172479  0.000167228  0.000126272  7.42565e-5      1.70894e-14  2.24239e-15  2.29151e-16  1.82372e-17\n",
       " 0.000167568  0.000168692  0.000132258  8.07565e-5   …  1.48236e-14  2.01961e-15  2.14293e-16  1.77082e-17\n",
       " 0.000174951  0.000163679  0.00011926   6.76742e-5      1.55398e-14  1.96758e-15  1.9402e-16   1.49e-17   \n",
       " 0.000175681  0.000163344  0.000118278  6.67012e-5      3.13351e-14  3.94292e-15  3.86395e-16  2.94898e-17\n",
       " 0.00017396   0.000167058  0.000124943  7.27752e-5      2.16378e-14  2.81217e-15  2.84641e-16  2.24378e-17\n",
       " 0.000174158  0.000167731  0.000125809  7.34909e-5      3.16829e-14  4.12959e-15  4.19193e-16  3.31397e-17\n",
       " 0.000174734  0.000161523  0.000116283  6.51971e-5   …  4.53252e-14  5.67033e-15  5.52462e-16  4.19202e-17\n",
       " 0.00017679   0.000154578  0.00010526   5.58217e-5      1.60916e-14  1.90414e-15  1.75479e-16  1.25944e-17\n",
       " 0.000176007  0.000162841  0.000117334  6.5843e-5       2.63062e-14  3.29385e-15  3.21199e-16  2.43934e-17\n",
       " ⋮                                                   ⋱  ⋮                                                 \n",
       " 2.67146e-17  3.15553e-16  2.90284e-15  2.07969e-14     8.60738e-5   0.000137596  0.000171304  0.000166094\n",
       " 5.52927e-16  5.6482e-15   4.49344e-14  2.78403e-13     0.000117404  0.000162307  0.00017475   0.000146529\n",
       " 3.83063e-17  4.49183e-16  4.10207e-15  2.91749e-14  …  8.82032e-5   0.000139975  0.000172997  0.000166516\n",
       " 1.46704e-16  1.79318e-15  1.707e-14    1.26553e-13     7.85676e-5   0.000129969  0.00016744   0.000167999\n",
       " 1.29428e-17  1.63504e-16  1.60863e-15  1.23256e-14     7.26727e-5   0.000124246  0.000165433  0.000171548\n",
       " 4.47172e-17  5.05885e-16  4.45712e-15  3.05833e-14     9.52103e-5   0.000145771  0.000173814  0.000161408\n",
       " 1.4782e-17   2.0244e-16   2.15916e-15  1.7935e-14      5.879e-5     0.000108963  0.000157282  0.000176809\n",
       " 7.05362e-18  9.37962e-17  9.71371e-16  7.83449e-15  …  6.30117e-5   0.000113398  0.000158934  0.000173481\n",
       " 2.31549e-17  2.72783e-16  2.50274e-15  1.7883e-14      8.61426e-5   0.000137342  0.000170534  0.000164911\n",
       " 7.36587e-17  8.93541e-16  8.44173e-15  6.21119e-14     8.16524e-5   0.000134051  0.000171395  0.000170668\n",
       " 6.97923e-18  9.38147e-17  9.82111e-16  8.00713e-15     6.12849e-5   0.000111488  0.000157953  0.000174284\n",
       " 2.36684e-17  2.96894e-16  2.90042e-15  2.20671e-14     7.49051e-5   0.000127161  0.000168122  0.000173109"
      ]
     },
     "execution_count": 89,
     "metadata": {},
     "output_type": "execute_result"
    }
   ],
   "source": [
    "# 設計行列の計算\n",
    "\n",
    "include(\"DesignMatrix.jl\")\n",
    "M = calc_design_matrix(umbrella_centers, data_k, sigma_matrix)"
   ]
  },
  {
   "cell_type": "code",
   "execution_count": 90,
   "metadata": {},
   "outputs": [
    {
     "data": {
      "text/plain": [
       "144-element Array{Any,1}:\n",
       "  3.521601477249011e9  \n",
       " -1.557766977883767e10 \n",
       "  3.6898219432758705e10\n",
       " -6.148226813563434e10 \n",
       "  7.99671428801204e10  \n",
       " -8.546008412226602e10 \n",
       "  7.694351879649097e10 \n",
       " -5.871070487861165e10 \n",
       "  3.744279205794606e10 \n",
       " -1.9125327283061623e10\n",
       "  7.079752037088048e9  \n",
       " -1.442459738710411e9  \n",
       " -1.465960834336196e10 \n",
       "  ⋮                    \n",
       " -1.1236039024517636e9 \n",
       "  5.04308393660395e9   \n",
       " -1.208462456885396e10 \n",
       "  2.025996743564303e10 \n",
       " -2.633474536292344e10 \n",
       "  2.7912994035460003e10\n",
       " -2.473072052286076e10 \n",
       "  1.8424304468071617e10\n",
       " -1.1383897290390816e10\n",
       "  5.585725129441347e9  \n",
       " -1.966410057603166e9  \n",
       "  3.7460816434465367e8 "
      ]
     },
     "execution_count": 90,
     "metadata": {},
     "output_type": "execute_result"
    }
   ],
   "source": [
    "# 最小二乗推定で重みを計算する\n",
    "\n",
    "U, S, V = svd(M) # 特異値分解\n",
    "inverse_M = V * inv(Diagonal(S)) * U' # 擬似逆行列\n",
    "weight = inverse_M * delta_pmfs"
   ]
  },
  {
   "cell_type": "code",
   "execution_count": 91,
   "metadata": {},
   "outputs": [
    {
     "data": {
      "image/png": "[encoded data removed]",
      "text/plain": [
       "Figure(PyObject <Figure size 640x480 with 1 Axes>)"
      ]
     },
     "metadata": {},
     "output_type": "display_data"
    },
    {
     "data": {
      "text/plain": [
       "1-element Array{PyCall.PyObject,1}:\n",
       " PyObject <matplotlib.lines.Line2D object at 0x1409f89e8>"
      ]
     },
     "execution_count": 91,
     "metadata": {},
     "output_type": "execute_result"
    }
   ],
   "source": [
    "plot(S)"
   ]
  },
  {
   "cell_type": "code",
   "execution_count": 92,
   "metadata": {},
   "outputs": [
    {
     "data": {
      "text/plain": [
       "181×181 Array{Any,2}:\n",
       " -1.39994   -3.00259   -4.11716   -4.79301   -5.08215  …  -6.26028   -8.38897   -10.7029      -13.1963  \n",
       " -1.31462   -2.79613   -3.83079   -4.46357   -4.74187     -5.0461    -6.91317    -8.94841     -11.147   \n",
       " -1.23373   -2.59654   -3.5526    -4.14266   -4.40963     -3.8767    -5.49089    -7.25669      -9.17007 \n",
       " -1.15772   -2.40484   -3.28404   -3.83195   -4.08719     -2.75773   -4.12898    -5.63582      -7.27506 \n",
       " -1.08695   -2.22198   -3.02643   -3.533     -3.77619     -1.69436   -2.83364    -4.09317      -5.47049 \n",
       " -1.02176   -2.0488    -2.78098   -3.24724   -3.47814  …  -0.691152  -1.61042    -2.63527      -3.76397 \n",
       " -0.962404  -1.88603   -2.54875   -2.97594   -3.19442      0.247896  -0.464114   -1.2678       -2.16211 \n",
       " -0.90907   -1.73429   -2.33065   -2.7202    -2.92623      1.11945    0.601251    0.00447564   -0.670462\n",
       " -0.861885  -1.59407   -2.12747   -2.48098   -2.67461      1.92084    1.58246     1.17775       0.706549\n",
       " -0.820907  -1.46575   -1.93979   -2.25902   -2.44041      2.65008    2.47712     2.2492        1.96563 \n",
       " -0.786124  -1.34957   -1.76806   -2.05492   -2.22431  …   3.3059     3.28369     3.217         3.10464 \n",
       " -0.757461  -1.24565   -1.61255   -1.86906   -2.02679      3.88772    4.00147     4.08031       4.12261 \n",
       " -0.734774  -1.15397   -1.47336   -1.70165   -1.84813      4.39566    4.63061     4.83929       5.0197  \n",
       "  ⋮                                                    ⋱                                        ⋮       \n",
       " -0.455661  -0.682272  -0.886377  -1.06807   -1.22763      4.38408    4.83278     5.28166       5.72864 \n",
       " -0.432611  -0.655812  -0.856957  -1.03613   -1.19358  …   4.81507    5.3057      5.79777       6.28897 \n",
       " -0.41551   -0.634829  -0.832509  -1.00863   -1.16344      5.21614    5.74574     6.27793       6.81022 \n",
       " -0.405556  -0.620513  -0.814227  -0.986779  -1.13843      5.58197    6.14723     6.71617       7.28612 \n",
       " -0.403937  -0.61405   -0.803301  -0.971782  -1.11976      5.90743    6.50478     7.10681       7.71069 \n",
       " -0.411815  -0.616599  -0.800901  -0.964827  -1.10866      6.18763    6.81327     7.44449       8.07834 \n",
       " -0.430312  -0.62928   -0.808159  -0.967072  -1.10631  …   6.41799    7.06792     7.72427       8.38396 \n",
       " -0.460488  -0.653154  -0.826153  -0.979624  -1.11388      6.59431    7.2644      7.94167       8.62295 \n",
       " -0.503328  -0.689205  -0.855888  -1.00353   -1.13243      6.71279    7.39882     8.09274       8.79127 \n",
       " -0.559725  -0.73833   -0.898283  -1.03974   -1.163        6.7701     7.46783     8.17408       8.88553 \n",
       " -0.630466  -0.80132   -0.954156  -1.08912   -1.2065       6.76344    7.46862     8.18291       8.90297 \n",
       " -0.716219  -0.878846  -1.02421   -1.15241   -1.26374  …   6.69052    7.39899     8.11712       8.84155 "
      ]
     },
     "execution_count": 92,
     "metadata": {},
     "output_type": "execute_result"
    }
   ],
   "source": [
    "# PMFの計算\n",
    "include(\"PotentialOfMeanForce.jl\")\n",
    "\n",
    "pmf = calc_potential_of_mean_force(umbrella_centers, bin_centers, weight, sigma_matrix)\n",
    "pmf = reshape(pmf, size(bin_phi_edge, 1), size(bin_psi_edge, 1))"
   ]
  },
  {
   "cell_type": "code",
   "execution_count": 93,
   "metadata": {},
   "outputs": [
    {
     "data": {
      "text/plain": [
       "181×181 Array{Float64,2}:\n",
       " 17.1252  15.5225  14.408   13.7321  13.443   13.4867  …  14.2046  12.2649  10.1362   7.82224   5.32881\n",
       " 17.2105  15.729   14.6943  14.0616  13.7833  13.8104     15.1749  13.479   11.612    9.57673   7.37817\n",
       " 17.2914  15.9286  14.9725  14.3825  14.1155  14.1272     16.1087  14.6484  13.0342  11.2685    9.35507\n",
       " 17.3674  16.1203  15.2411  14.6932  14.4379  14.4354     17.0013  15.7674  14.3962  12.8893   11.2501 \n",
       " 17.4382  16.3032  15.4987  14.9921  14.749   14.7334     17.8487  16.8308  15.6915  14.432    13.0546 \n",
       " 17.5034  16.4763  15.7442  15.2779  15.047   15.0198  …  18.6471  17.834   16.9147  15.8899   14.7612 \n",
       " 17.5627  16.6391  15.9764  15.5492  15.3307  15.2931     19.3933  18.773   18.061   17.2573   16.363  \n",
       " 17.6161  16.7908  16.1945  15.8049  15.5989  15.5522     20.0846  19.6446  19.1264  18.5296   17.8547 \n",
       " 17.6633  16.9311  16.3977  16.0442  15.8505  15.796      20.7189  20.446   20.1076  19.7029   19.2317 \n",
       " 17.7042  17.0594  16.5853  16.2661  16.0847  16.0235     21.2945  21.1752  21.0023  20.7743   20.4908 \n",
       " 17.739   17.1756  16.7571  16.4702  16.3008  16.2341  …  21.8104  21.831   21.8088  21.7421   21.6298 \n",
       " 17.7677  17.2795  16.9126  16.6561  16.4983  16.4273     22.2662  22.4129  22.5266  22.6054   22.6477 \n",
       " 17.7904  17.3712  17.0518  16.8235  16.677   16.6026     22.6618  22.9208  23.1557  23.3644   23.5448 \n",
       "  ⋮                                            ⋮       ⋱                                        ⋮      \n",
       " 18.0695  17.8429  17.6388  17.4571  17.2975  17.1596     22.4628  22.9092  23.3579  23.8068   24.2538 \n",
       " 18.0925  17.8693  17.6682  17.489   17.3316  17.1954  …  22.8533  23.3402  23.8308  24.3229   24.8141 \n",
       " 18.1096  17.8903  17.6926  17.5165  17.3617  17.2278     23.2167  23.7413  24.2709  24.8031   25.3354 \n",
       " 18.1196  17.9046  17.7109  17.5384  17.3867  17.2555     23.5481  24.1071  24.6724  25.2413   25.8113 \n",
       " 18.1212  17.9111  17.7218  17.5534  17.4054  17.2775     23.8426  24.4326  25.0299  25.6319   26.2358 \n",
       " 18.1133  17.9085  17.7242  17.5603  17.4165  17.2923     24.0956  24.7128  25.3384  25.9696   26.6035 \n",
       " 18.0948  17.8959  17.717   17.5581  17.4188  17.2988  …  24.3026  24.9431  25.5931  26.2494   26.9091 \n",
       " 18.0646  17.872   17.699   17.5455  17.4113  17.2958     24.4596  25.1194  25.7895  26.4668   27.1481 \n",
       " 18.0218  17.8359  17.6692  17.5216  17.3927  17.2821     24.5629  25.2379  25.924   26.6179   27.3164 \n",
       " 17.9654  17.7868  17.6269  17.4854  17.3621  17.2566     24.6092  25.2952  25.993   26.6992   27.4107 \n",
       " 17.8947  17.7238  17.571   17.436   17.3186  17.2184     24.5957  25.2886  25.9938  26.7081   27.4281 \n",
       " 17.8089  17.6463  17.5009  17.3727  17.2614  17.1665  …  24.5201  25.2157  25.9241  26.6423   27.3667 "
      ]
     },
     "execution_count": 93,
     "metadata": {},
     "output_type": "execute_result"
    }
   ],
   "source": [
    "pmf = pmf .- minimum(pmf)"
   ]
  },
  {
   "cell_type": "code",
   "execution_count": 94,
   "metadata": {},
   "outputs": [
    {
     "name": "stderr",
     "output_type": "stream",
     "text": [
      "┌ Warning: `getindex(o::PyObject, s::Symbol)` is deprecated in favor of dot overloading (`getproperty`) so elements should now be accessed as e.g. `o.s` instead of `o[:s]`.\n",
      "│   caller = top-level scope at In[94]:8\n",
      "└ @ Core In[94]:8\n",
      "┌ Warning: `getindex(o::PyObject, s::Symbol)` is deprecated in favor of dot overloading (`getproperty`) so elements should now be accessed as e.g. `o.s` instead of `o[:s]`.\n",
      "│   caller = top-level scope at In[94]:9\n",
      "└ @ Core In[94]:9\n"
     ]
    },
    {
     "data": {
      "image/png": "[encoded data removed]",
      "text/plain": [
       "Figure(PyObject <Figure size 800x600 with 2 Axes>)"
      ]
     },
     "metadata": {},
     "output_type": "display_data"
    },
    {
     "name": "stderr",
     "output_type": "stream",
     "text": [
      "┌ Warning: `getindex(f::Figure, x)` is deprecated, use `getproperty(f, x)` instead.\n",
      "│   caller = top-level scope at In[94]:10\n",
      "└ @ Core In[94]:10\n",
      "┌ Warning: `getindex(o::PyObject, s::Symbol)` is deprecated in favor of dot overloading (`getproperty`) so elements should now be accessed as e.g. `o.s` instead of `o[:s]`.\n",
      "│   caller = top-level scope at In[94]:11\n",
      "└ @ Core In[94]:11\n",
      "┌ Warning: `getindex(o::PyObject, s::Symbol)` is deprecated in favor of dot overloading (`getproperty`) so elements should now be accessed as e.g. `o.s` instead of `o[:s]`.\n",
      "│   caller = top-level scope at In[94]:11\n",
      "└ @ Core In[94]:11\n",
      "┌ Warning: `getindex(o::PyObject, s::Symbol)` is deprecated in favor of dot overloading (`getproperty`) so elements should now be accessed as e.g. `o.s` instead of `o[:s]`.\n",
      "│   caller = top-level scope at In[94]:14\n",
      "└ @ Core In[94]:14\n",
      "┌ Warning: `getindex(o::PyObject, s::Symbol)` is deprecated in favor of dot overloading (`getproperty`) so elements should now be accessed as e.g. `o.s` instead of `o[:s]`.\n",
      "│   caller = top-level scope at In[94]:17\n",
      "└ @ Core In[94]:17\n",
      "┌ Warning: `getindex(o::PyObject, s::Symbol)` is deprecated in favor of dot overloading (`getproperty`) so elements should now be accessed as e.g. `o.s` instead of `o[:s]`.\n",
      "│   caller = top-level scope at In[94]:18\n",
      "└ @ Core In[94]:18\n"
     ]
    }
   ],
   "source": [
    "# 図示\n",
    "fig, ax = subplots(figsize=(8, 6));\n",
    "meshgrid(x, y) = (repeat(x', length(y), 1), repeat(y, 1, length(x)));\n",
    "grid_x = -180:1:0;\n",
    "grid_y = 180:-1:0;\n",
    "X, Y = meshgrid(grid_x, grid_y);\n",
    "levels = 0:0.25:5.0;\n",
    "ax[:contour](X, Y, pmf, levels, colors=\"black\", alpha=1.0, linewidths=0.5);\n",
    "pos = ax[:contourf](X, Y, pmf, levels, alpha=0.8, cmap=get_cmap(\"viridis\")) # colormaps: viridis, plasma, inferno, magma, jet, hsv, terrain\n",
    "cbar = fig[:colorbar](pos, ax=ax);\n",
    "cbar[:ax][:tick_params](labelsize=15);\n",
    "xlabel(L\"\\Phi [degree]\",fontsize=20);\n",
    "ylabel(L\"\\Psi [degree]\",fontsize=20);\n",
    "\n",
    "# detailed options (not necessary, just for reference)\n",
    "ax[:set](xlim=[-180, 0], ylim=[0, 180]);\n",
    "ax[:tick_params](axis=\"both\", which=\"major\",labelsize=15);\n",
    "ax[:grid](linestyle=\"--\", linewidth=0.5);\n",
    "tight_layout();\n",
    "\n",
    "savefig(\"free_energy_surface2.png\", dpi=350, bbox_inches=\"tight\");"
   ]
  },
  {
   "cell_type": "code",
   "execution_count": null,
   "metadata": {},
   "outputs": [],
   "source": []
  }
 ],
 "metadata": {
  "kernelspec": {
   "display_name": "Julia 1.1.1",
   "language": "julia",
   "name": "julia-1.1"
  },
  "language_info": {
   "file_extension": ".jl",
   "mimetype": "application/julia",
   "name": "julia",
   "version": "1.1.1"
  }
 },
 "nbformat": 4,
 "nbformat_minor": 2
}
