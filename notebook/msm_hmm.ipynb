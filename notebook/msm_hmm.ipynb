{
 "cells": [
  {
   "cell_type": "markdown",
   "metadata": {},
   "source": [
    "# load reuired packages"
   ]
  },
  {
   "cell_type": "code",
   "execution_count": 40,
   "metadata": {},
   "outputs": [],
   "source": [
    "using Revise; using MDToolbox"
   ]
  },
  {
   "cell_type": "markdown",
   "metadata": {},
   "source": [
    "# generate training data"
   ]
  },
  {
   "cell_type": "code",
   "execution_count": 41,
   "metadata": {},
   "outputs": [
    {
     "data": {
      "text/plain": [
       "3×3 Array{Float64,2}:\n",
       " 0.1  0.7  0.2\n",
       " 0.2  0.1  0.7\n",
       " 0.7  0.2  0.1"
      ]
     },
     "execution_count": 41,
     "metadata": {},
     "output_type": "execute_result"
    }
   ],
   "source": [
    "# ground-truth transition probabilities\n",
    "T = [\n",
    "0.1 0.7 0.2;\n",
    "0.2 0.1 0.7;\n",
    "0.7 0.2 0.1;\n",
    "]"
   ]
  },
  {
   "cell_type": "code",
   "execution_count": 42,
   "metadata": {},
   "outputs": [
    {
     "data": {
      "text/plain": [
       "3-element Array{Float64,1}:\n",
       " 0.6\n",
       " 0.3\n",
       " 0.1"
      ]
     },
     "execution_count": 42,
     "metadata": {},
     "output_type": "execute_result"
    }
   ],
   "source": [
    "# equilibrium probabilities\n",
    "pi_i = [\n",
    "0.6, \n",
    "0.3, \n",
    "0.1,\n",
    "]"
   ]
  },
  {
   "cell_type": "code",
   "execution_count": 43,
   "metadata": {},
   "outputs": [
    {
     "data": {
      "text/plain": [
       "3×2 Array{Float64,2}:\n",
       " 0.9  0.1\n",
       " 0.6  0.4\n",
       " 0.1  0.9"
      ]
     },
     "execution_count": 43,
     "metadata": {},
     "output_type": "execute_result"
    }
   ],
   "source": [
    "# emission probabilities\n",
    "emission = [\n",
    "0.9 0.1;\n",
    "0.6 0.4;\n",
    "0.1 0.9;\n",
    "]"
   ]
  },
  {
   "cell_type": "code",
   "execution_count": 44,
   "metadata": {},
   "outputs": [
    {
     "data": {
      "text/plain": [
       "([1, 3, 1, 3, 1, 2, 1, 3, 1, 2  …  1, 2, 3, 1, 2, 3, 3, 1, 2, 3], [1, 2, 2, 1, 1, 1, 1, 2, 1, 1  …  1, 2, 2, 1, 2, 2, 2, 1, 2, 2])"
      ]
     },
     "execution_count": 44,
     "metadata": {},
     "output_type": "execute_result"
    }
   ],
   "source": [
    "state, observation = msmgenerate(1000, T, pi_i, emission)"
   ]
  },
  {
   "cell_type": "markdown",
   "metadata": {},
   "source": [
    "# Hidden markov modeling"
   ]
  },
  {
   "cell_type": "code",
   "execution_count": 45,
   "metadata": {},
   "outputs": [
    {
     "data": {
      "text/plain": [
       "3×3 Array{Float64,2}:\n",
       " 0.1  0.1  0.8\n",
       " 0.8  0.1  0.1\n",
       " 0.3  0.2  0.5"
      ]
     },
     "execution_count": 45,
     "metadata": {},
     "output_type": "execute_result"
    }
   ],
   "source": [
    "# initial transition probabilities\n",
    "T0 = [\n",
    "0.1 0.1 0.8;\n",
    "0.8 0.1 0.1;\n",
    "0.3 0.2 0.5;\n",
    "]"
   ]
  },
  {
   "cell_type": "code",
   "execution_count": 49,
   "metadata": {},
   "outputs": [
    {
     "name": "stdout",
     "output_type": "stream",
     "text": [
      "100 iteration LogLikelihood = -6.743163e+02  delta = 4.595599e-04  tolerance = 1.000000e-04\n",
      "200 iteration LogLikelihood = -6.742894e+02  delta = 1.815436e-04  tolerance = 1.000000e-04\n",
      "300 iteration LogLikelihood = -6.742748e+02  delta = 1.172128e-04  tolerance = 1.000000e-04\n",
      "  1.672651 seconds (16.99 M allocations: 1007.703 MiB, 5.31% gc time)\n"
     ]
    }
   ],
   "source": [
    "@time T1, emission1, pi_i1 = msmbaumwelch([observation], T0, emission, pi_i);"
   ]
  },
  {
   "cell_type": "code",
   "execution_count": 50,
   "metadata": {},
   "outputs": [
    {
     "data": {
      "text/plain": [
       "3×3 Array{Float64,2}:\n",
       " 0.1  0.7  0.2\n",
       " 0.2  0.1  0.7\n",
       " 0.7  0.2  0.1"
      ]
     },
     "execution_count": 50,
     "metadata": {},
     "output_type": "execute_result"
    }
   ],
   "source": [
    "T"
   ]
  },
  {
   "cell_type": "code",
   "execution_count": 51,
   "metadata": {},
   "outputs": [
    {
     "data": {
      "text/plain": [
       "3×3 Array{Float64,2}:\n",
       " 0.143678  0.140663  0.715659\n",
       " 0.971461  0.010734  0.0178054\n",
       " 0.356707  0.413978  0.229315"
      ]
     },
     "execution_count": 51,
     "metadata": {},
     "output_type": "execute_result"
    }
   ],
   "source": [
    "T1"
   ]
  },
  {
   "cell_type": "code",
   "execution_count": null,
   "metadata": {},
   "outputs": [],
   "source": []
  }
 ],
 "metadata": {
  "kernelspec": {
   "display_name": "Julia 1.4.1",
   "language": "julia",
   "name": "julia-1.4"
  },
  "language_info": {
   "file_extension": ".jl",
   "mimetype": "application/julia",
   "name": "julia",
   "version": "1.4.1"
  }
 },
 "nbformat": 4,
 "nbformat_minor": 4
}
