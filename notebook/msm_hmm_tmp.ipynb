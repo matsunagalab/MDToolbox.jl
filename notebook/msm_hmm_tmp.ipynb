{
 "cells": [
  {
   "cell_type": "markdown",
   "metadata": {},
   "source": [
    "# This notebook demonstrates a Hidden markov modeling of transition probabilities from times series data"
   ]
  },
  {
   "cell_type": "markdown",
   "metadata": {},
   "source": [
    "# load required packages"
   ]
  },
  {
   "cell_type": "code",
   "execution_count": 1,
   "metadata": {},
   "outputs": [
    {
     "name": "stderr",
     "output_type": "stream",
     "text": [
      "┌ Warning: no Manifest.toml file found, static paths used\n",
      "└ @ Revise /Users/seica/.julia/packages/Revise/BqeJF/src/Revise.jl:1328\n"
     ]
    }
   ],
   "source": [
    "using GraphRecipes, Plots\n",
    "using Revise; using MDToolbox"
   ]
  },
  {
   "cell_type": "markdown",
   "metadata": {},
   "source": [
    "# generate training data"
   ]
  },
  {
   "cell_type": "code",
   "execution_count": 2,
   "metadata": {},
   "outputs": [
    {
     "data": {
      "text/plain": [
       "5-element Array{Array{Any,1},1}:\n",
       " [MDToolbox.Edge(1, 0.6), MDToolbox.Edge(2, 0.2), MDToolbox.Edge(5, 0.2)]\n",
       " [MDToolbox.Edge(1, 0.2), MDToolbox.Edge(2, 0.6), MDToolbox.Edge(3, 0.2)]\n",
       " [MDToolbox.Edge(2, 0.2), MDToolbox.Edge(3, 0.6), MDToolbox.Edge(4, 0.2)]\n",
       " [MDToolbox.Edge(3, 0.2), MDToolbox.Edge(4, 0.6), MDToolbox.Edge(5, 0.2)]\n",
       " [MDToolbox.Edge(1, 0.2), MDToolbox.Edge(4, 0.2), MDToolbox.Edge(5, 0.6)]"
      ]
     },
     "execution_count": 2,
     "metadata": {},
     "output_type": "execute_result"
    }
   ],
   "source": [
    "# ground-truth transition probabilities\n",
    "state_num = 5\n",
    "E = [[] for i in 1:state_num]\n",
    "for i in 1:state_num\n",
    "    for j in 1:state_num\n",
    "        if i == j\n",
    "            push!(E[i], MDToolbox.Edge(j, 0.6))\n",
    "        end\n",
    "        if abs(i - j) == 1 || state_num - abs(i - j) == 1\n",
    "            push!(E[i], MDToolbox.Edge(j, 0.2))\n",
    "        end\n",
    "    end\n",
    "end\n",
    "E"
   ]
  },
  {
   "cell_type": "code",
   "execution_count": 3,
   "metadata": {},
   "outputs": [
    {
     "data": {
      "text/plain": [
       "5-element Array{Float64,1}:\n",
       " 0.2\n",
       " 0.2\n",
       " 0.2\n",
       " 0.2\n",
       " 0.2"
      ]
     },
     "execution_count": 3,
     "metadata": {},
     "output_type": "execute_result"
    }
   ],
   "source": [
    "# equilibrium probabilities\n",
    "pi_i = [\n",
    "0.2, \n",
    "0.2, \n",
    "0.2,\n",
    "0.2,\n",
    "0.2\n",
    "]"
   ]
  },
  {
   "cell_type": "code",
   "execution_count": 4,
   "metadata": {},
   "outputs": [
    {
     "data": {
      "text/plain": [
       "5×4 Array{Float64,2}:\n",
       " 0.7   0.2   0.05  0.05\n",
       " 0.2   0.7   0.05  0.05\n",
       " 0.25  0.25  0.25  0.25\n",
       " 0.05  0.05  0.7   0.2\n",
       " 0.05  0.05  0.2   0.7"
      ]
     },
     "execution_count": 4,
     "metadata": {},
     "output_type": "execute_result"
    }
   ],
   "source": [
    "# emission probabilities\n",
    "emission = [\n",
    "0.7 0.2 0.05 0.05;\n",
    "0.2 0.7 0.05 0.05;\n",
    "0.25 0.25 0.25 0.25;\n",
    "0.05 0.05 0.7 0.2;\n",
    "0.05 0.05 0.2 0.7\n",
    "]"
   ]
  },
  {
   "cell_type": "code",
   "execution_count": 5,
   "metadata": {},
   "outputs": [],
   "source": [
    "observations = []\n",
    "for i in 1:10\n",
    "    state, observation = MDToolbox.msmgenerate_edge(1000, state_num, E, pi_i, emission)\n",
    "    push!(observations, observation)\n",
    "end"
   ]
  },
  {
   "cell_type": "markdown",
   "metadata": {},
   "source": [
    "# Hidden markov modeling"
   ]
  },
  {
   "cell_type": "code",
   "execution_count": 6,
   "metadata": {},
   "outputs": [],
   "source": [
    "# initial transition probabilities\n",
    "E0 = [[] for i in 1:state_num]\n",
    "for i in 1:state_num\n",
    "    for j in 1:state_num\n",
    "        if i == j\n",
    "            push!(E0[i], MDToolbox.Edge(j, rand()))\n",
    "        end\n",
    "        if abs(i - j) == 1 || state_num - abs(i - j) == 1\n",
    "            push!(E0[i], MDToolbox.Edge(j, rand()))\n",
    "        end\n",
    "    end\n",
    "end"
   ]
  },
  {
   "cell_type": "code",
   "execution_count": 7,
   "metadata": {},
   "outputs": [
    {
     "name": "stdout",
     "output_type": "stream",
     "text": [
      "count: 20 diff_sum: 0.029085050054236256\n",
      "count: 40 diff_sum: 0.007722248640285034\n",
      "count: 60 diff_sum: 0.004193983583367811\n",
      "count: 80 diff_sum: 0.0029363900616977967\n",
      "count: 100 diff_sum: 0.0020823554524194987\n",
      "count: 120 diff_sum: 0.0014457576128763805\n",
      "count: 140 diff_sum: 0.0009825280967692696\n",
      "count: 160 diff_sum: 0.000657060683203925\n",
      "count: 180 diff_sum: 0.0004345350983864793\n",
      "count: 200 diff_sum: 0.0002852332952348602\n",
      "count: 220 diff_sum: 0.00018630987762721651\n",
      "count: 240 diff_sum: 0.00012130308310107085\n",
      " 43.219712 seconds (1.03 G allocations: 17.377 GiB, 5.69% gc time)\n"
     ]
    }
   ],
   "source": [
    "@time E1, emission1, pi_i1 = MDToolbox.msmbaumwelch_edge(observations, state_num, E0, pi_i, emission);"
   ]
  },
  {
   "cell_type": "code",
   "execution_count": 8,
   "metadata": {},
   "outputs": [],
   "source": [
    "T = zeros(state_num, state_num)\n",
    "for state in 1:state_num\n",
    "    for edge in E[state]\n",
    "        T[state, edge.to] = edge.value\n",
    "    end\n",
    "end\n",
    "\n",
    "T0 = zeros(state_num, state_num)\n",
    "for state in 1:state_num\n",
    "    for edge in E0[state]\n",
    "        T0[state, edge.to] = edge.value\n",
    "    end\n",
    "end\n",
    "\n",
    "T1 = zeros(state_num, state_num)\n",
    "for state in 1:state_num\n",
    "    for edge in E1[state]\n",
    "        T1[state, edge.to] = edge.value\n",
    "    end\n",
    "end"
   ]
  },
  {
   "cell_type": "code",
   "execution_count": 9,
   "metadata": {},
   "outputs": [
    {
     "data": {
      "text/plain": [
       "5×5 Array{Float64,2}:\n",
       " 0.6  0.2  0.0  0.0  0.2\n",
       " 0.2  0.6  0.2  0.0  0.0\n",
       " 0.0  0.2  0.6  0.2  0.0\n",
       " 0.0  0.0  0.2  0.6  0.2\n",
       " 0.2  0.0  0.0  0.2  0.6"
      ]
     },
     "execution_count": 9,
     "metadata": {},
     "output_type": "execute_result"
    }
   ],
   "source": [
    "T"
   ]
  },
  {
   "cell_type": "code",
   "execution_count": 10,
   "metadata": {},
   "outputs": [
    {
     "data": {
      "text/plain": [
       "5×5 Array{Float64,2}:\n",
       " 0.775959  0.810934  0.0       0.0       0.472828\n",
       " 0.924865  0.706727  0.750343  0.0       0.0\n",
       " 0.0       0.410227  0.899504  0.88271   0.0\n",
       " 0.0       0.0       0.986784  0.782084  0.199711\n",
       " 0.448349  0.0       0.0       0.857292  0.382649"
      ]
     },
     "execution_count": 10,
     "metadata": {},
     "output_type": "execute_result"
    }
   ],
   "source": [
    "T0"
   ]
  },
  {
   "cell_type": "code",
   "execution_count": 11,
   "metadata": {},
   "outputs": [
    {
     "data": {
      "text/plain": [
       "5×5 Array{Float64,2}:\n",
       " 0.575871  0.218325  0.0       0.0       0.205805\n",
       " 0.214932  0.590163  0.194904  0.0       0.0\n",
       " 0.0       0.249757  0.526989  0.223254  0.0\n",
       " 0.0       0.0       0.203435  0.610029  0.186536\n",
       " 0.202882  0.0       0.0       0.2099    0.587218"
      ]
     },
     "execution_count": 11,
     "metadata": {},
     "output_type": "execute_result"
    }
   ],
   "source": [
    "T1"
   ]
  },
  {
   "cell_type": "code",
   "execution_count": 12,
   "metadata": {},
   "outputs": [],
   "source": [
    "alpha_list_seica, alpha_sum_list = MDToolbox.msmforward_edge(observations, state_num, E, pi_i, emission);"
   ]
  },
  {
   "cell_type": "code",
   "execution_count": 13,
   "metadata": {},
   "outputs": [
    {
     "data": {
      "text/plain": [
       "1000×5 Array{Float64,2}:\n",
       " 0.04        0.04        0.2        0.56        0.16\n",
       " 0.0829016   0.326425    0.388601   0.132124    0.0699482\n",
       " 0.0799037   0.628961    0.251504   0.0264741   0.0131568\n",
       " 0.0837384   0.73727     0.167361   0.00816853  0.00346244\n",
       " 0.458717    0.325414    0.206037   0.006452    0.00337893\n",
       " 0.665118    0.182906    0.132356   0.00637476  0.0132444\n",
       " 0.278991    0.599823    0.0933071  0.00524261  0.0226358\n",
       " 0.108004    0.160719    0.327463   0.0389766   0.364838\n",
       " 0.505575    0.156021    0.251234   0.0343979   0.052772\n",
       " 0.231021    0.573972    0.158004   0.0136295   0.0233726\n",
       " 0.127259    0.72863     0.13087    0.00547992  0.00776057\n",
       " 0.100209    0.766603    0.126219   0.00347429  0.00349559\n",
       " 0.0938241   0.77478     0.125825   0.00306994  0.00250108\n",
       " ⋮                                              \n",
       " 0.129808    0.0513126   0.133044   0.405418    0.280417\n",
       " 0.0231089   0.0133558   0.137128   0.208892    0.617515\n",
       " 0.568672    0.0464796   0.183789   0.0801322   0.120927\n",
       " 0.105053    0.0500136   0.19009    0.427944    0.2269\n",
       " 0.0169431   0.0127397   0.149984   0.681406    0.138928\n",
       " 0.00468174  0.00474299  0.132258   0.75519     0.103128\n",
       " 0.00392897  0.00487169  0.186385   0.322392    0.482422\n",
       " 0.014205    0.00583275  0.126148   0.651893    0.201921\n",
       " 0.00587046  0.00370116  0.121476   0.749666    0.119287\n",
       " 0.0031121   0.00306453  0.12371    0.771536    0.098578\n",
       " 0.00242451  0.00297147  0.125151   0.775916    0.0935369\n",
       " 0.00226115  0.00297378  0.125751   0.776726    0.0922876"
      ]
     },
     "execution_count": 13,
     "metadata": {},
     "output_type": "execute_result"
    }
   ],
   "source": [
    "alpha_list_seica[1]"
   ]
  },
  {
   "cell_type": "code",
   "execution_count": 14,
   "metadata": {},
   "outputs": [],
   "source": [
    "beta_list_seica = MDToolbox.msmbackward_edge(observations, state_num, E, pi_i, emission, alpha_sum_list);"
   ]
  },
  {
   "cell_type": "code",
   "execution_count": 15,
   "metadata": {},
   "outputs": [
    {
     "data": {
      "text/plain": [
       "1000×5 Array{Float64,2}:\n",
       " 2.35942    5.47887    2.43618   0.281465   0.260082\n",
       " 0.882457   1.83633    0.787575  0.0922471  0.131199\n",
       " 0.877301   1.268      0.507035  0.075454   0.217376\n",
       " 1.80763    1.04748    0.437492  0.130832   0.598398\n",
       " 1.19961    0.990261   0.606744  0.182484   0.379645\n",
       " 0.872094   1.51788    1.02277   0.361231   0.351282\n",
       " 1.09984    0.882437   1.24612   1.09003    1.84935\n",
       " 1.89571    1.76334    0.947694  0.214953   0.52939\n",
       " 0.863355   2.0626     0.929085  0.108399   0.0862806\n",
       " 0.579266   1.34132    0.594082  0.067971   0.06424\n",
       " 0.572596   1.18126    0.500099  0.0567535  0.0861455\n",
       " 0.797053   1.12809    0.431254  0.0592198  0.199185\n",
       " 1.80263    1.01132    0.361828  0.100065   0.593941\n",
       " ⋮                                          \n",
       " 0.394075   0.407739   1.12471   1.14234    1.12391\n",
       " 0.593289   0.844106   1.91973   1.36468    0.69099\n",
       " 0.180763   0.22216    1.87082   4.14129    1.74644\n",
       " 0.0899516  0.0892783  0.720805  1.60438    0.716109\n",
       " 0.130134   0.083193   0.548017  1.20606    0.667433\n",
       " 0.316689   0.131506   0.577419  1.06502    1.13676\n",
       " 0.06573    0.0892666  0.749422  1.64668    0.681458\n",
       " 0.0509155  0.0695086  0.575374  1.2593     0.52178\n",
       " 0.0504869  0.0691245  0.541323  1.16787    0.487728\n",
       " 0.0671136  0.0880568  0.558328  1.14236    0.497878\n",
       " 0.1743     0.196087   0.653625  1.11116    0.588262\n",
       " 1.0        1.0        1.0       1.0        1.0"
      ]
     },
     "execution_count": 15,
     "metadata": {},
     "output_type": "execute_result"
    }
   ],
   "source": [
    "beta_list_seica[1]"
   ]
  },
  {
   "cell_type": "code",
   "execution_count": 16,
   "metadata": {},
   "outputs": [
    {
     "name": "stdout",
     "output_type": "stream",
     "text": [
      "100 iteration LogLikelihood = -1.289679e+04  delta = 4.180257e-03  tolerance = 1.000000e-04\n",
      " 30.629224 seconds (217.09 M allocations: 9.406 GiB, 5.23% gc time)\n"
     ]
    }
   ],
   "source": [
    "@time T2, emission2, pi_i2 = MDToolbox.msmbaumwelch(observations, T0, pi_i, emission);"
   ]
  },
  {
   "cell_type": "code",
   "execution_count": 17,
   "metadata": {},
   "outputs": [
    {
     "data": {
      "text/plain": [
       "5×5 Array{Float64,2}:\n",
       " 0.57565   0.218491  0.0       0.0       0.205859\n",
       " 0.214973  0.589732  0.195295  0.0       0.0\n",
       " 0.0       0.251435  0.523448  0.225118  0.0\n",
       " 0.0       0.0       0.203951  0.609401  0.186648\n",
       " 0.203023  0.0       0.0       0.209971  0.587005"
      ]
     },
     "execution_count": 17,
     "metadata": {},
     "output_type": "execute_result"
    }
   ],
   "source": [
    "T2"
   ]
  },
  {
   "cell_type": "code",
   "execution_count": 18,
   "metadata": {},
   "outputs": [],
   "source": [
    "logL, alpha_list, factor_list = MDToolbox.msmforward(observations, T, pi_i, emission);"
   ]
  },
  {
   "cell_type": "code",
   "execution_count": 19,
   "metadata": {},
   "outputs": [
    {
     "data": {
      "text/plain": [
       "1000×5 Array{Float64,2}:\n",
       " 0.04        0.04        0.2        0.56        0.16\n",
       " 0.0829016   0.326425    0.388601   0.132124    0.0699482\n",
       " 0.0799037   0.628961    0.251504   0.0264741   0.0131568\n",
       " 0.0837384   0.73727     0.167361   0.00816853  0.00346244\n",
       " 0.458717    0.325414    0.206037   0.006452    0.00337893\n",
       " 0.665118    0.182906    0.132356   0.00637476  0.0132444\n",
       " 0.278991    0.599823    0.0933071  0.00524261  0.0226358\n",
       " 0.108004    0.160719    0.327463   0.0389766   0.364838\n",
       " 0.505575    0.156021    0.251234   0.0343979   0.052772\n",
       " 0.231021    0.573972    0.158004   0.0136295   0.0233726\n",
       " 0.127259    0.72863     0.13087    0.00547992  0.00776057\n",
       " 0.100209    0.766603    0.126219   0.00347429  0.00349559\n",
       " 0.0938241   0.77478     0.125825   0.00306994  0.00250108\n",
       " ⋮                                              \n",
       " 0.129808    0.0513126   0.133044   0.405418    0.280417\n",
       " 0.0231089   0.0133558   0.137128   0.208892    0.617515\n",
       " 0.568672    0.0464796   0.183789   0.0801322   0.120927\n",
       " 0.105053    0.0500136   0.19009    0.427944    0.2269\n",
       " 0.0169431   0.0127397   0.149984   0.681406    0.138928\n",
       " 0.00468174  0.00474299  0.132258   0.75519     0.103128\n",
       " 0.00392897  0.00487169  0.186385   0.322392    0.482422\n",
       " 0.014205    0.00583275  0.126148   0.651893    0.201921\n",
       " 0.00587046  0.00370116  0.121476   0.749666    0.119287\n",
       " 0.0031121   0.00306453  0.12371    0.771536    0.098578\n",
       " 0.00242451  0.00297147  0.125151   0.775916    0.0935369\n",
       " 0.00226115  0.00297378  0.125751   0.776726    0.0922876"
      ]
     },
     "execution_count": 19,
     "metadata": {},
     "output_type": "execute_result"
    }
   ],
   "source": [
    "alpha_list[1]"
   ]
  },
  {
   "cell_type": "code",
   "execution_count": 20,
   "metadata": {},
   "outputs": [],
   "source": [
    "logL2, beta_list = MDToolbox.msmbackward(observations, factor_list, T, pi_i, emission);"
   ]
  },
  {
   "cell_type": "code",
   "execution_count": 21,
   "metadata": {},
   "outputs": [
    {
     "data": {
      "text/plain": [
       "1000×5 Array{Float64,2}:\n",
       " 2.35942    5.47887    2.43618   0.281465   0.260082\n",
       " 0.882457   1.83633    0.787575  0.0922471  0.131199\n",
       " 0.877301   1.268      0.507035  0.075454   0.217376\n",
       " 1.80763    1.04748    0.437492  0.130832   0.598398\n",
       " 1.19961    0.990261   0.606744  0.182484   0.379645\n",
       " 0.872094   1.51788    1.02277   0.361231   0.351282\n",
       " 1.09984    0.882437   1.24612   1.09003    1.84935\n",
       " 1.89571    1.76334    0.947694  0.214953   0.52939\n",
       " 0.863355   2.0626     0.929085  0.108399   0.0862806\n",
       " 0.579266   1.34132    0.594082  0.067971   0.06424\n",
       " 0.572596   1.18126    0.500099  0.0567535  0.0861455\n",
       " 0.797053   1.12809    0.431254  0.0592198  0.199185\n",
       " 1.80263    1.01132    0.361828  0.100065   0.593941\n",
       " ⋮                                          \n",
       " 0.394075   0.407739   1.12471   1.14234    1.12391\n",
       " 0.593289   0.844106   1.91973   1.36468    0.69099\n",
       " 0.180763   0.22216    1.87082   4.14129    1.74644\n",
       " 0.0899516  0.0892783  0.720805  1.60438    0.716109\n",
       " 0.130134   0.083193   0.548017  1.20606    0.667433\n",
       " 0.316689   0.131506   0.577419  1.06502    1.13676\n",
       " 0.06573    0.0892666  0.749422  1.64668    0.681458\n",
       " 0.0509155  0.0695086  0.575374  1.2593     0.52178\n",
       " 0.0504869  0.0691245  0.541323  1.16787    0.487728\n",
       " 0.0671136  0.0880568  0.558328  1.14236    0.497878\n",
       " 0.1743     0.196087   0.653625  1.11116    0.588262\n",
       " 1.0        1.0        1.0       1.0        1.0"
      ]
     },
     "execution_count": 21,
     "metadata": {},
     "output_type": "execute_result"
    }
   ],
   "source": [
    "beta_list[1]"
   ]
  },
  {
   "cell_type": "code",
   "execution_count": 22,
   "metadata": {},
   "outputs": [
    {
     "data": {
      "text/plain": [
       "1000×5 Array{Float64,2}:\n",
       "  0.0           0.0           0.0           0.0           0.0\n",
       "  0.0          -5.55112e-17   0.0           0.0           1.38778e-17\n",
       "  2.77556e-17   0.0           1.11022e-16   6.93889e-18   5.20417e-18\n",
       "  1.38778e-17   1.11022e-16   2.77556e-17   3.46945e-18   1.30104e-18\n",
       "  0.0           0.0           0.0           0.0           4.33681e-19\n",
       " -2.22045e-16  -2.77556e-17   0.0          -8.67362e-19   0.0\n",
       "  5.55112e-17   1.11022e-16   4.16334e-17   1.73472e-18  -3.46945e-18\n",
       " -2.77556e-17   0.0           5.55112e-17   0.0          -5.55112e-17\n",
       " -1.11022e-16   0.0           0.0           0.0          -1.38778e-17\n",
       " -1.11022e-16   0.0           0.0          -3.46945e-18  -1.04083e-17\n",
       " -5.55112e-17   0.0           0.0          -8.67362e-19  -4.33681e-18\n",
       "  0.0           0.0           0.0           0.0          -1.73472e-18\n",
       " -2.77556e-17   0.0           0.0          -8.67362e-19   0.0\n",
       "  ⋮                                                      \n",
       " -2.77556e-17  -2.08167e-17   0.0          -5.55112e-17   0.0\n",
       " -6.93889e-18   0.0           0.0          -5.55112e-17   0.0\n",
       " -1.11022e-16   0.0          -2.77556e-17  -2.77556e-17   0.0\n",
       " -1.38778e-17   2.08167e-17   0.0           5.55112e-17   0.0\n",
       "  0.0          -1.73472e-18  -2.77556e-17   0.0          -2.77556e-17\n",
       "  8.67362e-19   0.0           0.0          -1.11022e-16   1.38778e-17\n",
       "  0.0           0.0           0.0           0.0           1.11022e-16\n",
       "  3.46945e-18   0.0           0.0           0.0           5.55112e-17\n",
       "  8.67362e-19  -8.67362e-19  -4.16334e-17   0.0          -2.77556e-17\n",
       " -8.67362e-19  -8.67362e-19  -1.38778e-17   0.0          -1.38778e-17\n",
       " -4.33681e-19   0.0          -2.77556e-17   0.0           0.0\n",
       "  0.0          -8.67362e-19  -2.77556e-17   0.0           0.0"
      ]
     },
     "execution_count": 22,
     "metadata": {},
     "output_type": "execute_result"
    }
   ],
   "source": [
    "alpha_list[1] - alpha_list_seica[1]"
   ]
  },
  {
   "cell_type": "code",
   "execution_count": 23,
   "metadata": {},
   "outputs": [
    {
     "data": {
      "text/plain": [
       "1000×5 Array{Float64,2}:\n",
       "  3.10862e-15   6.21725e-15   3.10862e-15   3.33067e-16   2.77556e-16\n",
       "  9.99201e-16   2.44249e-15   9.99201e-16   8.32667e-17   1.38778e-16\n",
       "  7.77156e-16   1.11022e-15   3.33067e-16   6.93889e-17   1.94289e-16\n",
       "  1.77636e-15   1.11022e-15   3.88578e-16   1.38778e-16   7.77156e-16\n",
       "  1.33227e-15   7.77156e-16   5.55112e-16   1.66533e-16   3.33067e-16\n",
       "  9.99201e-16   1.33227e-15   1.11022e-15   3.33067e-16   3.88578e-16\n",
       "  8.88178e-16   6.66134e-16   4.44089e-16   6.66134e-16   1.11022e-15\n",
       "  1.55431e-15   1.11022e-15   5.55112e-16   1.66533e-16   4.44089e-16\n",
       "  7.77156e-16   1.77636e-15   6.66134e-16   9.71445e-17   5.55112e-17\n",
       "  3.33067e-16   1.11022e-15   4.44089e-16   6.93889e-17   4.16334e-17\n",
       "  4.44089e-16   6.66134e-16   4.44089e-16   4.16334e-17   4.16334e-17\n",
       "  4.44089e-16   8.88178e-16   2.77556e-16   5.55112e-17   1.38778e-16\n",
       "  1.33227e-15   8.88178e-16   3.88578e-16   6.93889e-17   4.44089e-16\n",
       "  ⋮                                                      \n",
       " -4.44089e-16  -3.33067e-16  -1.11022e-15  -1.33227e-15  -1.33227e-15\n",
       " -6.66134e-16  -9.99201e-16  -1.55431e-15  -1.55431e-15  -7.77156e-16\n",
       " -2.22045e-16  -1.94289e-16  -1.55431e-15  -5.32907e-15  -2.22045e-15\n",
       " -1.11022e-16  -1.11022e-16  -6.66134e-16  -2.22045e-15  -8.88178e-16\n",
       " -1.38778e-16  -8.32667e-17  -5.55112e-16  -1.11022e-15  -6.66134e-16\n",
       " -3.88578e-16  -1.38778e-16  -6.66134e-16  -1.33227e-15  -1.33227e-15\n",
       " -4.16334e-17  -4.16334e-17  -7.77156e-16  -1.9984e-15   -7.77156e-16\n",
       " -2.77556e-17  -4.16334e-17  -3.33067e-16  -1.55431e-15  -3.33067e-16\n",
       " -6.93889e-18  -2.77556e-17  -2.22045e-16  -6.66134e-16  -2.22045e-16\n",
       " -1.38778e-17  -2.77556e-17  -2.22045e-16  -4.44089e-16  -5.55112e-17\n",
       "  0.0           0.0          -1.11022e-16  -2.22045e-16  -1.11022e-16\n",
       "  0.0           0.0           0.0           0.0           0.0"
      ]
     },
     "execution_count": 23,
     "metadata": {},
     "output_type": "execute_result"
    }
   ],
   "source": [
    "beta_list[1] - beta_list_seica[1]"
   ]
  },
  {
   "cell_type": "markdown",
   "metadata": {},
   "source": [
    "# visualization"
   ]
  },
  {
   "cell_type": "code",
   "execution_count": 24,
   "metadata": {},
   "outputs": [
    {
     "data": {
      "text/plain": [
       "Plots.PyPlotBackend()"
      ]
     },
     "execution_count": 24,
     "metadata": {},
     "output_type": "execute_result"
    }
   ],
   "source": [
    "using GraphRecipes, Plots\n",
    "pyplot()"
   ]
  },
  {
   "cell_type": "code",
   "execution_count": null,
   "metadata": {},
   "outputs": [],
   "source": [
    "graphplot(T,\n",
    "          markersize = 0.2,\n",
    "          node_weights = pi_i,\n",
    "          markercolor = :white,\n",
    "          names = 1:size(T, 1),\n",
    "          fontsize = 10,\n",
    "          linecolor = :darkgrey,\n",
    "          nodeshape = :circle,\n",
    "          edgewidth = T, \n",
    "          self_edge_size = 0.0, \n",
    "          arrow = true\n",
    "          )"
   ]
  },
  {
   "cell_type": "code",
   "execution_count": null,
   "metadata": {},
   "outputs": [],
   "source": [
    "graphplot(T1,\n",
    "          markersize = 0.2,\n",
    "          node_weights = pi_i,\n",
    "          markercolor = :white,\n",
    "          names = 1:size(T, 1),\n",
    "          fontsize = 10,\n",
    "          linecolor = :darkgrey,\n",
    "          nodeshape = :circle,\n",
    "          edgewidth = T,\n",
    "          arrow = true\n",
    "          )"
   ]
  },
  {
   "cell_type": "code",
   "execution_count": null,
   "metadata": {},
   "outputs": [],
   "source": []
  },
  {
   "cell_type": "code",
   "execution_count": null,
   "metadata": {},
   "outputs": [],
   "source": []
  }
 ],
 "metadata": {
  "kernelspec": {
   "display_name": "Julia 1.4.2",
   "language": "julia",
   "name": "julia-1.4"
  },
  "language_info": {
   "file_extension": ".jl",
   "mimetype": "application/julia",
   "name": "julia",
   "version": "1.4.2"
  }
 },
 "nbformat": 4,
 "nbformat_minor": 4
}
