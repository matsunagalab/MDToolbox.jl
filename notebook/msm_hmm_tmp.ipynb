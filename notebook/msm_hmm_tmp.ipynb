{
 "cells": [
  {
   "cell_type": "markdown",
   "metadata": {},
   "source": [
    "# This notebook demonstrates a Hidden markov modeling of transition probabilities from times series data"
   ]
  },
  {
   "cell_type": "markdown",
   "metadata": {},
   "source": [
    "# load required packages"
   ]
  },
  {
   "cell_type": "code",
   "execution_count": 1,
   "metadata": {},
   "outputs": [],
   "source": [
    "using GraphRecipes, Plots"
   ]
  },
  {
   "cell_type": "markdown",
   "metadata": {},
   "source": [
    "# generate training data"
   ]
  },
  {
   "cell_type": "code",
   "execution_count": 2,
   "metadata": {},
   "outputs": [
    {
     "data": {
      "text/plain": [
       "msmbaumwelch (generic function with 1 method)"
      ]
     },
     "execution_count": 2,
     "metadata": {},
     "output_type": "execute_result"
    }
   ],
   "source": [
    "mutable struct Edge\n",
    "    to::Int64\n",
    "    value::Float64\n",
    "end\n",
    "\n",
    "function msmsample(p)\n",
    "  p_cum = cumsum(p) ./ sum(p)\n",
    "  r = rand()\n",
    "  for i = 1:length(p_cum)\n",
    "    if r <= p_cum[i]\n",
    "      return i\n",
    "    end\n",
    "  end\n",
    "end\n",
    "\n",
    "function msmgenerate(nframe, state_num, E, pi_i, emission)\n",
    "    states = zeros(typeof(nframe), nframe)\n",
    "    observations = zeros(typeof(nframe), nframe)\n",
    "\n",
    "    states[1] = msmsample(pi_i)\n",
    "    observations[1] = msmsample(emission[states[1], :])\n",
    "    for iframe = 2:nframe\n",
    "        tmp = []\n",
    "        for edge in E[states[iframe - 1]]\n",
    "            push!(tmp, edge.value)\n",
    "        end\n",
    "        states[iframe] = E[states[iframe - 1]][msmsample(tmp)].to\n",
    "        observations[iframe] = msmsample(emission[states[iframe], :])\n",
    "    end\n",
    "    return states, observations\n",
    "end\n",
    "\n",
    "function msmforward(data_list, state_num, E, pi_i, emission)\n",
    "    alpha_list = []\n",
    "    alpha_sum_list = []\n",
    "    for data in data_list\n",
    "        alpha_sum = []\n",
    "        data_size = size(data, 1)\n",
    "        alpha = zeros(Float64, (data_size, state_num))\n",
    "        alpha[1, :] = pi_i .* emission[:, data[1]]\n",
    "        push!(alpha_sum, sum(alpha[1, :]))\n",
    "        alpha[1, :] ./= alpha_sum[1]\n",
    "        \n",
    "        for frame in 2:data_size\n",
    "            for state in 1:state_num\n",
    "                for edge in E[state]\n",
    "                    to = edge.to\n",
    "                    trans_prob = edge.value\n",
    "                    alpha[frame, to] += alpha[frame - 1, state] * trans_prob * emission[to, data[frame]]\n",
    "                end\n",
    "            end\n",
    "            push!(alpha_sum, sum(alpha[frame, :]))\n",
    "            alpha[frame, :] ./= alpha_sum[frame]\n",
    "        end\n",
    "        push!(alpha_list, alpha)\n",
    "        push!(alpha_sum_list, alpha_sum)\n",
    "    end\n",
    "    \n",
    "    return alpha_list, alpha_sum_list\n",
    "end\n",
    "\n",
    "function msmbackward(data_list, state_num, E, pi_i, emission, alpha_sum_list)\n",
    "    beta_list = []\n",
    "    data_num = length(data_list)\n",
    "    for (data, data_id) in zip(data_list, 1:data_num)\n",
    "        data_size = size(data, 1)\n",
    "        beta = zeros(Float64, (data_size, state_num))\n",
    "        # 全ての状態が最終状態となることを仮定\n",
    "        beta[data_size, :] .= 1\n",
    "        \n",
    "        for frame in (data_size - 1):-1:1\n",
    "            for state in 1:state_num\n",
    "                for edge in E[state]\n",
    "                    to = edge.to\n",
    "                    trans_prob = edge.value\n",
    "                    beta[frame, state] += beta[frame + 1, to] * trans_prob * emission[to, data[frame + 1]]\n",
    "                end\n",
    "            end\n",
    "            beta[frame, :] ./= alpha_sum_list[data_id][frame + 1]\n",
    "        end\n",
    "        \n",
    "        push!(beta_list, beta)\n",
    "    end\n",
    "    \n",
    "    return beta_list\n",
    "end\n",
    "\n",
    "function msmbaumwelch(data_list, state_num, E, pi_i, emission)\n",
    "    ## setup\n",
    "    tolerance = 10.0^(-3)\n",
    "    check_convergence = Inf64\n",
    "    count_iteration = 0\n",
    "    data_num = length(data_list)\n",
    "    obs_num = length(emission[1, :])\n",
    "    while check_convergence > tolerance\n",
    "        alpha_list, alpha_sum_list = msmforward(data_list, state_num, E, pi_i, emission)\n",
    "        beta_list = msmbackward(data_list, state_num, E, pi_i, emission, alpha_sum_list)\n",
    "        \n",
    "        E_nxt = deepcopy(E)\n",
    "        pi_nxt = deepcopy(pi_i)\n",
    "        emission_nxt = deepcopy(emission)\n",
    "        \n",
    "        diff_sum = 0\n",
    "        for state in 1:state_num\n",
    "            state_sum = 0\n",
    "            for edge_id in 1:size(E_nxt[state], 1)\n",
    "                to = E_nxt[state][edge_id].to\n",
    "                E_nxt[state][edge_id].value = 0\n",
    "                for (data, data_id) in zip(data_list, 1:data_num)\n",
    "                    data_size = size(data, 1)\n",
    "                    for frame in 1:(data_size - 1)\n",
    "                        E_nxt[state][edge_id].value += (alpha_list[data_id][frame, state]\n",
    "                                                    * E[state][edge_id].value\n",
    "                                                    * emission[to, data[frame + 1]]\n",
    "                                                    * beta_list[data_id][frame + 1, to]\n",
    "                                                    / alpha_sum_list[data_id][frame + 1])\n",
    "                    end\n",
    "                end\n",
    "                \n",
    "                state_sum += E_nxt[state][edge_id].value\n",
    "            end\n",
    "            \n",
    "            for edge_id in 1:size(E_nxt[state], 1)\n",
    "                # println(\"$(state) $(edge_id) $(E_nxt[state][edge_id].value) $(state_sum)\")\n",
    "                E_nxt[state][edge_id].value /= state_sum\n",
    "                # println(\"$(state) $(edge_id) $(E_nxt[state][edge_id].value) $(state_sum)\")\n",
    "                diff_sum += abs(E[state][edge_id].value - E_nxt[state][edge_id].value)\n",
    "            end\n",
    "            \n",
    "        end\n",
    "        \n",
    "        E = E_nxt\n",
    "        pi_i = pi_nxt\n",
    "        emission = emission_nxt\n",
    "        check_convergence = diff_sum\n",
    "        count_iteration += 1\n",
    "        \n",
    "        if count_iteration % 20 == 0\n",
    "            println(\"count: \", count_iteration, \" diff_sum: \", diff_sum)\n",
    "        end\n",
    "    end\n",
    "    \n",
    "    return E, pi_i, emission\n",
    "end\n"
   ]
  },
  {
   "cell_type": "code",
   "execution_count": 3,
   "metadata": {},
   "outputs": [
    {
     "data": {
      "text/plain": [
       "5-element Array{Array{Any,1},1}:\n",
       " [Edge(1, 0.6), Edge(2, 0.2), Edge(5, 0.2)]\n",
       " [Edge(1, 0.2), Edge(2, 0.6), Edge(3, 0.2)]\n",
       " [Edge(2, 0.2), Edge(3, 0.6), Edge(4, 0.2)]\n",
       " [Edge(3, 0.2), Edge(4, 0.6), Edge(5, 0.2)]\n",
       " [Edge(1, 0.2), Edge(4, 0.2), Edge(5, 0.6)]"
      ]
     },
     "execution_count": 3,
     "metadata": {},
     "output_type": "execute_result"
    }
   ],
   "source": [
    "# ground-truth transition probabilities\n",
    "state_num = 5\n",
    "E = [[] for i in 1:state_num]\n",
    "for i in 1:state_num\n",
    "    for j in 1:state_num\n",
    "        if i == j\n",
    "            push!(E[i], Edge(j, 0.6))\n",
    "        end\n",
    "        if abs(i - j) == 1 || state_num - abs(i - j) == 1\n",
    "            push!(E[i], Edge(j, 0.2))\n",
    "        end\n",
    "    end\n",
    "end\n",
    "E"
   ]
  },
  {
   "cell_type": "code",
   "execution_count": 4,
   "metadata": {},
   "outputs": [
    {
     "data": {
      "text/plain": [
       "5-element Array{Float64,1}:\n",
       " 0.2\n",
       " 0.2\n",
       " 0.2\n",
       " 0.2\n",
       " 0.2"
      ]
     },
     "execution_count": 4,
     "metadata": {},
     "output_type": "execute_result"
    }
   ],
   "source": [
    "# equilibrium probabilities\n",
    "pi_i = [\n",
    "0.2, \n",
    "0.2, \n",
    "0.2,\n",
    "0.2,\n",
    "0.2\n",
    "]"
   ]
  },
  {
   "cell_type": "code",
   "execution_count": 5,
   "metadata": {},
   "outputs": [
    {
     "data": {
      "text/plain": [
       "5×4 Array{Float64,2}:\n",
       " 0.7   0.2   0.05  0.05\n",
       " 0.2   0.7   0.05  0.05\n",
       " 0.25  0.25  0.25  0.25\n",
       " 0.05  0.05  0.7   0.2\n",
       " 0.05  0.05  0.2   0.7"
      ]
     },
     "execution_count": 5,
     "metadata": {},
     "output_type": "execute_result"
    }
   ],
   "source": [
    "# emission probabilities\n",
    "emission = [\n",
    "0.7 0.2 0.05 0.05;\n",
    "0.2 0.7 0.05 0.05;\n",
    "0.25 0.25 0.25 0.25;\n",
    "0.05 0.05 0.7 0.2;\n",
    "0.05 0.05 0.2 0.7\n",
    "]"
   ]
  },
  {
   "cell_type": "code",
   "execution_count": 6,
   "metadata": {},
   "outputs": [],
   "source": [
    "observations = []\n",
    "for i in 1:1\n",
    "    state, observation = msmgenerate(10000, state_num, E, pi_i, emission)\n",
    "    push!(observations, observation)\n",
    "end"
   ]
  },
  {
   "cell_type": "markdown",
   "metadata": {},
   "source": [
    "# Hidden markov modeling"
   ]
  },
  {
   "cell_type": "code",
   "execution_count": 7,
   "metadata": {},
   "outputs": [],
   "source": [
    "# initial transition probabilities\n",
    "E0 = [[] for i in 1:state_num]\n",
    "for i in 1:state_num\n",
    "    for j in 1:state_num\n",
    "        if i == j\n",
    "            push!(E0[i], Edge(j, rand()))\n",
    "        end\n",
    "        if abs(i - j) == 1 || state_num - abs(i - j) == 1\n",
    "            push!(E0[i], Edge(j, rand()))\n",
    "        end\n",
    "    end\n",
    "end"
   ]
  },
  {
   "cell_type": "code",
   "execution_count": 8,
   "metadata": {},
   "outputs": [
    {
     "name": "stdout",
     "output_type": "stream",
     "text": [
      "count: 20 diff_sum: 0.09985931734119688\n",
      "count: 40 diff_sum: 0.025454057668619967\n",
      "count: 60 diff_sum: 0.005962296976204706\n",
      "count: 80 diff_sum: 0.0018366372684995302\n",
      " 17.459352 seconds (449.44 M allocations: 7.535 GiB, 8.65% gc time)\n"
     ]
    }
   ],
   "source": [
    "@time E1, emission1, pi_i1 = msmbaumwelch(observations, state_num, E0, pi_i, emission);"
   ]
  },
  {
   "cell_type": "code",
   "execution_count": 9,
   "metadata": {},
   "outputs": [],
   "source": [
    "T = zeros(state_num, state_num)\n",
    "for state in 1:state_num\n",
    "    for edge in E[state]\n",
    "        T[state, edge.to] = edge.value\n",
    "    end\n",
    "end\n",
    "\n",
    "T0 = zeros(state_num, state_num)\n",
    "for state in 1:state_num\n",
    "    for edge in E0[state]\n",
    "        T0[state, edge.to] = edge.value\n",
    "    end\n",
    "end\n",
    "\n",
    "T1 = zeros(state_num, state_num)\n",
    "for state in 1:state_num\n",
    "    for edge in E1[state]\n",
    "        T1[state, edge.to] = edge.value\n",
    "    end\n",
    "end"
   ]
  },
  {
   "cell_type": "code",
   "execution_count": 10,
   "metadata": {},
   "outputs": [
    {
     "data": {
      "text/plain": [
       "5×5 Array{Float64,2}:\n",
       " 0.6  0.2  0.0  0.0  0.2\n",
       " 0.2  0.6  0.2  0.0  0.0\n",
       " 0.0  0.2  0.6  0.2  0.0\n",
       " 0.0  0.0  0.2  0.6  0.2\n",
       " 0.2  0.0  0.0  0.2  0.6"
      ]
     },
     "execution_count": 10,
     "metadata": {},
     "output_type": "execute_result"
    }
   ],
   "source": [
    "T"
   ]
  },
  {
   "cell_type": "code",
   "execution_count": 11,
   "metadata": {},
   "outputs": [
    {
     "data": {
      "text/plain": [
       "5×5 Array{Float64,2}:\n",
       " 0.110465  0.381743  0.0       0.0        0.276573\n",
       " 0.494781  0.828755  0.237999  0.0        0.0\n",
       " 0.0       0.878591  0.930254  0.0831753  0.0\n",
       " 0.0       0.0       0.7748    0.121435   0.419835\n",
       " 0.240393  0.0       0.0       0.909144   0.00981252"
      ]
     },
     "execution_count": 11,
     "metadata": {},
     "output_type": "execute_result"
    }
   ],
   "source": [
    "T0"
   ]
  },
  {
   "cell_type": "code",
   "execution_count": 12,
   "metadata": {},
   "outputs": [
    {
     "data": {
      "text/plain": [
       "5×5 Array{Float64,2}:\n",
       " 0.611634  0.190939  0.0       0.0       0.197427\n",
       " 0.221852  0.586464  0.191684  0.0       0.0\n",
       " 0.0       0.215783  0.555128  0.229089  0.0\n",
       " 0.0       0.0       0.227566  0.5527    0.219734\n",
       " 0.201069  0.0       0.0       0.225802  0.573129"
      ]
     },
     "execution_count": 12,
     "metadata": {},
     "output_type": "execute_result"
    }
   ],
   "source": [
    "T1"
   ]
  },
  {
   "cell_type": "code",
   "execution_count": 13,
   "metadata": {},
   "outputs": [],
   "source": [
    "alpha_list_seica, alpha_sum_list = msmforward(observations, state_num, E, pi_i, emission);"
   ]
  },
  {
   "cell_type": "code",
   "execution_count": 14,
   "metadata": {},
   "outputs": [
    {
     "data": {
      "text/plain": [
       "10000×5 Array{Float64,2}:\n",
       " 0.04        0.04        0.2        0.16        0.56\n",
       " 0.019802    0.00990099  0.110011   0.136414    0.723872\n",
       " 0.0263958   0.00530844  0.0792605  0.579169    0.309866\n",
       " 0.00972754  0.00299899  0.101411   0.734393    0.151469\n",
       " 0.00571842  0.00374074  0.162169   0.305903    0.522469\n",
       " 0.0145211   0.00478658  0.106383   0.171287    0.703022\n",
       " 0.273389    0.172257    0.225236   0.120369    0.20875\n",
       " 0.053938    0.0455957   0.217412   0.499843    0.183211\n",
       " 0.0130925   0.0136796   0.200713   0.25475     0.517765\n",
       " 0.16901     0.264138    0.322256   0.109772    0.134825\n",
       " 0.121738    0.603708    0.225184   0.026417    0.0229523\n",
       " 0.0707168   0.15386     0.465448   0.0933656   0.21661\n",
       " 0.0886357   0.531264    0.312551   0.0365938   0.0309557\n",
       " ⋮                                              \n",
       " 0.0145529   0.00547767  0.121655   0.65217     0.206144\n",
       " 0.277759    0.0474518   0.397377   0.177532    0.0998798\n",
       " 0.530697    0.126406    0.273904   0.0398106   0.029183\n",
       " 0.694646    0.134437    0.140239   0.0119955   0.0186826\n",
       " 0.781701    0.123619    0.0707789  0.00486481  0.0190363\n",
       " 0.821931    0.11548     0.0402156  0.00246399  0.0199101\n",
       " 0.353068    0.574159    0.0404809  0.0022911   0.0300014\n",
       " 0.165139    0.735278    0.0866087  0.00191997  0.0110539\n",
       " 0.104338    0.206498    0.418874   0.0347603   0.235529\n",
       " 0.031121    0.0470996   0.308695   0.125085    0.488\n",
       " 0.0213117   0.016315    0.186217   0.556386    0.219771\n",
       " 0.00942514  0.00805711  0.177707   0.260762    0.544049"
      ]
     },
     "execution_count": 14,
     "metadata": {},
     "output_type": "execute_result"
    }
   ],
   "source": [
    "alpha_list_seica[1]"
   ]
  },
  {
   "cell_type": "code",
   "execution_count": 15,
   "metadata": {},
   "outputs": [
    {
     "data": {
      "text/plain": [
       "1-element Array{Any,1}:\n",
       " [0.3465290480755708 0.14181223435230914 … 1.1075061436598397 1.2192882307733697; 0.11234308370912711 0.13283563194042788 … 1.9577957680826894 0.8664236646399961; … ; 0.5654693671692604 0.2827346835846302 … 0.9738639101248373 1.4765033476086245; 1.0 1.0 … 1.0 1.0]"
      ]
     },
     "execution_count": 15,
     "metadata": {},
     "output_type": "execute_result"
    }
   ],
   "source": [
    "beta_list_seica = msmbackward(observations, state_num, E, pi_i, emission, alpha_sum_list)"
   ]
  },
  {
   "cell_type": "code",
   "execution_count": 16,
   "metadata": {},
   "outputs": [
    {
     "data": {
      "text/plain": [
       "10000×5 Array{Float64,2}:\n",
       " 0.346529  0.141812  0.60232   1.10751    1.21929\n",
       " 0.112343  0.132836  0.929089  1.9578     0.866424\n",
       " 0.150994  0.143859  0.681815  1.2534     0.694753\n",
       " 0.391947  0.32329   0.894065  0.993359   1.15557\n",
       " 0.364056  0.720761  1.57126   1.10594    0.769618\n",
       " 1.07813   3.08734   3.326     1.45437    0.521494\n",
       " 0.242343  0.575431  1.76061   2.09911    0.888176\n",
       " 0.597771  1.16267   1.74576   0.847058   0.610224\n",
       " 2.4784    5.81498   2.95311   0.493525   0.327473\n",
       " 0.829253  1.66179   1.08664   0.324096   0.260733\n",
       " 0.846152  0.952669  1.21444   0.793738   1.19443\n",
       " 1.53021   2.37048   0.944102  0.125454   0.350502\n",
       " 1.84522   1.25109   0.480022  0.107553   0.57576\n",
       " ⋮                                        \n",
       " 9.21931   4.1702    0.663755  0.176767   3.13838\n",
       " 2.68438   1.24232   0.233781  0.0645477  0.911915\n",
       " 1.56762   0.768147  0.194616  0.0558183  0.529241\n",
       " 1.23831   0.699438  0.265376  0.0765546  0.409542\n",
       " 1.09061   0.867482  0.468924  0.128485   0.337082\n",
       " 0.941416  1.59739   0.882055  0.249849   0.284624\n",
       " 1.16682   0.910349  0.834499  0.731354   0.996374\n",
       " 2.72922   0.430102  1.53936   4.51018    8.23894\n",
       " 0.663999  0.193246  0.775003  1.62549    2.16399\n",
       " 0.267393  0.15447   0.791526  1.69384    1.08236\n",
       " 0.565469  0.282735  0.628299  0.973864   1.4765\n",
       " 1.0       1.0       1.0       1.0        1.0"
      ]
     },
     "execution_count": 16,
     "metadata": {},
     "output_type": "execute_result"
    }
   ],
   "source": [
    "beta_list_seica[1]"
   ]
  },
  {
   "cell_type": "code",
   "execution_count": 17,
   "metadata": {},
   "outputs": [
    {
     "name": "stderr",
     "output_type": "stream",
     "text": [
      "┌ Warning: no Manifest.toml file found, static paths used\n",
      "└ @ Revise /Users/seica/.julia/packages/Revise/BqeJF/src/Revise.jl:1328\n",
      "WARNING: using MDToolbox.msmbaumwelch in module Main conflicts with an existing identifier.\n",
      "WARNING: using MDToolbox.msmforward in module Main conflicts with an existing identifier.\n",
      "WARNING: using MDToolbox.msmbackward in module Main conflicts with an existing identifier.\n",
      "WARNING: using MDToolbox.msmgenerate in module Main conflicts with an existing identifier.\n"
     ]
    }
   ],
   "source": [
    "using Revise; using MDToolbox"
   ]
  },
  {
   "cell_type": "code",
   "execution_count": 18,
   "metadata": {},
   "outputs": [
    {
     "name": "stdout",
     "output_type": "stream",
     "text": [
      "100 iteration LogLikelihood = -1.295930e+04  delta = 6.278742e-04  tolerance = 1.000000e-04\n",
      " 23.258108 seconds (163.75 M allocations: 6.613 GiB, 5.45% gc time)\n"
     ]
    }
   ],
   "source": [
    "@time T2, emission2, pi_i2 = MDToolbox.msmbaumwelch(observations, T0, pi_i, emission);"
   ]
  },
  {
   "cell_type": "code",
   "execution_count": 19,
   "metadata": {},
   "outputs": [
    {
     "data": {
      "text/plain": [
       "5×5 Array{Float64,2}:\n",
       " 0.611591  0.190909  0.0       0.0       0.1975\n",
       " 0.221615  0.585245  0.19314   0.0       0.0\n",
       " 0.0       0.219319  0.54832   0.232361  0.0\n",
       " 0.0       0.0       0.228641  0.55216   0.219198\n",
       " 0.201115  0.0       0.0       0.22547   0.573415"
      ]
     },
     "execution_count": 19,
     "metadata": {},
     "output_type": "execute_result"
    }
   ],
   "source": [
    "T2"
   ]
  },
  {
   "cell_type": "code",
   "execution_count": 20,
   "metadata": {},
   "outputs": [
    {
     "data": {
      "text/plain": [
       "([-12962.24892369659], Any[[0.04000000000000001 0.04000000000000001 … 0.16000000000000003 0.5599999999999999; 0.019801980198019802 0.009900990099009903 … 0.13641364136413645 0.7238723872387239; … ; 0.021311737447726044 0.016315046009013158 … 0.5563859772669336 0.21977060289482342; 0.009425144808162552 0.008057106358057913 … 0.2607624503718512 0.5440485496279979]], Any[[0.25, 0.3636, 0.30049504950495054, 0.4054076514735493, 0.321155376111529, 0.37419015620230833, 0.10993437633647256, 0.22269535870472107, 0.29835548058773, 0.13507406776695563  …  0.25868842620149746, 0.3522299019024262, 0.4006492640107289, 0.4237415168501674, 0.2946951095952086, 0.402899962969975, 0.11901235877584344, 0.24261502940063395, 0.29489023001439507, 0.3183196304710191]])"
      ]
     },
     "execution_count": 20,
     "metadata": {},
     "output_type": "execute_result"
    }
   ],
   "source": [
    "logL, alpha_list, factor_list = MDToolbox.msmforward(observations, T, pi_i, emission)"
   ]
  },
  {
   "cell_type": "code",
   "execution_count": 21,
   "metadata": {},
   "outputs": [
    {
     "data": {
      "text/plain": [
       "10000×5 Array{Float64,2}:\n",
       " 0.04        0.04        0.2        0.16        0.56\n",
       " 0.019802    0.00990099  0.110011   0.136414    0.723872\n",
       " 0.0263958   0.00530844  0.0792605  0.579169    0.309866\n",
       " 0.00972754  0.00299899  0.101411   0.734393    0.151469\n",
       " 0.00571842  0.00374074  0.162169   0.305903    0.522469\n",
       " 0.0145211   0.00478658  0.106383   0.171287    0.703022\n",
       " 0.273389    0.172257    0.225236   0.120369    0.20875\n",
       " 0.053938    0.0455957   0.217412   0.499843    0.183211\n",
       " 0.0130925   0.0136796   0.200713   0.25475     0.517765\n",
       " 0.16901     0.264138    0.322256   0.109772    0.134825\n",
       " 0.121738    0.603708    0.225184   0.026417    0.0229523\n",
       " 0.0707168   0.15386     0.465448   0.0933656   0.21661\n",
       " 0.0886357   0.531264    0.312551   0.0365938   0.0309557\n",
       " ⋮                                              \n",
       " 0.0145529   0.00547767  0.121655   0.65217     0.206144\n",
       " 0.277759    0.0474518   0.397377   0.177532    0.0998798\n",
       " 0.530697    0.126406    0.273904   0.0398106   0.029183\n",
       " 0.694646    0.134437    0.140239   0.0119955   0.0186826\n",
       " 0.781701    0.123619    0.0707789  0.00486481  0.0190363\n",
       " 0.821931    0.11548     0.0402156  0.00246399  0.0199101\n",
       " 0.353068    0.574159    0.0404809  0.0022911   0.0300014\n",
       " 0.165139    0.735278    0.0866087  0.00191997  0.0110539\n",
       " 0.104338    0.206498    0.418874   0.0347603   0.235529\n",
       " 0.031121    0.0470996   0.308695   0.125085    0.488\n",
       " 0.0213117   0.016315    0.186217   0.556386    0.219771\n",
       " 0.00942514  0.00805711  0.177707   0.260762    0.544049"
      ]
     },
     "execution_count": 21,
     "metadata": {},
     "output_type": "execute_result"
    }
   ],
   "source": [
    "alpha_list[1]"
   ]
  },
  {
   "cell_type": "code",
   "execution_count": 22,
   "metadata": {},
   "outputs": [
    {
     "data": {
      "text/plain": [
       "([-12962.24892369659], Any[[0.3465290480755833 0.14181223435231424 … 1.1075061436598796 1.2192882307734136; 0.11234308370913118 0.13283563194043263 … 1.95779576808276 0.8664236646400274; … ; 0.5654693671692604 0.2827346835846302 … 0.9738639101248373 1.4765033476086245; 1.0 1.0 … 1.0 1.0]])"
      ]
     },
     "execution_count": 22,
     "metadata": {},
     "output_type": "execute_result"
    }
   ],
   "source": [
    "logL2, beta_list = MDToolbox.msmbackward(observations, factor_list, T, pi_i, emission)"
   ]
  },
  {
   "cell_type": "code",
   "execution_count": 23,
   "metadata": {},
   "outputs": [
    {
     "data": {
      "text/plain": [
       "10000×5 Array{Float64,2}:\n",
       " 0.346529  0.141812  0.60232   1.10751    1.21929\n",
       " 0.112343  0.132836  0.929089  1.9578     0.866424\n",
       " 0.150994  0.143859  0.681815  1.2534     0.694753\n",
       " 0.391947  0.32329   0.894065  0.993359   1.15557\n",
       " 0.364056  0.720761  1.57126   1.10594    0.769618\n",
       " 1.07813   3.08734   3.326     1.45437    0.521494\n",
       " 0.242343  0.575431  1.76061   2.09911    0.888176\n",
       " 0.597771  1.16267   1.74576   0.847058   0.610224\n",
       " 2.4784    5.81498   2.95311   0.493525   0.327473\n",
       " 0.829253  1.66179   1.08664   0.324096   0.260733\n",
       " 0.846152  0.952669  1.21444   0.793738   1.19443\n",
       " 1.53021   2.37048   0.944102  0.125454   0.350502\n",
       " 1.84522   1.25109   0.480022  0.107553   0.57576\n",
       " ⋮                                        \n",
       " 9.21931   4.1702    0.663755  0.176767   3.13838\n",
       " 2.68438   1.24232   0.233781  0.0645477  0.911915\n",
       " 1.56762   0.768147  0.194616  0.0558183  0.529241\n",
       " 1.23831   0.699438  0.265376  0.0765546  0.409542\n",
       " 1.09061   0.867482  0.468924  0.128485   0.337082\n",
       " 0.941416  1.59739   0.882055  0.249849   0.284624\n",
       " 1.16682   0.910349  0.834499  0.731354   0.996374\n",
       " 2.72922   0.430102  1.53936   4.51018    8.23894\n",
       " 0.663999  0.193246  0.775003  1.62549    2.16399\n",
       " 0.267393  0.15447   0.791526  1.69384    1.08236\n",
       " 0.565469  0.282735  0.628299  0.973864   1.4765\n",
       " 1.0       1.0       1.0       1.0        1.0"
      ]
     },
     "execution_count": 23,
     "metadata": {},
     "output_type": "execute_result"
    }
   ],
   "source": [
    "beta_list[1]"
   ]
  },
  {
   "cell_type": "code",
   "execution_count": 24,
   "metadata": {},
   "outputs": [
    {
     "data": {
      "text/plain": [
       "10000×5 Array{Float64,2}:\n",
       "  0.0           0.0           0.0           0.0           0.0\n",
       " -3.46945e-18   0.0           0.0           0.0           0.0\n",
       "  0.0           8.67362e-19   0.0          -1.11022e-16   0.0\n",
       "  0.0           0.0          -1.38778e-17  -1.11022e-16   0.0\n",
       "  8.67362e-19   4.33681e-19   0.0           0.0          -1.11022e-16\n",
       "  3.46945e-18   8.67362e-19   4.16334e-17   5.55112e-17   0.0\n",
       " -5.55112e-17   5.55112e-17   2.77556e-17  -2.77556e-17  -2.77556e-17\n",
       " -6.93889e-18   6.93889e-18   5.55112e-17  -5.55112e-17   0.0\n",
       "  1.73472e-18   0.0           0.0           0.0           0.0\n",
       "  0.0           0.0           0.0           0.0           0.0\n",
       "  0.0           0.0           0.0           3.46945e-18   0.0\n",
       "  0.0           5.55112e-17   0.0           1.38778e-17   2.77556e-17\n",
       "  0.0           0.0           0.0           0.0           0.0\n",
       "  ⋮                                                      \n",
       " -5.20417e-18  -1.73472e-18  -2.77556e-17  -1.11022e-16  -2.77556e-17\n",
       " -5.55112e-17  -2.08167e-17   0.0          -2.77556e-17   0.0\n",
       "  0.0           0.0           5.55112e-17   0.0           3.46945e-18\n",
       "  0.0           2.77556e-17   2.77556e-17   3.46945e-18  -3.46945e-18\n",
       "  0.0           1.38778e-17   1.38778e-17   8.67362e-19   0.0\n",
       "  0.0           0.0           6.93889e-18   4.33681e-19   3.46945e-18\n",
       "  0.0           0.0           6.93889e-18   4.33681e-19   0.0\n",
       "  0.0           0.0           0.0           2.1684e-19   -1.73472e-18\n",
       "  0.0          -2.77556e-17   5.55112e-17   0.0           2.77556e-17\n",
       " -1.04083e-17  -6.93889e-18  -1.11022e-16   0.0           0.0\n",
       "  3.46945e-18  -3.46945e-18  -5.55112e-17   0.0           0.0\n",
       "  1.73472e-18  -3.46945e-18   0.0           0.0           0.0"
      ]
     },
     "execution_count": 24,
     "metadata": {},
     "output_type": "execute_result"
    }
   ],
   "source": [
    "alpha_list[1] - alpha_list_seica[1]"
   ]
  },
  {
   "cell_type": "code",
   "execution_count": 25,
   "metadata": {},
   "outputs": [
    {
     "data": {
      "text/plain": [
       "10000×5 Array{Float64,2}:\n",
       "  1.25455e-14   5.10703e-15   2.15383e-14   3.9968e-14    4.39648e-14\n",
       "  4.06619e-15   4.7462e-15    3.34177e-14   7.06102e-14   3.13083e-14\n",
       "  5.46785e-15   5.16254e-15   2.45359e-14   4.50751e-14   2.52021e-14\n",
       "  1.42664e-14   1.17129e-14   3.20854e-14   3.58602e-14   4.17444e-14\n",
       "  1.31006e-14   2.58682e-14   5.63993e-14   3.9968e-14    2.78666e-14\n",
       "  3.84137e-14   1.0969e-13    1.18128e-13   5.21805e-14   1.86517e-14\n",
       "  8.74301e-15   2.06501e-14   6.35048e-14   7.54952e-14   3.20854e-14\n",
       "  2.15383e-14   4.19664e-14   6.28386e-14   3.05311e-14   2.19824e-14\n",
       "  8.9706e-14    2.10498e-13   1.06581e-13   1.76525e-14   1.17684e-14\n",
       "  2.9754e-14    5.9952e-14    3.90799e-14   1.16573e-14   9.32587e-15\n",
       "  3.04201e-14   3.43059e-14   4.37428e-14   2.86438e-14   4.30767e-14\n",
       "  5.50671e-14   8.4821e-14    3.41949e-14   4.52416e-15   1.25455e-14\n",
       "  6.59472e-14   4.50751e-14   1.72085e-14   3.8719e-15    2.07612e-14\n",
       "  ⋮                                                      \n",
       "  0.0           0.0           1.11022e-16   2.77556e-17   4.44089e-16\n",
       "  4.44089e-16   2.22045e-16   1.11022e-16   1.38778e-17   2.22045e-16\n",
       "  0.0           0.0           5.55112e-17   0.0          -1.11022e-16\n",
       "  0.0           1.11022e-16   0.0           0.0           0.0\n",
       "  0.0           1.11022e-16   0.0           0.0           5.55112e-17\n",
       "  0.0           0.0           0.0          -5.55112e-17   0.0\n",
       "  0.0           0.0           0.0           0.0           0.0\n",
       " -4.44089e-16   5.55112e-17   2.22045e-16   0.0           0.0\n",
       " -2.22045e-16  -2.77556e-17  -1.11022e-16  -2.22045e-16  -4.44089e-16\n",
       "  0.0           0.0           0.0           0.0           0.0\n",
       "  0.0           0.0           0.0           0.0           0.0\n",
       "  0.0           0.0           0.0           0.0           0.0"
      ]
     },
     "execution_count": 25,
     "metadata": {},
     "output_type": "execute_result"
    }
   ],
   "source": [
    "beta_list[1] - beta_list_seica[1]"
   ]
  },
  {
   "cell_type": "markdown",
   "metadata": {},
   "source": [
    "# visualization"
   ]
  },
  {
   "cell_type": "code",
   "execution_count": null,
   "metadata": {},
   "outputs": [],
   "source": [
    "using GraphRecipes, Plots\n",
    "pyplot()"
   ]
  },
  {
   "cell_type": "code",
   "execution_count": null,
   "metadata": {},
   "outputs": [],
   "source": [
    "graphplot(T,\n",
    "          markersize = 0.2,\n",
    "          node_weights = pi_i,\n",
    "          markercolor = :white,\n",
    "          names = 1:size(T, 1),\n",
    "          fontsize = 10,\n",
    "          linecolor = :darkgrey,\n",
    "          nodeshape = :circle,\n",
    "          edgewidth = T, \n",
    "          self_edge_size = 0.0, \n",
    "          arrow = true\n",
    "          )"
   ]
  },
  {
   "cell_type": "code",
   "execution_count": null,
   "metadata": {},
   "outputs": [],
   "source": [
    "graphplot(T1,\n",
    "          markersize = 0.2,\n",
    "          node_weights = pi_i,\n",
    "          markercolor = :white,\n",
    "          names = 1:size(T, 1),\n",
    "          fontsize = 10,\n",
    "          linecolor = :darkgrey,\n",
    "          nodeshape = :circle,\n",
    "          edgewidth = T,\n",
    "          arrow = true\n",
    "          )"
   ]
  },
  {
   "cell_type": "code",
   "execution_count": null,
   "metadata": {},
   "outputs": [],
   "source": []
  },
  {
   "cell_type": "code",
   "execution_count": null,
   "metadata": {},
   "outputs": [],
   "source": []
  }
 ],
 "metadata": {
  "kernelspec": {
   "display_name": "Julia 1.4.2",
   "language": "julia",
   "name": "julia-1.4"
  },
  "language_info": {
   "file_extension": ".jl",
   "mimetype": "application/julia",
   "name": "julia",
   "version": "1.4.2"
  }
 },
 "nbformat": 4,
 "nbformat_minor": 4
}
