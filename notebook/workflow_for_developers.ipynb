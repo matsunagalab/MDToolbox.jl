{
 "cells": [
  {
   "cell_type": "markdown",
   "metadata": {},
   "source": [
    "## Workflow for developers\n",
    "\n",
    "\n",
    "This note explains general workflows for developers who are interested in adding their own functions in MDToolbox.jl"
   ]
  },
  {
   "cell_type": "markdown",
   "metadata": {},
   "source": [
    "## Setup of MDToolbox.jl source codes\n",
    "\n",
    "1. Fork the MDToolbox.jl repository to your space\n",
    "\n",
    "Just press the fork buttun on GitHub\n",
    "\n",
    "2. Download (clone) the forked repository\n",
    "\n",
    "In your shell terminal, please clone the forked repository with a git command:\n",
    "\n",
    "```\n",
    "$ git clone https://github.com/your_account_name/MDToolbox.jl.git\n",
    "```\n",
    "\n",
    "3. Register the downloded source codes as developmental codes in Julia\n",
    "\n",
    "```\n",
    "$ julia\n",
    "               _\n",
    "   _       _ _(_)_     |  Documentation: https://docs.julialang.org\n",
    "  (_)     | (_) (_)    |\n",
    "   _ _   _| |_  __ _   |  Type \"?\" for help, \"]?\" for Pkg help.\n",
    "  | | | | | | |/ _` |  |\n",
    "  | | |_| | | | (_| |  |  Version 1.1.0 (2019-01-21)\n",
    " _/ |\\__'_|_|_|\\__'_|  |  Official https://julialang.org/ release\n",
    "|__/                   |\n",
    "\n",
    "julia> \n",
    "# enter the package mode by pressing ]\n",
    "pkg> develop /path/to/MDToolbox.jl\n",
    "# return to the REPL mode by pressing BACKSPACE\n",
    "# now you can use MDToolbox\n",
    "julia> using MDToolbox\n",
    "```"
   ]
  },
  {
   "cell_type": "markdown",
   "metadata": {},
   "source": [
    "## Worklow for adding your original function\n",
    "\n",
    "1. Edit `src/MDToolbox.jl`\n",
    "\n",
    "Suppose that your new function name is `wham()`, and the definition of `wham()` is now being coded in `wham.jl`.\n",
    "\n",
    "Then, first please write your original function name and filename in `src/MDToolbox.jl` file as follows:\n",
    "\n",
    "```\n",
    "###\n",
    "\n",
    "export wham\n",
    "\n",
    "###\n",
    "include(\"wham.jl\")\n",
    "```"
   ]
  },
  {
   "cell_type": "markdown",
   "metadata": {},
   "source": [
    "2. Write your codes in `wham.jl`\n",
    "\n",
    "During the coding, it is highly recommended to execute test codes in your REPL. Also, during the test, it is convenient to use `Reivse` package allows you to modify code and use the changes without restarting Julia.\n",
    "\n",
    "```\n",
    "julia> using Revise\n",
    "julia> # run your test codes\n",
    "```"
   ]
  }
 ],
 "metadata": {
  "kernelspec": {
   "display_name": "Julia 1.1.0",
   "language": "julia",
   "name": "julia-1.1"
  },
  "language_info": {
   "file_extension": ".jl",
   "mimetype": "application/julia",
   "name": "julia",
   "version": "1.1.0"
  }
 },
 "nbformat": 4,
 "nbformat_minor": 2
}
