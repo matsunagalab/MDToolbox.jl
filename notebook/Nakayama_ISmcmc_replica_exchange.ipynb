{
 "cells": [
  {
   "cell_type": "code",
   "execution_count": 2,
   "metadata": {},
   "outputs": [],
   "source": [
    "using PyPlot, StatsBase, Printf, DelimitedFiles,Permutations;\n",
    "using Revise;\n",
    "using MDToolbox;\n",
    "PyPlot.plt.style.use(\"seaborn-colorblind\");\n",
    "ENV[\"COLUMNS\"] = 110; #display width for MDToolbox"
   ]
  },
  {
   "cell_type": "markdown",
   "metadata": {},
   "source": [
    "### Potential energy function"
   ]
  },
  {
   "cell_type": "code",
   "execution_count": 3,
   "metadata": {},
   "outputs": [
    {
     "data": {
      "text/plain": [
       "0.0"
      ]
     },
     "execution_count": 3,
     "metadata": {},
     "output_type": "execute_result"
    }
   ],
   "source": [
    "V(x; k=1.0) = sum(- (1.0 / 2.0) .* k .* x.^2 .+ (1.0 ./ 4.0) .* k .* x.^4)\n",
    "V([0.0], k=1.0)"
   ]
  },
  {
   "cell_type": "markdown",
   "metadata": {},
   "source": [
    "### Proposal distribution"
   ]
  },
  {
   "cell_type": "code",
   "execution_count": 4,
   "metadata": {},
   "outputs": [
    {
     "data": {
      "text/plain": [
       "1-element Array{Float64,1}:\n",
       " 0.39563249313026994"
      ]
     },
     "execution_count": 4,
     "metadata": {},
     "output_type": "execute_result"
    }
   ],
   "source": [
    "proposal_fun(x) = x .+ (rand(Float64, size(x)) .* 2.0 .- 1.0);\n",
    "proposal_fun([0.0])"
   ]
  },
  {
   "cell_type": "code",
   "execution_count": 5,
   "metadata": {},
   "outputs": [],
   "source": [
    "### set permutation"
   ]
  },
  {
   "cell_type": "code",
   "execution_count": 6,
   "metadata": {},
   "outputs": [],
   "source": [
    "using Combinatorics"
   ]
  },
  {
   "cell_type": "code",
   "execution_count": 7,
   "metadata": {},
   "outputs": [
    {
     "data": {
      "text/plain": [
       "24-element Array{Array{Int64,1},1}:\n",
       " [1, 2, 3, 4]\n",
       " [1, 2, 4, 3]\n",
       " [1, 3, 2, 4]\n",
       " [1, 3, 4, 2]\n",
       " [1, 4, 2, 3]\n",
       " [1, 4, 3, 2]\n",
       " [2, 1, 3, 4]\n",
       " [2, 1, 4, 3]\n",
       " [2, 3, 1, 4]\n",
       " [2, 3, 4, 1]\n",
       " [2, 4, 1, 3]\n",
       " [2, 4, 3, 1]\n",
       " [3, 1, 2, 4]\n",
       " [3, 1, 4, 2]\n",
       " [3, 2, 1, 4]\n",
       " [3, 2, 4, 1]\n",
       " [3, 4, 1, 2]\n",
       " [3, 4, 2, 1]\n",
       " [4, 1, 2, 3]\n",
       " [4, 1, 3, 2]\n",
       " [4, 2, 1, 3]\n",
       " [4, 2, 3, 1]\n",
       " [4, 3, 1, 2]\n",
       " [4, 3, 2, 1]"
      ]
     },
     "execution_count": 7,
     "metadata": {},
     "output_type": "execute_result"
    }
   ],
   "source": [
    "Perm=collect(permutations(1:4))"
   ]
  },
  {
   "cell_type": "code",
   "execution_count": 8,
   "metadata": {},
   "outputs": [],
   "source": [
    "#a=collect(Permutation([1,2,3]))\n",
    "\n",
    "\n",
    "#nreplica=3\n",
    "#Perm=collect(permutations(1:nreplica))\n",
    "#nperm=factorial(nreplica)\n",
    "\n",
    "#Perm=[(1,2,3),(1,3,2),(2,1,3),(2,3,1),(3,1,2),(3,2,1)]"
   ]
  },
  {
   "cell_type": "code",
   "execution_count": 9,
   "metadata": {},
   "outputs": [
    {
     "data": {
      "text/plain": [
       "output_weight (generic function with 1 method)"
      ]
     },
     "execution_count": 9,
     "metadata": {},
     "output_type": "execute_result"
    }
   ],
   "source": [
    "function output_weight(io::IOStream, x::Vector{Float64}, temperature::Float64)    \n",
    "    @printf(io, \"%f\", temperature)\n",
    "    for i in length(x)\n",
    "        @printf(io, \" %f\", x[i])\n",
    "    end\n",
    "    @printf(io, \"\\n\")\n",
    "end\n"
   ]
  },
  {
   "cell_type": "code",
   "execution_count": 10,
   "metadata": {},
   "outputs": [],
   "source": [
    "### calculate pai (Boltzmann weight) "
   ]
  },
  {
   "cell_type": "code",
   "execution_count": 33,
   "metadata": {},
   "outputs": [
    {
     "data": {
      "text/plain": [
       "pai (generic function with 1 method)"
      ]
     },
     "execution_count": 33,
     "metadata": {},
     "output_type": "execute_result"
    }
   ],
   "source": [
    "\n",
    "pai(x,T)=exp.(-V(x,k=1.0)./T)\n"
   ]
  },
  {
   "cell_type": "code",
   "execution_count": 12,
   "metadata": {},
   "outputs": [],
   "source": [
    "### calclulate rou"
   ]
  },
  {
   "cell_type": "code",
   "execution_count": 34,
   "metadata": {
    "collapsed": true,
    "jupyter": {
     "outputs_hidden": true,
     "source_hidden": true
    }
   },
   "outputs": [
    {
     "data": {
      "text/plain": [
       "update_index (generic function with 1 method)"
      ]
     },
     "execution_count": 34,
     "metadata": {},
     "output_type": "execute_result"
    }
   ],
   "source": [
    "#@show m2i\n",
    "#@show i2m\n",
    "#@show Perm[select_rou]\n",
    "function update_index(select_perm,Perm,i2m,m2i)\n",
    "for i=1:nreplica\n",
    "    i2m[i]=Perm[select_perm][i]\n",
    "    m2i[Perm[select_perm][i]]=i\n",
    "end\n",
    "end\n",
    "#@show m2i\n",
    "#@show i2m\n"
   ]
  },
  {
   "cell_type": "code",
   "execution_count": 14,
   "metadata": {},
   "outputs": [
    {
     "data": {
      "text/plain": [
       "make_rou (generic function with 1 method)"
      ]
     },
     "execution_count": 14,
     "metadata": {},
     "output_type": "execute_result"
    }
   ],
   "source": [
    "function make_rou(x,T,Perm,nperm,nreplica,rou)\n",
    "mu=0.0\n",
    "for n=1:nperm\n",
    "    #置換ごとに掛けたpaiを足し合わせる\n",
    "    for i=1:nreplica\n",
    "        rou[n]*=pai(x[i],T[Perm[n][i]])\n",
    "    end\n",
    "    mu+=rou[n]\n",
    "end\n",
    "rou=rou./mu\n",
    "#sum(rou)\n",
    "    return rou\n",
    "end\n",
    "\n"
   ]
  },
  {
   "cell_type": "code",
   "execution_count": 15,
   "metadata": {},
   "outputs": [
    {
     "data": {
      "text/plain": [
       "select_permutation (generic function with 1 method)"
      ]
     },
     "execution_count": 15,
     "metadata": {},
     "output_type": "execute_result"
    }
   ],
   "source": [
    "function select_permutation(rou)\n",
    "    rou_cumsum=cumsum(rou)\n",
    "    r=rand()\n",
    "    select_perm=sum(r .> rou_cumsum )+1\n",
    "    return select_perm\n",
    "end"
   ]
  },
  {
   "cell_type": "markdown",
   "metadata": {},
   "source": [
    "### Replica MCMC without exchange"
   ]
  },
  {
   "cell_type": "code",
   "execution_count": 16,
   "metadata": {
    "collapsed": true,
    "jupyter": {
     "outputs_hidden": true,
     "source_hidden": true
    }
   },
   "outputs": [
    {
     "data": {
      "text/plain": [
       "exchange_temperature! (generic function with 1 method)"
      ]
     },
     "execution_count": 16,
     "metadata": {},
     "output_type": "execute_result"
    }
   ],
   "source": [
    "function exchange_temperature!(m2i, i2m, icount, x_replica, pot_fun::Function, temperature_replica)\n",
    "    nreplica = length(x_replica)\n",
    "\n",
    "    m_array = 1:nreplica\n",
    "    t_array = temperature_replica[m_array]\n",
    "    b_array = 1.0 ./ t_array\n",
    "    i_array = m2i[m_array]\n",
    "    v_array = map(pot_fun, x_replica[i_array])\n",
    "    \n",
    "    if mod(icount, 2) == 0\n",
    "        m_lower = 1:2:(nreplica-1)\n",
    "        m_higher = 2:2:nreplica\n",
    "    else\n",
    "        m_lower = 2:2:(nreplica-1)\n",
    "        m_higher = 3:2:nreplica\n",
    "    end\n",
    "    \n",
    "    iaccepted = 0\n",
    "    for ipair = 1:length(m_higher)\n",
    "        m1 = m_lower[ipair]\n",
    "        m2 = m_higher[ipair]\n",
    "        delta = (b_array[m2] - b_array[m1]) * (v_array[m1] - v_array[m2])\n",
    "        if exp(-delta) > rand()\n",
    "            m2i[m_array[m1]], m2i[m_array[m2]] = m2i[m_array[m2]], m2i[m_array[m1]]\n",
    "            i2m[i_array[m1]], i2m[i_array[m2]] = i2m[i_array[m2]], i2m[i_array[m1]]\n",
    "            iaccepted += 1\n",
    "        end\n",
    "    end\n",
    "\n",
    "    return iaccepted / length(m_higher)\n",
    "end"
   ]
  },
  {
   "cell_type": "code",
   "execution_count": 17,
   "metadata": {
    "collapsed": true,
    "jupyter": {
     "outputs_hidden": true,
     "source_hidden": true
    }
   },
   "outputs": [
    {
     "data": {
      "text/plain": [
       "output_weight (generic function with 2 methods)"
      ]
     },
     "execution_count": 17,
     "metadata": {},
     "output_type": "execute_result"
    }
   ],
   "source": [
    "function output_weight(io::IOStream, i::Int, rou::Float64,select_perm::Int)\n",
    "#各ステップで温度indexごとにV（x）にかかるρを保存したい\n",
    "    @printf(io, \"%d \",i)\n",
    "    @printf(io, \"%f \", rou)\n",
    "    @printf(io, \"%d \", select_perm)\n",
    "    @printf(io, \"\\n\")\n",
    "end\n",
    "\n"
   ]
  },
  {
   "cell_type": "code",
   "execution_count": 18,
   "metadata": {},
   "outputs": [
    {
     "data": {
      "text/plain": [
       "save_weight2! (generic function with 1 method)"
      ]
     },
     "execution_count": 18,
     "metadata": {},
     "output_type": "execute_result"
    }
   ],
   "source": [
    "#calculate diff V(x)\n",
    "#各ステップで温度indexごとにV（x）にかかるρを保存したい\n",
    "#カラムはreplica index 中身はrouの和\n",
    "#diffV_t=zeros(Float64,nreplica)　#温度ごとにVの差分が欲しい\n",
    "function save_weight2!(nreplica,nperm,Perm,rou,io::IOStream,Tindex)\n",
    "add_rou=zeros(Float64,nreplica)\n",
    "    for m=1:nreplica\n",
    "    #printf(io,\"\\nT[%d]\\n\",m)\n",
    "        for i=1:nreplica\n",
    "            for n=1:nperm\n",
    "                if(m==Tindex) \n",
    "                    if(m==Perm[n][i])\n",
    "                       add_rou[i]+= rou[n]\n",
    "                \n",
    "                    end\n",
    "                end\n",
    "            end\n",
    "            if(m==Tindex)\n",
    "             @printf(io, \"%f \", add_rou[i])\n",
    "            end\n",
    "        end\n",
    "        \n",
    "    end\n",
    "    @printf(io,\"\\n\")\n",
    "end\n"
   ]
  },
  {
   "cell_type": "code",
   "execution_count": 19,
   "metadata": {},
   "outputs": [
    {
     "data": {
      "text/plain": [
       "save_weight! (generic function with 1 method)"
      ]
     },
     "execution_count": 19,
     "metadata": {},
     "output_type": "execute_result"
    }
   ],
   "source": [
    "#calculate diff V(x)\n",
    "#各ステップで温度indexごとにV（x）にかかるρを保存したい\n",
    "#カラムはreplica index 中身はrouの和\n",
    "#diffV_t=zeros(Float64,nreplica)　#温度ごとにVの差分が欲しい\n",
    "function save_weight!(nreplica,nperm,Perm,rou,io::IOStream,Tindex,output_weight::Function)\n",
    "    for m=1:nreplica\n",
    "    #printf(io,\"\\nT[%d]\\n\",m)\n",
    "        for i=1:nreplica\n",
    "            for n=1:nperm\n",
    "                if(m==Tindex) \n",
    "                    if(m==Perm[n][i])\n",
    "                       output_weight(io,i,rou[n],n)\n",
    "                    end\n",
    "                end\n",
    "            end\n",
    "        end\n",
    "    end\n",
    "end\n"
   ]
  },
  {
   "cell_type": "code",
   "execution_count": 20,
   "metadata": {
    "jupyter": {
     "source_hidden": true
    }
   },
   "outputs": [],
   "source": [
    "#calculate diff V(x)\n",
    "#各ステップで温度indexごとにV（x）にかかるρを保存したい\n",
    "#diffV_t=zeros(Float64,nreplica)　#温度ごとにVの差分が欲しい\n",
    "#function cal_diffV!(diffV_t,nreplica,nperm,Perm,select_rou,rou)\n",
    "#weight_num=1\n",
    "#    for m=1:nreplica\n",
    "##    for i=1:nreplica\n",
    "  #      for n=1:nperm\n",
    "         #   diffV_t[m]+= V(x_replica[i];k=1.0)* rou[n] * (m==Perm[n][i2m[i]])        \n",
    "  #              diffV_t[m]+=  rou[n] * (m==Perm[n][i])\n",
    "  #              if(m==Perm[n][i])\n",
    "  #               select_rou[m][i][weight_num]=rou[n] * (m==Perm[n][i])\n",
    "  #               weight_num+=1\n",
    "  #              end\n",
    "  #      end\n",
    "   # end\n",
    "#end\n",
    "#end\n",
    "\n"
   ]
  },
  {
   "cell_type": "code",
   "execution_count": 35,
   "metadata": {},
   "outputs": [],
   "source": [
    "nreplica = 4\n",
    "temperature_replica = [0.01, 0.10, 0.30, 0.40];\n",
    "nstep = 100;\n",
    "nexchange = 20;\n",
    "Perm=collect(permutations(1:nreplica))\n",
    "nperm=factorial(nreplica)\n",
    "nweight=factorial(nreplica-1)\n",
    "mu=0.0\n",
    "rou=ones(Float64,nperm)\n",
    "diffV_t=zeros(Float64,nreplica)\n",
    "select_perm=1\n",
    "pai(x,T)=exp.(-V(x,k=1.0)./T)\n",
    "\n",
    "m2i = collect(1:nreplica)\n",
    "i2m = collect(1:nreplica)\n",
    "\n",
    "x_replica = []\n",
    "for i = 1:nreplica\n",
    "    x = [0.0]\n",
    "    push!(x_replica, x)\n",
    "end\n",
    "\n",
    "io_xreplica = []\n",
    "for i = 1:nreplica\n",
    "    filename = \"x_replica$(i).dat\"\n",
    "    io = open(filename, \"w\")\n",
    "    push!(io_xreplica, io)\n",
    "end\n",
    "\n",
    "io_replica = []\n",
    "for i = 1:nreplica\n",
    "    filename = \"replica$(i).dat\"\n",
    "    io = open(filename, \"w\")\n",
    "    push!(io_replica, io)\n",
    "end\n",
    "\n",
    "io_weight=[]\n",
    "for m = 1:nreplica\n",
    "    filename = \"weight$(m).dat\"\n",
    "    io = open(filename, \"w\")\n",
    "    push!(io_weight, io)\n",
    "end\n",
    "io_weight2=[]\n",
    "for m = 1:nreplica\n",
    "    filename = \"weight_$(m).dat\"\n",
    "    io = open(filename, \"w\")\n",
    "    push!(io_weight2, io)\n",
    "end\n",
    "\n",
    "\n",
    "\n",
    "icount = 0\n",
    "acceptance_ratio = 0.0\n",
    "rou=make_rou(x_replica,temperature_replica,Perm,nperm,nreplica,rou) #今回のMCMCで置換の重みを計算\n",
    "   \n",
    "for iexchange = 1:nexchange\n",
    "    select_perm=select_permutation(rou)  \n",
    "    update_index(select_perm,Perm,i2m,m2i)　#選ばれた置換に応じてm2i i2mを更新\n",
    "    \n",
    "    \n",
    "    for i = 1:nreplica\n",
    "        #x_replica[i] = propagate_mcmc(y -> V(y, k=1.0), proposal_fun, x_replica[i], temperature_replica[i2m[i]], nstep=nstep, io=io_replica[i]);\n",
    "         x_replica[i] = propagate_mcmc(y -> V(y, k=1.0), proposal_fun, x_replica[i], temperature_replica[Perm[select_perm][i]], nstep=1, io=io_replica[i]);    \n",
    "         @printf(io_xreplica[i],\"%f \",x_replica[i][1])\n",
    "         @printf(io_xreplica[i],\"\\n\")\n",
    "   \n",
    "    end\n",
    "    # do exchange\n",
    "    # acceptance_ratio += exchange_temperature!(m2i, i2m, icount, x_replica, y -> V(y, k=1.0), temperature_replica)\n",
    "    \n",
    "    rou=make_rou(x_replica,temperature_replica,Perm,nperm,nreplica,rou) #ρの更新\n",
    "\n",
    "   \n",
    "    \n",
    "    for Tindex=1:nreplica\n",
    "        save_weight2!(nreplica,nperm,Perm,rou,io_weight[Tindex],Tindex)\n",
    "    save_weight!(nreplica,nperm,Perm,rou,io_weight2[Tindex],Tindex,output_weight::Function)\n",
    "    \n",
    "    end\n",
    "    \n",
    "end\n",
    "for i = 1:nreplica\n",
    "    close(io_replica[i])\n",
    "    close(io_weight[i])\n",
    "    close(io_weight2[i])\n",
    "    close(io_xreplica[i])\n",
    "end\n",
    "\n",
    "#acceptance_ratio = acceptance_ratio / nexchange"
   ]
  },
  {
   "cell_type": "markdown",
   "metadata": {},
   "source": [
    "### Trajectory analysis"
   ]
  },
  {
   "cell_type": "code",
   "execution_count": 22,
   "metadata": {},
   "outputs": [],
   "source": [
    "traj_replica = []\n",
    "temp_replica = []\n",
    "\n",
    "for i = 1:nreplica\n",
    "    filename = \"replica$(i).dat\"\n",
    "    data = readdlm(filename);\n",
    "    push!(temp_replica, data[:, 1])\n",
    "    push!(traj_replica, data[:, 2])\n",
    "end"
   ]
  },
  {
   "cell_type": "code",
   "execution_count": 23,
   "metadata": {},
   "outputs": [],
   "source": [
    "rou_Tindex = []\n",
    "x_rep=[]\n",
    "x_rou=[]\n",
    "\n",
    "\n",
    "for i = 1:nreplica\n",
    "    filename = \"weight$(i).dat\"\n",
    "    data = readdlm(filename);\n",
    "    push!(rou_Tindex, data[:, i])\n",
    "end\n",
    "\n",
    "for i = 1:nreplica\n",
    "    filename = \"x_replica$(i).dat\"\n",
    "    data = readdlm(filename);\n",
    "    push!(x_rep, data[:, 1])\n",
    "  \n",
    "end\n",
    "\n",
    "for i = 1:nreplica\n",
    "    x = zeros(Float64,nexchange)\n",
    "    push!(x_rou, x)\n",
    "end\n",
    "\n",
    "\n",
    "\n",
    "for i=1:nreplica\n",
    "    for j =1:nexchange\n",
    "    x_rou[i][j]=x_rep[i][j]*rou_Tindex[i][j]\n",
    "    end \n",
    "end\n"
   ]
  },
  {
   "cell_type": "code",
   "execution_count": 24,
   "metadata": {},
   "outputs": [
    {
     "data": {
      "text/plain": [
       "4-element Array{Any,1}:\n",
       " [7.332147e-6, 1.8987400000000004e-5, 0.0, 0.0, 0.0, 0.0, 0.0, 0.0, 0.0, 0.0, 0.0, 0.0, 0.0, 0.0, 0.0, 0.0, 0.0, 0.0, 0.0, 0.0]                                                                                                                                                                                                                                                   \n",
       " [-0.00078423732, -0.00011317119, -4.2181989e-5, -4.4681732000000004e-5, -5.6337836e-5, -0.0, -0.0, -0.0, -0.0, -0.0, -0.0, -0.0, -0.0, -0.0, -0.0, -0.0, -0.0, -0.0, -0.0, -0.0]                                                                                                                                                                                                 \n",
       " [0.117798653352, 0.340312746114, 0.279748967284, 0.22668056138800002, 0.17633522016, 0.23279972284800002, 0.356274596958, 0.15580119139200002, -0.11866111075, 0.0010930768729999999, 0.255314538645, -0.13129150839200002, -0.310334478609, -0.200265607168, -0.209326734241, -0.518500336515, -0.348138577821, -0.497845193566, -0.479546284826, -0.5315493714180001]          \n",
       " [0.134905519764, 0.256836143872, 0.222897737216, 0.223707173085, 0.249238798875, 0.614445572749, 0.2585731824, 0.24648432761400002, 0.143165250858, 0.09509420395500001, 0.078845449752, 0.014261501364000001, 0.0021815928259999997, 0.0019224642920000002, 0.0025085116130000003, 0.0046440323560000005, 0.00938397665, -0.001686750379, -0.017051375532, -0.07153284972599999]"
      ]
     },
     "execution_count": 24,
     "metadata": {},
     "output_type": "execute_result"
    }
   ],
   "source": [
    "x_rou\n"
   ]
  },
  {
   "cell_type": "code",
   "execution_count": 25,
   "metadata": {},
   "outputs": [
    {
     "data": {
      "image/png": "[encoded data removed]",
      "text/plain": [
       "Figure(PyObject <Figure size 800x600 with 1 Axes>)"
      ]
     },
     "metadata": {},
     "output_type": "display_data"
    }
   ],
   "source": [
    "fig, ax = subplots(figsize=(8, 6))\n",
    "for i = 1:nreplica\n",
    "    ax.plot(traj_replica[i], linewidth=0.5)   \n",
    "end\n",
    "xlabel(\"step\",fontsize=20)\n",
    "ylabel(\"x(step)\",fontsize=20)\n",
    "\n",
    "ax.legend([\"replica 1\", \"replica 2\", \"replica 3\", \"replica 4\"])\n",
    "tight_layout()"
   ]
  },
  {
   "cell_type": "code",
   "execution_count": 26,
   "metadata": {},
   "outputs": [
    {
     "data": {
      "text/plain": [
       "sort_traj (generic function with 1 method)"
      ]
     },
     "execution_count": 26,
     "metadata": {},
     "output_type": "execute_result"
    }
   ],
   "source": [
    "\n",
    "# sort trajectories according to temperature\n",
    "function sort_traj(traj_replica, temp_replica)\n",
    "    traj_sorted = deepcopy(traj_replica)\n",
    "    temp_sorted = deepcopy(temp_replica)\n",
    "    nframe = size(traj_replica[1], 1)\n",
    "    for iframe = 1:nframe\n",
    "        temp_snapshot = map(x -> x[iframe], temp_replica)\n",
    "        p = sortperm(temp_snapshot)\n",
    "        for m = 1:nreplica\n",
    "            traj_sorted[m][iframe, :] .= traj_replica[p[m]][iframe, :]\n",
    "            temp_sorted[m][iframe, :] .= temp_replica[p[m]][iframe, :]\n",
    "        end\n",
    "    end\n",
    "    return traj_sorted, temp_sorted\n",
    "end"
   ]
  },
  {
   "cell_type": "code",
   "execution_count": 27,
   "metadata": {},
   "outputs": [],
   "source": [
    "#traj_sorted, temp_sorted = sort_traj(traj_replica, temp_replica)"
   ]
  },
  {
   "cell_type": "code",
   "execution_count": 28,
   "metadata": {},
   "outputs": [],
   "source": [
    "#temp_sorted[1]"
   ]
  },
  {
   "cell_type": "code",
   "execution_count": 29,
   "metadata": {},
   "outputs": [
    {
     "ename": "UndefVarError",
     "evalue": "UndefVarError: traj_sorted not defined",
     "output_type": "error",
     "traceback": [
      "UndefVarError: traj_sorted not defined",
      "",
      "Stacktrace:",
      " [1] top-level scope at ./In[29]:3"
     ]
    }
   ],
   "source": [
    "fig, ax = subplots(figsize=(8, 6))\n",
    "for i = 1:nreplica\n",
    "    ax.plot(traj_sorted[i], linewidth=0.5)   \n",
    "end\n",
    "xlabel(\"step\",fontsize=20)\n",
    "ylabel(\"x(step)\",fontsize=20)\n",
    "\n",
    "ax.legend([\"temperature 1\", \"temperature 2\", \"temperature 3\", \"temperature 4\"])\n",
    "tight_layout()"
   ]
  },
  {
   "cell_type": "code",
   "execution_count": 30,
   "metadata": {},
   "outputs": [],
   "source": [
    "x_grid = range(-1.3, 1.3, length=100);\n",
    "pmf_theory = V.(x_grid, k=1) ./ temperature_replica[1]\n",
    "pmf_theory .= pmf_theory .- minimum(pmf_theory);"
   ]
  },
  {
   "cell_type": "code",
   "execution_count": 31,
   "metadata": {},
   "outputs": [],
   "source": [
    "pmf_observed, _ = getpmf(x_rou[1], grid_x = collect(x_grid), bandwidth=0.05);\n",
    "#trag_sortの代わりに x_replica[1]*weight\n",
    "\n"
   ]
  },
  {
   "cell_type": "code",
   "execution_count": 32,
   "metadata": {},
   "outputs": [
    {
     "data": {
      "image/png": "[encoded data removed]",
      "text/plain": [
       "Figure(PyObject <Figure size 800x600 with 1 Axes>)"
      ]
     },
     "metadata": {},
     "output_type": "display_data"
    }
   ],
   "source": [
    "fig, ax = subplots(figsize=(8, 6))\n",
    "ax.plot(x_grid, pmf_theory, linewidth=3)\n",
    "xlabel(\"x\",fontsize=20)\n",
    "ylabel(\"PMF (KBT)\",fontsize=20)\n",
    "\n",
    "ax.plot(x_grid, pmf_observed, linewidth=3)\n",
    "\n",
    "ax.legend([\"theory\", \"observed\"])\n",
    "\n",
    "ax.xaxis.set_tick_params(which=\"major\",labelsize=15)\n",
    "ax.yaxis.set_tick_params(which=\"major\",labelsize=15)\n",
    "ax.grid(linestyle=\"--\", linewidth=0.5)\n",
    "tight_layout()\n",
    "savefig(\"mcmc_replica_exchange.png\", dpi=350)"
   ]
  },
  {
   "cell_type": "code",
   "execution_count": null,
   "metadata": {},
   "outputs": [],
   "source": []
  }
 ],
 "metadata": {
  "kernelspec": {
   "display_name": "Julia 1.2.0",
   "language": "julia",
   "name": "julia-1.2"
  },
  "language_info": {
   "file_extension": ".jl",
   "mimetype": "application/julia",
   "name": "julia",
   "version": "1.2.0"
  }
 },
 "nbformat": 4,
 "nbformat_minor": 4
}
